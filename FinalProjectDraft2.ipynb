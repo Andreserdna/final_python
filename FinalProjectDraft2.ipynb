{
 "cells": [
  {
   "cell_type": "markdown",
   "metadata": {},
   "source": [
    "# Configuring pandas"
   ]
  },
  {
   "cell_type": "code",
   "execution_count": 1,
   "metadata": {
    "scrolled": true
   },
   "outputs": [
    {
     "name": "stderr",
     "output_type": "stream",
     "text": [
      "/home/atamayo/anaconda3/envs/adv_pythonFinal/lib/python3.7/site-packages/ipykernel_launcher.py:5: FutureWarning: pandas.util.testing is deprecated. Use the functions in the public API at pandas.testing instead.\n",
      "  \"\"\"\n"
     ]
    }
   ],
   "source": [
    "# import numpy and pandas\n",
    "import numpy as np\n",
    "import pandas as pd\n",
    "import os.path\n",
    "from pandas.util.testing import assert_frame_equal\n",
    "import csv\n",
    "\n",
    "# used for handling dates\n",
    "import datetime\n",
    "from datetime import datetime, date,timedelta\n",
    "\n",
    "# bring in matplotlib for graphics\n",
    "import matplotlib.pyplot as plt\n",
    "%matplotlib inline\n",
    "\n",
    "# Set formattign options\n",
    "pd.set_option('display.notebook_repr_html', True)\n",
    "pd.set_option('display.max_columns', 7)\n",
    "pd.set_option('display.max_rows', 10)\n",
    "pd.set_option('display.width', 60)"
   ]
  },
  {
   "cell_type": "markdown",
   "metadata": {},
   "source": [
    "# Request ticker name from user and generate list of trading days"
   ]
  },
  {
   "cell_type": "code",
   "execution_count": 2,
   "metadata": {
    "scrolled": true
   },
   "outputs": [
    {
     "name": "stdout",
     "output_type": "stream",
     "text": [
      "Enter ticker name: TSLA\n",
      "<class 'str'>\n"
     ]
    }
   ],
   "source": [
    "userTicker = input(\"Enter ticker name: \")\n",
    "weekdays = ['Monday', 'Tuesday', 'Wednesday', 'Thursday', 'Friday']\n",
    "print(type(userTicker))"
   ]
  },
  {
   "cell_type": "code",
   "execution_count": 3,
   "metadata": {},
   "outputs": [
    {
     "name": "stdout",
     "output_type": "stream",
     "text": [
      "Ente the day name for market close ex :Monday\n"
     ]
    }
   ],
   "source": [
    "#Request the closing day name from user\n",
    "daynameTemp = str(input(\"Ente the day name for market close ex :\"))"
   ]
  },
  {
   "cell_type": "code",
   "execution_count": 4,
   "metadata": {},
   "outputs": [],
   "source": [
    "# Function to select trading day and return date in correct date format \n",
    "def get_previous_byday(dayname, start_date=None):\n",
    "    if start_date is None:\n",
    "        start_date = datetime.today()\n",
    "        day_num = start_date.weekday()\n",
    "        day_num_target = weekdays.index(dayname)\n",
    "        days_ago = (7 + day_num - day_num_target) % 7\n",
    "    if days_ago ==0 and start_date.hour >= 13:\n",
    "        return start_date\n",
    "    if days_ago == 0:\n",
    "        days_ago = 7\n",
    "    target_date = start_date - timedelta(days=days_ago)\n",
    "    return target_date"
   ]
  },
  {
   "cell_type": "code",
   "execution_count": 5,
   "metadata": {},
   "outputs": [
    {
     "name": "stdout",
     "output_type": "stream",
     "text": [
      "This is the target date: 2020-05-18 21:57:24.134604\n"
     ]
    }
   ],
   "source": [
    "#Display the target close date to user\n",
    "print(\"This is the target date:\", get_previous_byday(daynameTemp))\n",
    "dateText = get_previous_byday(daynameTemp)"
   ]
  },
  {
   "cell_type": "code",
   "execution_count": 6,
   "metadata": {},
   "outputs": [],
   "source": [
    "#Create Year, Month, Day date variable\n",
    "myYear = str(dateText.year)\n",
    "myMonth = str(dateText.month)\n",
    "myDay = str(dateText.day)"
   ]
  },
  {
   "cell_type": "markdown",
   "metadata": {},
   "source": [
    "# Input stock ticker names from a csv file"
   ]
  },
  {
   "cell_type": "code",
   "execution_count": 7,
   "metadata": {
    "scrolled": false
   },
   "outputs": [
    {
     "name": "stdout",
     "output_type": "stream",
     "text": [
      "File found\n"
     ]
    }
   ],
   "source": [
    "#CSV file is read from current working directory\n",
    "#Import os to use abs file path\n",
    "import os\n",
    "\n",
    "#user current dir\n",
    "cwd = os.getcwd()\n",
    "\n",
    "new_u_file = 'complete_ticker_list.csv'\n",
    "\n",
    "#complete path file\n",
    "abs_file_path = os.path.join(cwd,new_u_file)\n",
    "\n",
    "if os.path.isfile(abs_file_path):\n",
    "    print(\"File found\")\n",
    "try:\n",
    "    fhand = open(abs_file_path, 'r')\n",
    "except:\n",
    "    print('File cannot be opened:', new_u_file)\n",
    "    #exit()\n",
    "\n",
    "tickers = list()\n",
    "for line in fhand:\n",
    "    line = line.rstrip()\n",
    "    if len(line) == 0 : continue\n",
    "    tickers.append(line)"
   ]
  },
  {
   "cell_type": "code",
   "execution_count": 8,
   "metadata": {},
   "outputs": [
    {
     "name": "stdout",
     "output_type": "stream",
     "text": [
      "['TIX_symbols', 'AACG', 'AAL', 'AAME', 'AAOI', 'AAON', 'AAPL', 'AAWW', 'AAXJ', 'AAXN', 'ABCB', 'ABEO', 'ABIO', 'ABMD', 'ABTX', 'ABUS', 'ACAD', 'ACAM', 'ACAMU', 'ACAMW', 'ACBI', 'ACCP', 'ACER', 'ACGL', 'ACGLO', 'ACGLP', 'ACHC', 'ACHV', 'ACIA', 'ACIU', 'ACIW', 'ACLS', 'ACMR', 'ACNB', 'ACOR', 'ACRS', 'ACRX', 'ACST', 'ACT', 'ACTG', 'ACTT', 'ACTTU', 'ACTTW', 'ACWI', 'ACWX', 'ADAP', 'ADBE', 'ADES', 'ADI', 'ADIL', 'ADILW', 'ADMA', 'ADMP', 'ADMS', 'ADP', 'ADPT', 'ADRE', 'ADRO', 'ADSK', 'ADTN', 'ADUS', 'ADVM', 'ADXN', 'ADXS', 'AEGN', 'AEHR', 'AEIS', 'AEMD', 'AERI', 'AESE', 'AEY', 'AEYE', 'AEZS', 'AFH', 'AFIN', 'AFINP', 'AFMD', 'AFYA', 'AGBA', 'AGBAR', 'AGBAU', 'AGBAW', 'AGEN', 'AGFS', 'AGFSW', 'AGIO', 'AGLE', 'AGMH', 'AGNC', 'AGNCM', 'AGNCN', 'AGNCO', 'AGNCP', 'AGND', 'AGRX', 'AGTC', 'AGYS', 'AGZD', 'AHCO', 'AHI', 'AHPI', 'AIA', 'AIH', 'AIHS', 'AIKI', 'AIMC', 'AIMT', 'AINV', 'AIQ', 'AIRG', 'AIRR', 'AIRT', 'AIRTP', 'AIRTW', 'AKAM', 'AKBA', 'AKCA', 'AKER', 'AKRO', 'AKRX', 'AKTS', 'AKTX', 'ALAC', 'ALACR', 'ALACU', 'ALACW', 'ALBO', 'ALCO', 'ALDX', 'ALEC', 'ALGN', 'ALGT', 'ALIM', 'ALIT', 'ALJJ', 'ALKS', 'ALLK', 'ALLO', 'ALLT', 'ALNA', 'ALNY', 'ALOT', 'ALPN', 'ALRM', 'ALRN', 'ALRS', 'ALSK', 'ALT', 'ALTM', 'ALTR', 'ALTY', 'ALXN', 'ALYA', 'AMAG', 'AMAL', 'AMAT', 'AMBA', 'AMBC', 'AMCA', 'AMCI', 'AMCIU', 'AMCIW', 'AMCX', 'AMD', 'AMED', 'AMEH', 'AMGN', 'AMHC', 'AMHCU', 'AMHCW', 'AMKR', 'AMNB', 'AMOT', 'AMOV', 'AMPH', 'AMRB', 'AMRH', 'AMRHW', 'AMRK', 'AMRN', 'AMRS', 'AMSC', 'AMSF', 'AMSWA', 'AMTB', 'AMTBB', 'AMTD', 'AMTX', 'AMWD', 'AMZN', 'ANAB', 'ANAT', 'ANCN', 'ANDA', 'ANDAR', 'ANDAU', 'ANDAW', 'ANDE', 'ANGI', 'ANGL', 'ANGO', 'ANIK', 'ANIP', 'ANIX', 'ANPC', 'ANSS', 'ANTE', 'ANY', 'AOBC', 'AOSL', 'APDN', 'APEI', 'APEN', 'APEX', 'APLS', 'APLT', 'APM', 'APOG', 'APOP', 'APOPW', 'APPF', 'APPN', 'APPS', 'APRE', 'APTO', 'APTX', 'APVO', 'APWC', 'APXT', 'APXTU', 'APXTW', 'APYX', 'AQB', 'AQMS', 'AQST', 'ARAV', 'ARAY', 'ARCB', 'ARCC', 'ARCE', 'ARCT', 'ARDS', 'ARDX', 'AREC', 'ARGX', 'ARKR', 'ARLP', 'ARNA', 'AROW', 'ARPO', 'ARQT', 'ARTL', 'ARTLW', 'ARTNA', 'ARTW', 'ARVN', 'ARWR', 'ARYA', 'ARYAU', 'ARYAW', 'ASET', 'ASFI', 'ASLN', 'ASMB', 'ASML', 'ASNA', 'ASND', 'ASPS', 'ASPU', 'ASRT', 'ASRV', 'ASRVP', 'ASTC', 'ASTE', 'ASUR', 'ASYS', 'ATAX', 'ATCX', 'ATCXW', 'ATEC', 'ATEX', 'ATHE', 'ATHX', 'ATIF', 'ATLC', 'ATLO', 'ATNI', 'ATNX', 'ATOM', 'ATOS', 'ATRA', 'ATRC', 'ATRI', 'ATRO', 'ATRS', 'ATSG', 'ATVI', 'ATXI', 'AUB', 'AUBN', 'AUDC', 'AUPH', 'AUTL', 'AUTO', 'AVAV', 'AVCO', 'AVCT', 'AVCTW', 'AVDL', 'AVEO', 'AVGO', 'AVGOP', 'AVGR', 'AVID', 'AVNW', 'AVRO', 'AVT', 'AVXL', 'AWRE', 'AXAS', 'AXDX', 'AXGN', 'AXGT', 'AXLA', 'AXNX', 'AXSM', 'AXTI', 'AY', 'AYTU', 'AZPN', 'AZRX', 'BAND', 'BANF', 'BANFP', 'BANR', 'BANX', 'BASI', 'BATRA', 'BATRK', 'BBBY', 'BBC', 'BBCP', 'BBGI', 'BBH', 'BBI', 'BBIO', 'BBP', 'BBQ', 'BBRX', 'BBSI', 'BCBP', 'BCDA', 'BCDAW', 'BCEL', 'BCLI', 'BCML', 'BCOM', 'BCOR', 'BCOV', 'BCOW', 'BCPC', 'BCRX', 'BCTF', 'BCTX', 'BCYC', 'BDGE', 'BDSI', 'BDTX', 'BEAM', 'BEAT', 'BECN', 'BELFA', 'BELFB', 'BFC', 'BFIN', 'BFIT', 'BFRA', 'BFST', 'BFYT', 'BGCP', 'BGFV', 'BGNE', 'BGRN', 'BHAT', 'BHF', 'BHFAL', 'BHFAP', 'BHTG', 'BIB', 'BICK', 'BIDU', 'BIIB', 'BILI', 'BIMI', 'BIOC', 'BIOL', 'BIS', 'BIVI', 'BJK', 'BJRI', 'BKCC', 'BKEP', 'BKEPP', 'BKNG', 'BKSC', 'BKYI', 'BL', 'BLBD', 'BLCM', 'BLCN', 'BLDP', 'BLDR', 'BLFS', 'BLIN', 'BLKB', 'BLMN', 'BLNK', 'BLNKW', 'BLPH', 'BLRX', 'BLU', 'BLUE', 'BMCH', 'BMLP', 'BMRA', 'BMRC', 'BMRN', 'BMTC', 'BND', 'BNDW', 'BNDX', 'BNFT', 'BNGO', 'BNGOW', 'BNSO', 'BNTC', 'BNTX', 'BOCH', 'BOKF', 'BOKFL', 'BOMN', 'BOOM', 'BOSC', 'BOTJ', 'BOTZ', 'BOXL', 'BPFH', 'BPMC', 'BPOP', 'BPOPM', 'BPOPN', 'BPRN', 'BPTH', 'BPY', 'BPYPN', 'BPYPO', 'BPYPP', 'BPYU', 'BPYUP', 'BREW', 'BRID', 'BRKL', 'BRKR', 'BRKS', 'BROG', 'BROGW', 'BRP', 'BRPA', 'BRPAR', 'BRPAU', 'BRPAW', 'BRQS', 'BRY', 'BSAE', 'BSBE', 'BSBK', 'BSCE', 'BSCK', 'BSCL', 'BSCM', 'BSCN', 'BSCO', 'BSCP', 'BSCQ', 'BSCR', 'BSCS', 'BSCT', 'BSDE', 'BSET', 'BSGM', 'BSJK', 'BSJL', 'BSJM', 'BSJN', 'BSJO', 'BSJP', 'BSJQ', 'BSJR', 'BSML', 'BSMM', 'BSMN', 'BSMO', 'BSMP', 'BSMQ', 'BSMR', 'BSMS', 'BSMT', 'BSQR', 'BSRR', 'BSTC', 'BSVN', 'BTAI', 'BTEC', 'BUG', 'BUSE', 'BVSN', 'BVXV', 'BVXVW', 'BWAY', 'BWB', 'BWEN', 'BWFG', 'BWMX', 'BXRX', 'BYFC', 'BYND', 'BYSI', 'BZUN', 'CAAS', 'CABA', 'CAC', 'CACC', 'CACG', 'CAKE', 'CALA', 'CALB', 'CALM', 'CAMP', 'CAMT', 'CAN', 'CAPR', 'CAR', 'CARA', 'CARE', 'CARG', 'CARV', 'CARZ', 'CASA', 'CASH', 'CASI', 'CASS', 'CASY', 'CATB', 'CATC', 'CATH', 'CATM', 'CATS', 'CATY', 'CBAN', 'CBAT', 'CBAY', 'CBFV', 'CBIO', 'CBLI', 'CBMB', 'CBMG', 'CBNK', 'CBOE', 'CBPO', 'CBRL', 'CBSH', 'CBSHP', 'CBTX', 'CCAP', 'CCB', 'CCBG', 'CCCL', 'CCD', 'CCLP', 'CCMP', 'CCNE', 'CCOI', 'CCRC', 'CCRN', 'CCXI', 'CDC', 'CDEV', 'CDK', 'CDL', 'CDLX', 'CDMO', 'CDMOP', 'CDNA', 'CDNS', 'CDOR', 'CDTX', 'CDW', 'CDXC', 'CDXS', 'CDZI', 'CECE', 'CELC', 'CELH', 'CEMI', 'CENT', 'CENTA', 'CENX', 'CERC', 'CERN', 'CERS', 'CETV', 'CETX', 'CETXP', 'CETXW', 'CEVA', 'CEY', 'CEZ', 'CFA', 'CFB', 'CFBI', 'CFBK', 'CFFA', 'CFFAU', 'CFFAW', 'CFFI', 'CFFN', 'CFMS', 'CFO', 'CFRX', 'CG', 'CGBD', 'CGEN', 'CGIX', 'CGNX', 'CGO', 'CGROU', 'CHCI', 'CHCO', 'CHDN', 'CHEF', 'CHEK', 'CHEKZ', 'CHFS', 'CHI', 'CHIC', 'CHKP', 'CHMA', 'CHMG', 'CHNA', 'CHNG', 'CHNGU', 'CHNR', 'CHPM', 'CHPMU', 'CHPMW', 'CHRS', 'CHRW', 'CHSCL', 'CHSCM', 'CHSCN', 'CHSCO', 'CHSCP', 'CHTR', 'CHUY', 'CHW', 'CHY', 'CIBR', 'CID', 'CIDM', 'CIFS', 'CIGI', 'CIH', 'CIIC', 'CIICU', 'CIICW', 'CIL', 'CINF', 'CIVB', 'CIZ', 'CIZN', 'CJJD', 'CKPT', 'CLAR', 'CLBK', 'CLBS', 'CLCT', 'CLDB', 'CLDX', 'CLFD', 'CLGN', 'CLIR', 'CLLS', 'CLMT', 'CLNE', 'CLOU', 'CLPS', 'CLPT', 'CLRB', 'CLRBZ', 'CLRG', 'CLRO', 'CLSD', 'CLSK', 'CLSN', 'CLUB', 'CLVS', 'CLWT', 'CLXT', 'CMBM', 'CMCO', 'CMCSA', 'CMCT', 'CMCTP', 'CME', 'CMFNL', 'CMLS', 'CMPR', 'CMRX', 'CMTL', 'CNAT', 'CNBKA', 'CNCE', 'CNCR', 'CNDT', 'CNET', 'CNFR', 'CNFRL', 'CNMD', 'CNNB', 'CNOB', 'CNSL', 'CNSP', 'CNST', 'CNTG', 'CNTX', 'CNTY', 'CNXN', 'COCP', 'CODA', 'CODX', 'COFS', 'COHR', 'COHU', 'COKE', 'COLB', 'COLL', 'COLM', 'COMM', 'COMT', 'CONE', 'CONN', 'COOP', 'CORE', 'CORT', 'CORV', 'COST', 'COUP', 'COWN', 'COWNL', 'COWNZ', 'CPAA', 'CPAAU', 'CPAAW', 'CPAH', 'CPHC', 'CPIX', 'CPLP', 'CPRT', 'CPRX', 'CPSH', 'CPSI', 'CPSS', 'CPST', 'CPTA', 'CPTAG', 'CPTAL', 'CPTI', 'CPZ', 'CRAI', 'CRBP', 'CREE', 'CREG', 'CRESY', 'CREX', 'CREXW', 'CRIS', 'CRMT', 'CRNC', 'CRNT', 'CRNX', 'CRON', 'CROX', 'CRSA', 'CRSAU', 'CRSAW', 'CRSP', 'CRTO', 'CRTX', 'CRUS', 'CRVL', 'CRVS', 'CRWD', 'CRWS', 'CSA', 'CSB', 'CSBR', 'CSCO', 'CSF', 'CSFL', 'CSGP', 'CSGS', 'CSII', 'CSIQ', 'CSML', 'CSOD', 'CSPI', 'CSQ', 'CSSE', 'CSSEP', 'CSTE', 'CSTL', 'CSTR', 'CSWC', 'CSWCL', 'CSWI', 'CSX', 'CTAS', 'CTBI', 'CTG', 'CTHR', 'CTIB', 'CTIC', 'CTMX', 'CTRC', 'CTRE', 'CTRM', 'CTRN', 'CTSH', 'CTSO', 'CTXR', 'CTXRW', 'CTXS', 'CUBA', 'CUE', 'CUI', 'CUTR', 'CVBF', 'CVCO', 'CVCY', 'CVET', 'CVGI', 'CVGW', 'CVLT', 'CVLY', 'CVTI', 'CVV', 'CWBC', 'CWBR', 'CWCO', 'CWST', 'CXDC', 'CXSE', 'CYAD', 'CYAN', 'CYBE', 'CYBR', 'CYCC', 'CYCCP', 'CYCN', 'CYRN', 'CYRX', 'CYRXW', 'CYTK', 'CZNC', 'CZR', 'CZWI', 'DAIO', 'DAKT', 'DALI', 'DARE', 'DAX', 'DBVT', 'DBX', 'DCAR', 'DCOM', 'DCOMP', 'DCPH', 'DCTH', 'DDIV', 'DDOG', 'DENN', 'DFFN', 'DFNL', 'DFPH', 'DFPHU', 'DFPHW', 'DFVL', 'DFVS', 'DGICA', 'DGICB', 'DGII', 'DGLD', 'DGLY', 'DGRE', 'DGRS', 'DGRW', 'DHC', 'DHCNI', 'DHCNL', 'DHIL', 'DINT', 'DIOD', 'DISCA', 'DISCB', 'DISCK', 'DISH', 'DJCO', 'DKNG', 'DKNGW', 'DLHC', 'DLPN', 'DLPNW', 'DLTH', 'DLTR', 'DMAC', 'DMLP', 'DMPI', 'DMRC', 'DMTK', 'DNJR', 'DNKN', 'DNLI', 'DOCU', 'DOGZ', 'DOMO', 'DOOO', 'DORM', 'DOX', 'DOYU', 'DPHC', 'DPHCU', 'DPHCW', 'DRAD', 'DRADP', 'DRIO', 'DRIOW', 'DRIV', 'DRMT', 'DRNA', 'DRRX', 'DRTT', 'DSGX', 'DSKE', 'DSKEW', 'DSLV', 'DSPG', 'DSWL', 'DTEA', 'DTIL', 'DTSS', 'DTUL', 'DTUS', 'DTYL', 'DUO', 'DUOT', 'DUSA', 'DVAX', 'DVLU', 'DVOL', 'DVY', 'DWAS', 'DWAT', 'DWAW', 'DWCR', 'DWEQ', 'DWFI', 'DWLD', 'DWMC', 'DWPP', 'DWSH', 'DWSN', 'DWUS', 'DXCM', 'DXGE', 'DXJS', 'DXLG', 'DXPE', 'DXYN', 'DYAI', 'DYNT', 'DZSI', 'EA', 'EARS', 'EAST', 'EBAY', 'EBAYL', 'EBIX', 'EBIZ', 'EBMT', 'EBSB', 'EBTC', 'ECHO', 'ECOL', 'ECOLW', 'ECOR', 'ECOW', 'ECPG', 'EDAP', 'EDIT', 'EDNT', 'EDRY', 'EDSA', 'EDUC', 'EEFT', 'EEMA', 'EFAS', 'EFOI', 'EFSC', 'EGAN', 'EGBN', 'EGHT', 'EGLE', 'EGOV', 'EGRX', 'EH', 'EHR', 'EHTH', 'EIDX', 'EIGI', 'EIGR', 'EKSO', 'ELGX', 'ELOX', 'ELSE', 'ELTK', 'EMB', 'EMCB', 'EMCF', 'EMCG', 'EMIF', 'EMKR', 'EML', 'EMMS', 'EMXC', 'ENDP', 'ENG', 'ENLV', 'ENOB', 'ENPH', 'ENSG', 'ENT', 'ENTA', 'ENTG', 'ENTX', 'ENTXW', 'ENZL', 'EOLS', 'EPAY', 'EPIX', 'EPSN', 'EPZM', 'EQ', 'EQBK', 'EQIX', 'EQRR', 'ERI', 'ERIC', 'ERIE', 'ERII', 'ERYP', 'ESBK', 'ESCA', 'ESEA', 'ESG', 'ESGD', 'ESGE', 'ESGG', 'ESGR', 'ESGRO', 'ESGRP', 'ESGU', 'ESLT', 'ESPO', 'ESPR', 'ESQ', 'ESSA', 'ESSC', 'ESSCR', 'ESSCU', 'ESSCW', 'ESTA', 'ESXB', 'ETFC', 'ETNB', 'ETON', 'ETSY', 'ETTX', 'EUFN', 'EVBG', 'EVER', 'EVFM', 'EVGBC', 'EVGN', 'EVK', 'EVLMC', 'EVLO', 'EVOK', 'EVOL', 'EVOP', 'EVSI', 'EVSIW', 'EVSTC', 'EWBC', 'EWJE', 'EWJV', 'EWZS', 'EXAS', 'EXC', 'EXEL', 'EXFO', 'EXLS', 'EXPC', 'EXPCU', 'EXPCW', 'EXPD', 'EXPE', 'EXPI', 'EXPO', 'EXTR', 'EYE', 'EYEG', 'EYEGW', 'EYEN', 'EYES', 'EYESW', 'EYPT', 'EZPW', 'FAAR', 'FAB', 'FAD', 'FALN', 'FAMI', 'FANG', 'FANH', 'FARM', 'FARO', 'FAST', 'FAT', 'FATE', 'FB', 'FBIO', 'FBIOP', 'FBIZ', 'FBMS', 'FBNC', 'FBSS', 'FBZ', 'FCA', 'FCAL', 'FCAN', 'FCAP', 'FCBC', 'FCBP', 'FCCO', 'FCCY', 'FCEF', 'FCEL', 'FCFS', 'FCNCA', 'FCNCP', 'FCVT', 'FDBC', 'FDEF', 'FDIV', 'FDNI', 'FDT', 'FDTS', 'FDUS', 'FDUSG', 'FDUSL', 'FDUSZ', 'FEIM', 'FELE', 'FEM', 'FEMB', 'FEMS', 'FENC', 'FEP', 'FEUZ', 'FEX', 'FEYE', 'FFBC', 'FFBW', 'FFHL', 'FFIC', 'FFIN', 'FFIV', 'FFNW', 'FFWM', 'FGBI', 'FGEN', 'FGM', 'FHB', 'FHK', 'FIBK', 'FID', 'FINX', 'FISI', 'FISV', 'FITB', 'FITBI', 'FITBO', 'FITBP', 'FIVE', 'FIVN', 'FIXD', 'FIXX', 'FIZZ', 'FJP', 'FKO', 'FKU', 'FLAT', 'FLDM', 'FLEX', 'FLGT', 'FLIC', 'FLIR', 'FLL', 'FLMN', 'FLMNW', 'FLN', 'FLNT', 'FLRZ', 'FLUX', 'FLWR', 'FLWS', 'FLXN', 'FLXS', 'FMAO', 'FMAX', 'FMB', 'FMBH', 'FMBI', 'FMCI', 'FMCIU', 'FMCIW', 'FMHI', 'FMK', 'FMNB', 'FNCB', 'FNHC', 'FNJN', 'FNK', 'FNKO', 'FNLC', 'FNWB', 'FNX', 'FNY', 'FOCS', 'FOLD', 'FONR', 'FORD', 'FORK', 'FORM', 'FORR', 'FORTY', 'FOSL', 'FOX', 'FOXA', 'FOXF', 'FPA', 'FPAY', 'FPRX', 'FPXE', 'FPXI', 'FRAF', 'FRAN', 'FRBA', 'FRBK', 'FREQ', 'FRG', 'FRGI', 'FRHC', 'FRME', 'FRPH', 'FRPT', 'FRSX', 'FRTA', 'FSBW', 'FSCT', 'FSEA', 'FSFG', 'FSLR', 'FSRV', 'FSRVU', 'FSRVW', 'FSTR', 'FSV', 'FSZ', 'FTA', 'FTAC', 'FTACU', 'FTACW', 'FTAG', 'FTC', 'FTCS', 'FTDR', 'FTEK', 'FTFT', 'FTGC', 'FTHI', 'FTLB', 'FTNT', 'FTRI', 'FTSL', 'FTSM', 'FTXD', 'FTXG', 'FTXH', 'FTXL', 'FTXN', 'FTXO', 'FTXR', 'FULC', 'FULT', 'FUNC', 'FUND', 'FUSB', 'FUTU', 'FUV', 'FV', 'FVC', 'FVCB', 'FVE', 'FWONA', 'FWONK', 'FWP', 'FWRD', 'FXNC', 'FYC', 'FYT', 'FYX', 'GABC', 'GAIA', 'GAIN', 'GAINL', 'GAINM', 'GALT', 'GAN', 'GARS', 'GASS', 'GBCI', 'GBDC', 'GBDCR', 'GBLI', 'GBLIL', 'GBLIZ', 'GBLK', 'GBT', 'GCBC', 'GDEN', 'GDS', 'GDYN', 'GDYNW', 'GEC', 'GECC', 'GECCL', 'GECCM', 'GECCN', 'GENC', 'GENE', 'GENY', 'GEOS', 'GERN', 'GEVO', 'GFED', 'GFN', 'GFNCP', 'GFNSL', 'GGAL', 'GH', 'GHIV', 'GHIVU', 'GHIVW', 'GHSI', 'GIFI', 'GIGE', 'GIGM', 'GIII', 'GILD', 'GILT', 'GLAD', 'GLADD', 'GLADL', 'GLBS', 'GLBZ', 'GLDD', 'GLDI', 'GLG', 'GLIBA', 'GLIBP', 'GLMD', 'GLNG', 'GLPG', 'GLPI', 'GLRE', 'GLUU', 'GLYC', 'GMAB', 'GMBL', 'GMBLW', 'GMDA', 'GMHI', 'GMHIU', 'GMHIW', 'GMLP', 'GMLPP', 'GNCA', 'GNFT', 'GNLN', 'GNMA', 'GNMK', 'GNOM', 'GNPX', 'GNRSU', 'GNSS', 'GNTX', 'GNTY', 'GNUS', 'GO', 'GOGL', 'GOGO', 'GOLD', 'GOOD', 'GOODM', 'GOODN', 'GOOG', 'GOOGL', 'GOSS', 'GPAQ', 'GPAQU', 'GPAQW', 'GPOR', 'GPP', 'GPRE', 'GPRO', 'GRBK', 'GRFS', 'GRID', 'GRIF', 'GRIL', 'GRIN', 'GRMN', 'GRNQ', 'GRNV', 'GRNVR', 'GRNVU', 'GRNVW', 'GROW', 'GRPN', 'GRTS', 'GRTX', 'GRVY', 'GRWG', 'GSBC', 'GSHD', 'GSIT', 'GSKY', 'GSM', 'GSMG', 'GSMGW', 'GSUM', 'GT', 'GTEC', 'GTHX', 'GTIM', 'GTLS', 'GTYH', 'GULF', 'GURE', 'GVP', 'GWGH', 'GWPH', 'GWRS', 'GXGX', 'GXGXU', 'GXGXW', 'GXTG', 'GYRO', 'HA', 'HAFC', 'HAIN', 'HALL', 'HALO', 'HAPP', 'HARP', 'HAS', 'HAYN', 'HBAN', 'HBANN', 'HBANO', 'HBCP', 'HBIO', 'HBMD', 'HBNC', 'HBP', 'HBT', 'HCAC', 'HCACU', 'HCACW', 'HCAP', 'HCAPZ', 'HCAT', 'HCCH', 'HCCHR', 'HCCHU', 'HCCHW', 'HCCI', 'HCCO', 'HCCOU', 'HCCOW', 'HCKT', 'HCM', 'HCSG', 'HDS', 'HDSN', 'HEAR', 'HEBT', 'HEES', 'HELE', 'HEPA', 'HERD', 'HERO', 'HEWG', 'HFBL', 'HFFG', 'HFWA', 'HGSH', 'HHHH', 'HHHHR', 'HHHHU', 'HHHHW', 'HHR', 'HHT', 'HIBB', 'HIFS', 'HIHO', 'HIMX', 'HJLI', 'HJLIW', 'HLAL', 'HLG', 'HLIO', 'HLIT', 'HLNE', 'HMHC', 'HMNF', 'HMST', 'HMSY', 'HMTV', 'HNDL', 'HNNA', 'HNRG', 'HOFT', 'HOLI', 'HOLX', 'HOMB', 'HONE', 'HOOK', 'HOPE', 'HOTH', 'HOVNP', 'HQI', 'HQY', 'HROW', 'HRTX', 'HRZN', 'HSDT', 'HSIC', 'HSII', 'HSKA', 'HSON', 'HSTM', 'HTBI', 'HTBK', 'HTBX', 'HTGM', 'HTHT', 'HTIA', 'HTLD', 'HTLF', 'HUBG', 'HUGE', 'HUIZ', 'HURC', 'HURN', 'HVBC', 'HWBK', 'HWC', 'HWCC', 'HWCPL', 'HWKN', 'HX', 'HYAC', 'HYACU', 'HYACW', 'HYLS', 'HYND', 'HYRE', 'HYXE', 'HYZD', 'HZNP', 'IAC', 'IART', 'IBB', 'IBCP', 'IBEX', 'IBKC', 'IBKCN', 'IBKCO', 'IBKCP', 'IBKR', 'IBOC', 'IBTA', 'IBTB', 'IBTD', 'IBTE', 'IBTF', 'IBTG', 'IBTH', 'IBTI', 'IBTJ', 'IBTX', 'IBUY', 'ICAD', 'ICBK', 'ICCC', 'ICCH', 'ICFI', 'ICHR', 'ICLK', 'ICLN', 'ICLR', 'ICMB', 'ICON', 'ICPT', 'ICUI', 'IDCC', 'IDEX', 'IDLB', 'IDN', 'IDRA', 'IDXG', 'IDXX', 'IDYA', 'IEA', 'IEAWW', 'IEC', 'IEF', 'IEI', 'IEP', 'IESC', 'IEUS', 'IFEU', 'IFGL', 'IFMK', 'IFRX', 'IFV', 'IGF', 'IGIB', 'IGIC', 'IGICW', 'IGLE', 'IGMS', 'IGOV', 'IGSB', 'IHRT', 'III', 'IIIN', 'IIIV', 'IIN', 'IIVI', 'IJT', 'IKNX', 'ILMN', 'ILPT', 'IMAB', 'IMAC', 'IMACW', 'IMBI', 'IMGN', 'IMKTA', 'IMMP', 'IMMR', 'IMMU', 'IMOS', 'IMRA', 'IMRN', 'IMRNW', 'IMTE', 'IMUX', 'IMV', 'IMVT', 'IMVTU', 'IMVTW', 'IMXI', 'INBK', 'INBKL', 'INBKZ', 'INCY', 'INDB', 'INDY', 'INFI', 'INFN', 'INFO', 'INFR', 'INGN', 'INMB', 'INMD', 'INO', 'INOD', 'INOV', 'INPX', 'INSE', 'INSG', 'INSM', 'INSU', 'INSUU', 'INSUW', 'INTC', 'INTG', 'INTL', 'INTU', 'INVA', 'INVE', 'INWK', 'IONS', 'IOSP', 'IOTS', 'IOVA', 'IPAR', 'IPDN', 'IPGP', 'IPHA', 'IPKW', 'IPLDP', 'IPWR', 'IQ', 'IRBT', 'IRCP', 'IRDM', 'IRIX', 'IRMD', 'IROQ', 'IRTC', 'IRWD', 'ISBC', 'ISDS', 'ISDX', 'ISEE', 'ISEM', 'ISHG', 'ISIG', 'ISNS', 'ISRG', 'ISSC', 'ISTB', 'ISTR', 'ITCI', 'ITEQ', 'ITI', 'ITIC', 'ITMR', 'ITRI', 'ITRM', 'ITRN', 'IUS', 'IUSB', 'IUSG', 'IUSS', 'IUSV', 'IVAC', 'IXUS', 'IZEA', 'JACK', 'JAGX', 'JAKK', 'JAN', 'JAZZ', 'JBHT', 'JBLU', 'JBSS', 'JCOM', 'JCS', 'JCTCF', 'JD', 'JFIN', 'JFK', 'JFKKR', 'JFKKU', 'JFKKW', 'JFU', 'JG', 'JJSF', 'JKHY', 'JKI', 'JMPNL', 'JMPNZ', 'JNCE', 'JOBS', 'JOUT', 'JRJC', 'JRSH', 'JRVR', 'JSM', 'JSMD', 'JSML', 'JVA', 'JYNT', 'KALA', 'KALU', 'KALV', 'KBAL', 'KBLM', 'KBLMR', 'KBLMU', 'KBLMW', 'KBSF', 'KBWB', 'KBWD', 'KBWP', 'KBWR', 'KBWY', 'KCAPL', 'KE', 'KELYA', 'KELYB', 'KEQU', 'KERN', 'KERNW', 'KFFB', 'KFRC', 'KGJI', 'KHC', 'KIDS', 'KIN', 'KINS', 'KIRK', 'KLAC', 'KLDO', 'KLIC', 'KLXE', 'KMDA', 'KMPH', 'KNDI', 'KNSA', 'KNSL', 'KOD', 'KOPN', 'KOSS', 'KPTI', 'KRKR', 'KRMA', 'KRMD', 'KRNT', 'KRNY', 'KROS', 'KRTX', 'KRUS', 'KRYS', 'KTCC', 'KTOS', 'KTOV', 'KTOVW', 'KURA', 'KVHI', 'KWEB', 'KXIN', 'KZIA', 'KZR', 'LACQ', 'LACQU', 'LACQW', 'LAKE', 'LAMR', 'LANC', 'LAND', 'LANDP', 'LARK', 'LASR', 'LATN', 'LATNU', 'LATNW', 'LAUR', 'LAWS', 'LAZY', 'LBAI', 'LBC', 'LBRDA', 'LBRDK', 'LBTYA', 'LBTYB', 'LBTYK', 'LCA', 'LCAHU', 'LCAHW', 'LCNB', 'LCUT', 'LDEM', 'LDSF', 'LE', 'LECO', 'LEDS', 'LEGH', 'LEGR', 'LEVL', 'LFAC', 'LFACU', 'LFACW', 'LFUS', 'LFVN', 'LGIH', 'LGND', 'LHCG', 'LIFE', 'LILA', 'LILAK', 'LINC', 'LIND', 'LIQT', 'LITE', 'LIVE', 'LIVK', 'LIVKU', 'LIVKW', 'LIVN', 'LIVX', 'LIZI', 'LJPC', 'LK', 'LKCO', 'LKFN', 'LKOR', 'LKQ', 'LLEX', 'LLIT', 'LLNW', 'LMAT', 'LMB', 'LMBS', 'LMFA', 'LMFAW', 'LMNL', 'LMNR', 'LMNX', 'LMPX', 'LMRK', 'LMRKN', 'LMRKO', 'LMRKP', 'LMST', 'LNDC', 'LNGR', 'LNT', 'LNTH', 'LOAC', 'LOACR', 'LOACU', 'LOACW', 'LOAN', 'LOB', 'LOCO', 'LOGC', 'LOGI', 'LOGM', 'LONE', 'LOOP', 'LOPE', 'LORL', 'LOVE', 'LPCN', 'LPLA', 'LPSN', 'LPTH', 'LPTX', 'LQDA', 'LQDT', 'LRCX', 'LRGE', 'LSAC', 'LSACU', 'LSACW', 'LSBK', 'LSCC', 'LSTR', 'LSXMA', 'LSXMB', 'LSXMK', 'LTBR', 'LTRPA', 'LTRPB', 'LTRX', 'LULU', 'LUMO', 'LUNA', 'LUNG', 'LVGO', 'LVHD', 'LWAY', 'LX', 'LXRX', 'LYFT', 'LYL', 'LYRA', 'LYTS', 'MACK', 'MAGS', 'MANH', 'MANT', 'MAR', 'MARA', 'MARK', 'MARPS', 'MASI', 'MAT', 'MATW', 'MAYS', 'MBB', 'MBCN', 'MBII', 'MBIN', 'MBINO', 'MBINP', 'MBIO', 'MBNKP', 'MBOT', 'MBRX', 'MBSD', 'MBUU', 'MBWM', 'MCBC', 'MCBS', 'MCEF', 'MCEP', 'MCFT', 'MCHI', 'MCHP', 'MCHX', 'MCMJ', 'MCMJW', 'MCRB', 'MCRI', 'MDB', 'MDCA', 'MDGL', 'MDGS', 'MDGSW', 'MDIA', 'MDIV', 'MDJH', 'MDLZ', 'MDRR', 'MDRRP', 'MDRX', 'MDWD', 'MEDP', 'MEDS', 'MEET', 'MEIP', 'MELI', 'MEOH', 'MERC', 'MESA', 'MESO', 'METC', 'METX', 'MFH', 'MFIN', 'MFINL', 'MFNC', 'MGEE', 'MGEN', 'MGI', 'MGIC', 'MGLN', 'MGNX', 'MGPI', 'MGRC', 'MGTA', 'MGTX', 'MGYR', 'MHLD', 'MICT', 'MIDD', 'MIK', 'MILN', 'MIME', 'MIND', 'MINDP', 'MINI', 'MIRM', 'MIST', 'MITK', 'MITO', 'MJCO', 'MKD', 'MKGI', 'MKSI', 'MKTX', 'MLAB', 'MLCO', 'MLHR', 'MLND', 'MLVF', 'MMAC', 'MMLP', 'MMSI', 'MMYT', 'MNCL', 'MNCLU', 'MNCLW', 'MNDO', 'MNKD', 'MNLO', 'MNOV', 'MNPR', 'MNRO', 'MNSB', 'MNST', 'MNTA', 'MNTX', 'MOBL', 'MOFG', 'MOGO', 'MOHO', 'MOMO', 'MOR', 'MORF', 'MORN', 'MOSY', 'MOTA', 'MOTS', 'MOXC', 'MPAA', 'MPB', 'MPWR', 'MRAM', 'MRBK', 'MRCC', 'MRCCL', 'MRCY', 'MREO', 'MRIN', 'MRKR', 'MRLN', 'MRNA', 'MRNS', 'MRSN', 'MRTN', 'MRTX', 'MRUS', 'MRVL', 'MSBF', 'MSBI', 'MSEX', 'MSFT', 'MSON', 'MSTR', 'MSVB', 'MTBC', 'MTBCP', 'MTC', 'MTCH', 'MTEM', 'MTEX', 'MTLS', 'MTP', 'MTRX', 'MTSC', 'MTSI', 'MTSL', 'MU', 'MUDS', 'MUDSU', 'MUDSW', 'MVBF', 'MVIS', 'MWK', 'MXIM', 'MYFW', 'MYGN', 'MYL', 'MYOK', 'MYOS', 'MYRG', 'MYSZ', 'MYT', 'NAII', 'NAKD', 'NAOV', 'NATH', 'NATI', 'NATR', 'NAVI', 'NBAC', 'NBACR', 'NBACU', 'NBACW', 'NBEV', 'NBIX', 'NBL', 'NBLX', 'NBN', 'NBRV', 'NBSE', 'NBTB', 'NCBS', 'NCLH', 'NCMI', 'NCNA', 'NCSM', 'NCTY', 'NDAQ', 'NDLS', 'NDRA', 'NDRAW', 'NDSN', 'NEBU', 'NEBUU', 'NEBUW', 'NEO', 'NEOG', 'NEON', 'NEOS', 'NEPH', 'NEPT', 'NERV', 'NESR', 'NESRW', 'NETE', 'NEWA', 'NEWT', 'NEWTI', 'NEWTL', 'NEXT', 'NFBK', 'NFE', 'NFIN', 'NFINU', 'NFINW', 'NFLX', 'NFTY', 'NGHC', 'NGHCN', 'NGHCO', 'NGHCP', 'NGHCZ', 'NGM', 'NH', 'NHLD', 'NHLDW', 'NHTC', 'NICE', 'NICK', 'NIU', 'NK', 'NKSH', 'NKTR', 'NLOK', 'NLTX', 'NMCI', 'NMIH', 'NMRD', 'NMRK', 'NMTR', 'NNBR', 'NNDM', 'NODK', 'NOVN', 'NOVT', 'NPA', 'NPAUU', 'NPAWW', 'NRBO', 'NRC', 'NRIM', 'NSEC', 'NSIT', 'NSSC', 'NSTG', 'NSYS', 'NTAP', 'NTCT', 'NTEC', 'NTES', 'NTGN', 'NTGR', 'NTIC', 'NTLA', 'NTNX', 'NTRA', 'NTRP', 'NTRS', 'NTRSO', 'NTUS', 'NTWK', 'NUAN', 'NURO', 'NUROW', 'NUVA', 'NVAX', 'NVCN', 'NVCR', 'NVDA', 'NVEC', 'NVEE', 'NVFY', 'NVIV', 'NVMI', 'NVUS', 'NWBI', 'NWFL', 'NWGI', 'NWL', 'NWLI', 'NWPX', 'NWS', 'NWSA', 'NXGN', 'NXMD', 'NXPI', 'NXST', 'NXTC', 'NXTD', 'NXTG', 'NYMT', 'NYMTM', 'NYMTN', 'NYMTO', 'NYMTP', 'NYMX', 'OAS', 'OBAS', 'OBCI', 'OBLN', 'OBNK', 'OBSV', 'OCC', 'OCCI', 'OCCIP', 'OCFC', 'OCGN', 'OCSI', 'OCSL', 'OCUL', 'ODFL', 'ODP', 'ODT', 'OESX', 'OFED', 'OFIX', 'OFLX', 'OFS', 'OFSSI', 'OFSSL', 'OFSSZ', 'OGI', 'OIIM', 'OKTA', 'OLD', 'OLED', 'OLLI', 'OMAB', 'OMCL', 'OMER', 'OMEX', 'OMP', 'ON', 'ONB', 'ONCS', 'ONCT', 'ONCY', 'ONEM', 'ONEQ', 'ONEW', 'ONTX', 'ONTXW', 'ONVO', 'OPB', 'OPBK', 'OPCH', 'OPES', 'OPESU', 'OPESW', 'OPGN', 'OPGNW', 'OPHC', 'OPI', 'OPINI', 'OPK', 'OPNT', 'OPOF', 'OPRA', 'OPRT', 'OPRX', 'OPTN', 'OPTT', 'ORBC', 'ORGO', 'ORGS', 'ORIC', 'ORLY', 'ORMP', 'ORRF', 'ORSN', 'ORSNR', 'ORSNU', 'ORSNW', 'ORTX', 'OSBC', 'OSIS', 'OSMT', 'OSN', 'OSPN', 'OSS', 'OSTK', 'OSUR', 'OSW', 'OTEL', 'OTEX', 'OTG', 'OTIC', 'OTLK', 'OTLKW', 'OTTR', 'OTTW', 'OVBC', 'OVID', 'OVLY', 'OXBR', 'OXBRW', 'OXFD', 'OXLC', 'OXLCM', 'OXLCO', 'OXLCP', 'OXSQ', 'OXSQL', 'OXSQZ', 'OYST', 'OZK', 'PAAC', 'PAACR', 'PAACU', 'PAACW', 'PAAS', 'PACB', 'PACQ', 'PACQU', 'PACQW', 'PACW', 'PAE', 'PAEWW', 'PAHC', 'PANL', 'PASG', 'PATI', 'PATK', 'PAVM', 'PAVMW', 'PAVMZ', 'PAYS', 'PAYX', 'PBCT', 'PBCTP', 'PBFS', 'PBHC', 'PBIO', 'PBIP', 'PBPB', 'PBTS', 'PBYI', 'PCAR', 'PCB', 'PCH', 'PCIM', 'PCOM', 'PCRX', 'PCSB', 'PCTI', 'PCTY', 'PCYG', 'PCYO', 'PDBC', 'PDCE', 'PDCO', 'PDD', 'PDEV', 'PDEX', 'PDFS', 'PDLB', 'PDLI', 'PDP', 'PDSB', 'PEBK', 'PEBO', 'PECK', 'PEER', 'PEGA', 'PEIX', 'PENN', 'PEP', 'PERI', 'PESI', 'PETQ', 'PETS', 'PETZ', 'PEY', 'PEZ', 'PFBC', 'PFBI', 'PFF', 'PFG', 'PFHD', 'PFI', 'PFIE', 'PFIN', 'PFIS', 'PFLT', 'PFM', 'PFMT', 'PFPT', 'PFSW', 'PGC', 'PGEN', 'PGJ', 'PGNX', 'PGNY', 'PGTI', 'PHAS', 'PHAT', 'PHCF', 'PHIO', 'PHIOW', 'PHO', 'PHUN', 'PHUNW', 'PI', 'PICO', 'PID', 'PIE', 'PIH', 'PIHPP', 'PINC', 'PIO', 'PIRS', 'PIXY', 'PIZ', 'PKBK', 'PKOH', 'PKW', 'PLAB', 'PLAY', 'PLBC', 'PLC', 'PLCE', 'PLIN', 'PLL', 'PLMR', 'PLPC', 'PLSE', 'PLUG', 'PLUS', 'PLW', 'PLXP', 'PLXS', 'PLYA', 'PMBC', 'PMD', 'PME', 'PMOM', 'PNBK', 'PNFP', 'PNNT', 'PNNTG', 'PNQI', 'PNRG', 'PNTG', 'POAI', 'PODD', 'POLA', 'POLY', 'POOL', 'POPE', 'POTX', 'POWI', 'POWL', 'PPBI', 'PPC', 'PPD', 'PPH', 'PPHI', 'PPIH', 'PPSI', 'PRAA', 'PRAH', 'PRCP', 'PRDO', 'PRFT', 'PRFZ', 'PRGS', 'PRGX', 'PRIM', 'PRMW', 'PRN', 'PRNB', 'PROF', 'PROV', 'PRPH', 'PRPL', 'PRPO', 'PRQR', 'PRSC', 'PRTA', 'PRTH', 'PRTK', 'PRTS', 'PRVB', 'PRVL', 'PS', 'PSC', 'PSCC', 'PSCD', 'PSCE', 'PSCF', 'PSCH', 'PSCI', 'PSCM', 'PSCT', 'PSCU', 'PSEC', 'PSET', 'PSHG', 'PSL', 'PSM', 'PSMT', 'PSNL', 'PSTI', 'PSTV', 'PSTVZ', 'PT', 'PTAC', 'PTACU', 'PTACW', 'PTC', 'PTCT', 'PTE', 'PTEN', 'PTF', 'PTGX', 'PTH', 'PTI', 'PTLA', 'PTMN', 'PTNR', 'PTON', 'PTSI', 'PTVCA', 'PTVCB', 'PUB', 'PUI', 'PULM', 'PUYI', 'PVAC', 'PVAL', 'PVBC', 'PWFL', 'PWOD', 'PXI', 'PXLW', 'PXS', 'PY', 'PYPL', 'PYZ', 'PZZA', 'QABA', 'QADA', 'QADB', 'QAT', 'QCLN', 'QCOM', 'QCRH', 'QDEL', 'QFIN', 'QGEN', 'QIWI', 'QK', 'QLC', 'QLYS', 'QMCO', 'QNST', 'QQEW', 'QQQ', 'QQQX', 'QQXT', 'QRHC', 'QRTEA', 'QRTEB', 'QRVO', 'QTEC', 'QTNT', 'QTRX', 'QTT', 'QUIK', 'QUMU', 'QURE', 'QYLD', 'RADA', 'RAIL', 'RAND', 'RAPT', 'RARE', 'RAVE', 'RAVN', 'RBB', 'RBBN', 'RBCAA', 'RBCN', 'RBKB', 'RBNC', 'RCEL', 'RCII', 'RCKT', 'RCKY', 'RCM', 'RCMT', 'RCON', 'RDCM', 'RDFN', 'RDHL', 'RDI', 'RDIB', 'RDNT', 'RDUS', 'RDVT', 'RDVY', 'RDWR', 'REAL', 'REDU', 'REED', 'REFR', 'REG', 'REGI', 'REGN', 'REKR', 'RELL', 'RELV', 'REPH', 'REPL', 'RESN', 'RETA', 'RETO', 'REXN', 'REYN', 'RFAP', 'RFDI', 'RFEM', 'RFEU', 'RFIL', 'RGCO', 'RGEN', 'RGLD', 'RGLS', 'RGNX', 'RGP', 'RIBT', 'RICK', 'RIGL', 'RILY', 'RILYG', 'RILYH', 'RILYI', 'RILYM', 'RILYN', 'RILYO', 'RILYP', 'RILYZ', 'RING', 'RIOT', 'RIVE', 'RKDA', 'RLMD', 'RMBI', 'RMBL', 'RMBS', 'RMCF', 'RMNI', 'RMR', 'RMTI', 'RNDB', 'RNDM', 'RNDV', 'RNEM', 'RNET', 'RNLC', 'RNMC', 'RNSC', 'RNST', 'RNWK', 'ROAD', 'ROBO', 'ROBT', 'ROCH', 'ROCK', 'ROIC', 'ROKU', 'ROLL', 'ROSE', 'ROSEU', 'ROSEW', 'ROST', 'RP', 'RPAY', 'RPD', 'RRBI', 'RRD', 'RRGB', 'RRR', 'RSSS', 'RTH', 'RTIX', 'RTLR', 'RTRX', 'RTTR', 'RUBY', 'RUHN', 'RUN', 'RUSHA', 'RUSHB', 'RUTH', 'RVMD', 'RVNC', 'RVSB', 'RWLK', 'RYAAY', 'RYTM', 'SABR', 'SAEX', 'SAFM', 'SAFT', 'SAGE', 'SAIA', 'SAL', 'SALM', 'SAMA', 'SAMAU', 'SAMAW', 'SAMG', 'SANM', 'SANW', 'SAQN', 'SAQNU', 'SAQNW', 'SASR', 'SATS', 'SAVA', 'SAVE', 'SBAC', 'SBBP', 'SBBX', 'SBCF', 'SBFG', 'SBGI', 'SBLK', 'SBLKZ', 'SBNY', 'SBPH', 'SBRA', 'SBSI', 'SBT', 'SBUX', 'SCCI', 'SCHL', 'SCHN', 'SCKT', 'SCON', 'SCOR', 'SCPH', 'SCPL', 'SCSC', 'SCVL', 'SCWX', 'SCYX', 'SCZ', 'SDC', 'SDG', 'SDGR', 'SDVY', 'SEAC', 'SECO', 'SEDG', 'SEED', 'SEEL', 'SEIC', 'SELB', 'SELF', 'SENEA', 'SENEB', 'SES', 'SESN', 'SFBC', 'SFBS', 'SFET', 'SFIX', 'SFM', 'SFNC', 'SFST', 'SG', 'SGA', 'SGBX', 'SGC', 'SGEN', 'SGH', 'SGLB', 'SGLBW', 'SGMA', 'SGMO', 'SGMS', 'SGOC', 'SGRP', 'SGRY', 'SHBI', 'SHEN', 'SHIP', 'SHIPW', 'SHIPZ', 'SHLO', 'SHOO', 'SHSP', 'SHV', 'SHY', 'SIBN', 'SIC', 'SIEB', 'SIEN', 'SIFY', 'SIGA', 'SIGI', 'SILC', 'SILK', 'SIMO', 'SINA', 'SINO', 'SINT', 'SIRI', 'SITM', 'SIVB', 'SIVBP', 'SKOR', 'SKYS', 'SKYW', 'SKYY', 'SLAB', 'SLCT', 'SLDB', 'SLGG', 'SLGL', 'SLGN', 'SLM', 'SLMBP', 'SLNO', 'SLP', 'SLQD', 'SLRC', 'SLRX', 'SLS', 'SLVO', 'SMBC', 'SMBK', 'SMCI', 'SMCP', 'SMED', 'SMH', 'SMIT', 'SMMC', 'SMMCU', 'SMMCW', 'SMMF', 'SMMT', 'SMPL', 'SMRT', 'SMSI', 'SMTC', 'SMTX', 'SNBR', 'SNCA', 'SNCR', 'SND', 'SNDE', 'SNDL', 'SNDX', 'SNES', 'SNFCA', 'SNGX', 'SNGXW', 'SNLN', 'SNOA', 'SNPS', 'SNSR', 'SNSS', 'SNUG', 'SNY', 'SOCL', 'SOHO', 'SOHOB', 'SOHON', 'SOHOO', 'SOHU', 'SOLO', 'SOLOW', 'SOLY', 'SONA', 'SONG', 'SONGW', 'SONM', 'SONN', 'SONO', 'SORL', 'SOXX', 'SP', 'SPAR', 'SPCB', 'SPFI', 'SPI', 'SPKE', 'SPKEP', 'SPLK', 'SPNE', 'SPNS', 'SPOK', 'SPPI', 'SPRO', 'SPRT', 'SPSC', 'SPT', 'SPTN', 'SPWH', 'SPWR', 'SQBG', 'SQLV', 'SQQQ', 'SRAC', 'SRACU', 'SRACW', 'SRAX', 'SRCE', 'SRCL', 'SRDX', 'SRET', 'SREV', 'SRNE', 'SRPT', 'SRRA', 'SRRK', 'SRTS', 'SRTSW', 'SRVA', 'SSB', 'SSBI', 'SSKN', 'SSNC', 'SSNT', 'SSP', 'SSPK', 'SSPKU', 'SSPKW', 'SSRM', 'SSSS', 'SSTI', 'SSYS', 'STAA', 'STAF', 'STAY', 'STBA', 'STCN', 'STFC', 'STIM', 'STKL', 'STKS', 'STLD', 'STML', 'STMP', 'STND', 'STNE', 'STOK', 'STPP', 'STRA', 'STRL', 'STRM', 'STRO', 'STRS', 'STRT', 'STSA', 'STX', 'STXB', 'SUMR', 'SUNS', 'SUNW', 'SUPN', 'SURF', 'SUSB', 'SUSC', 'SUSL', 'SVA', 'SVBI', 'SVC', 'SVMK', 'SVRA', 'SVVC', 'SWAV', 'SWIR', 'SWKH', 'SWKS', 'SWTX', 'SXTC', 'SY', 'SYBT', 'SYBX', 'SYKE', 'SYNA', 'SYNC', 'SYNH', 'SYNL', 'SYPR', 'SYRS', 'Symbol', 'TA', 'TACO', 'TACOW', 'TACT', 'TAIT', 'TANH', 'TANNI', 'TANNL', 'TANNZ', 'TAOP', 'TAPM', 'TAPR', 'TARA', 'TAST', 'TATT', 'TAYD', 'TBBK', 'TBIO', 'TBK', 'TBLT', 'TBLTW', 'TBNK', 'TBPH', 'TC', 'TCBI', 'TCBIL', 'TCBIP', 'TCBK', 'TCCO', 'TCDA', 'TCF', 'TCFC', 'TCFCP', 'TCMD', 'TCOM', 'TCON', 'TCPC', 'TCRD', 'TCRR', 'TCX', 'TDAC', 'TDACU', 'TDACW', 'TDIV', 'TEAM', 'TECD', 'TECH', 'TECTP', 'TEDU', 'TELA', 'TELL', 'TENB', 'TENX', 'TER', 'TERP', 'TESS', 'TEUM', 'TFFP', 'TFSL', 'TGA', 'TGEN', 'TGLS', 'TGTX', 'TH', 'THBR', 'THBRU', 'THBRW', 'THCA', 'THCAU', 'THCAW', 'THCB', 'THCBU', 'THCBW', 'THFF', 'THMO', 'THRM', 'THTX', 'THWWW', 'TIGO', 'TIGR', 'TILE', 'TIPT', 'TITN', 'TIVO', 'TLC', 'TLF', 'TLGT', 'TLND', 'TLRY', 'TLSA', 'TLT', 'TMDI', 'TMDX', 'TMSR', 'TMUS', 'TNAV', 'TNDM', 'TNXP', 'TOCA', 'TOPS', 'TORC', 'TOTA', 'TOTAR', 'TOTAU', 'TOTAW', 'TOUR', 'TOWN', 'TPCO', 'TPIC', 'TPTX', 'TQQQ', 'TRCH', 'TREE', 'TRHC', 'TRIB', 'TRIL', 'TRIP', 'TRMB', 'TRMD', 'TRMK', 'TRMT', 'TRNS', 'TROV', 'TROW', 'TRPX', 'TRS', 'TRST', 'TRUE', 'TRUP', 'TRVG', 'TRVI', 'TRVN', 'TSBK', 'TSC', 'TSCAP', 'TSCBP', 'TSCO', 'TSEM', 'TSG', 'TSLA', 'TSRI', 'TTD', 'TTEC', 'TTEK', 'TTGT', 'TTMI', 'TTNP', 'TTOO', 'TTPH', 'TTTN', 'TTWO', 'TUES', 'TUR', 'TURN', 'TUSA', 'TUSK', 'TVIX', 'TVTY', 'TW', 'TWIN', 'TWMC', 'TWNK', 'TWNKW', 'TWOU', 'TWST', 'TXG', 'TXMD', 'TXN', 'TXRH', 'TYHT', 'TYME', 'TZAC', 'TZACU', 'TZACW', 'TZOO', 'UAE', 'UAL', 'UBCP', 'UBFO', 'UBOH', 'UBSI', 'UBX', 'UCBI', 'UCTT', 'UEIC', 'UEPS', 'UFCS', 'UFO', 'UFPI', 'UFPT', 'UG', 'UGLD', 'UHAL', 'UIHC', 'ULBI', 'ULH', 'ULTA', 'UMBF', 'UMPQ', 'UMRX', 'UNAM', 'UNB', 'UNFI', 'UNIT', 'UNTY', 'UONE', 'UONEK', 'UPLD', 'UPWK', 'URBN', 'URGN', 'UROV', 'USAK', 'USAP', 'USAU', 'USCR', 'USEG', 'USIG', 'USIO', 'USLB', 'USLM', 'USLV', 'USMC', 'USOI', 'USWS', 'USWSW', 'UTHR', 'UTMD', 'UTSI', 'UVSP', 'UXIN', 'VALU', 'VALX', 'VBFC', 'VBIV', 'VBLT', 'VBND', 'VBTX', 'VC', 'VCEL', 'VCIT', 'VCLT', 'VCNX', 'VCSH', 'VCTR', 'VCYT', 'VECO', 'VEON', 'VERB', 'VERBW', 'VERI', 'VERO', 'VERU', 'VERY', 'VETS', 'VFF', 'VG', 'VGIT', 'VGLT', 'VGSH', 'VIAC', 'VIACA', 'VIAV', 'VICR', 'VIDI', 'VIE', 'VIGI', 'VIIX', 'VIOT', 'VIR', 'VIRC', 'VIRT', 'VISL', 'VIVE', 'VIVO', 'VKTX', 'VKTXW', 'VLGEA', 'VLY', 'VLYPO', 'VLYPP', 'VMBS', 'VMD', 'VNDA', 'VNET', 'VNOM', 'VNQI', 'VOD', 'VONE', 'VONG', 'VONV', 'VOXX', 'VRA', 'VRAY', 'VRCA', 'VREX', 'VRIG', 'VRML', 'VRNA', 'VRNS', 'VRNT', 'VRRM', 'VRSK', 'VRSN', 'VRTS', 'VRTU', 'VRTX', 'VSAT', 'VSDA', 'VSEC', 'VSMV', 'VSTM', 'VTC', 'VTEC', 'VTGN', 'VTHR', 'VTIP', 'VTIQ', 'VTIQU', 'VTIQW', 'VTNR', 'VTSI', 'VTUS', 'VTVT', 'VTWG', 'VTWO', 'VTWV', 'VUSE', 'VUZI', 'VVPR', 'VVUS', 'VWOB', 'VXRT', 'VXUS', 'VYGR', 'VYMI', 'WABC', 'WAFD', 'WAFU', 'WASH', 'WATT', 'WB', 'WBA', 'WBND', 'WCLD', 'WDAY', 'WDC', 'WDFC', 'WEBK', 'WEN', 'WERN', 'WETF', 'WEYS', 'WHF', 'WHFBZ', 'WHLM', 'WHLR', 'WHLRD', 'WHLRP', 'WIFI', 'WILC', 'WIMI', 'WINA', 'WINC', 'WING', 'WINS', 'WIRE', 'WISA', 'WIX', 'WKEY', 'WKHS', 'WLDN', 'WLFC', 'WLTW', 'WMGI', 'WNEB', 'WNFM', 'WOOD', 'WORX', 'WPRT', 'WRLD', 'WRTC', 'WSBC', 'WSBF', 'WSC', 'WSFS', 'WSG', 'WSTG', 'WSTL', 'WTBA', 'WTER', 'WTFC', 'WTFCM', 'WTRE', 'WTREP', 'WTRH', 'WVE', 'WVFC', 'WVVI', 'WVVIP', 'WW', 'WWD', 'WWR', 'WYNN', 'XAIR', 'XBIO', 'XBIOW', 'XBIT', 'XCUR', 'XEL', 'XELA', 'XELB', 'XENE', 'XENT', 'XERS', 'XFOR', 'XGN', 'XLNX', 'XLRN', 'XNCR', 'XNET', 'XOG', 'XOMA', 'XONE', 'XP', 'XPEL', 'XPER', 'XRAY', 'XSPA', 'XT', 'XTLB', 'YGYI', 'YGYIP', 'YI', 'YIN', 'YJ', 'YLCO', 'YLDE', 'YMAB', 'YNDX', 'YORW', 'YRCW', 'YTEN', 'YTRA', 'YVR', 'YY', 'Z', 'ZAGG', 'ZBRA', 'ZCMD', 'ZEAL', 'ZEUS', 'ZFGN', 'ZG', 'ZGNX', 'ZGYH', 'ZGYHR', 'ZGYHU', 'ZGYHW', 'ZION', 'ZIONL', 'ZIONN', 'ZIONO', 'ZIONP', 'ZIONW', 'ZIOP', 'ZIV', 'ZIXI', 'ZKIN', 'ZLAB', 'ZM', 'ZN', 'ZNGA', 'ZNTL', 'ZNWAA', 'ZS', 'ZSAN', 'ZTEST', 'ZUMZ', 'ZVO', 'ZYNE', 'ZYXI']\n"
     ]
    }
   ],
   "source": [
    "print(tickers)"
   ]
  },
  {
   "cell_type": "markdown",
   "metadata": {},
   "source": [
    "# Obtaining and organizing stock data from Yahoo Finance using pandas datareader"
   ]
  },
  {
   "cell_type": "code",
   "execution_count": 9,
   "metadata": {},
   "outputs": [],
   "source": [
    "# import data reader package\n",
    "import pandas_datareader as pdr\n",
    "\n",
    "#def get(tickers, startdate, enddate):\n",
    "#    def data(ticker):\n",
    "#        return(pdr.get_data_yahoo(ticker, start=startdate, end=enddate))\n",
    "#    datas=map(data,tickers)\n",
    "#    return(pd.concat(datas,keys=tickers,names=['Ticker','Date']))\n",
    "#all_data=get(tickers, datetime(2020,4,7), datetime(int(myYear),int(myMonth),int(myDay)))"
   ]
  },
  {
   "cell_type": "code",
   "execution_count": 10,
   "metadata": {},
   "outputs": [],
   "source": [
    "# read data from Yahoo! Finance for a specific \n",
    "# stock specified by ticker and between the start and end dates\n",
    "def get_stock_data(ticker, start, end):\n",
    "#    # read the data\n",
    "    data = pdr.get_data_yahoo(ticker, start, end)\n",
    "    # rename this column\n",
    "#    data.insert(0, \"Ticker\", ticker)\n",
    "    return data"
   ]
  },
  {
   "cell_type": "code",
   "execution_count": 11,
   "metadata": {
    "scrolled": true
   },
   "outputs": [
    {
     "name": "stdout",
     "output_type": "stream",
     "text": [
      "2020-05-18 00:00:00\n"
     ]
    }
   ],
   "source": [
    "# request the three years of data for SAGE\n",
    "start = datetime(2020, 4, 11)\n",
    "end = datetime(int(myYear),int(myMonth),int(myDay))\n",
    "#raw = get_stock_data(userTicker, start, end)[:5]\n",
    "raw = get_stock_data(userTicker, start, end)\n",
    "print(end)"
   ]
  },
  {
   "cell_type": "code",
   "execution_count": 12,
   "metadata": {
    "scrolled": false
   },
   "outputs": [
    {
     "data": {
      "text/html": [
       "<div>\n",
       "<style scoped>\n",
       "    .dataframe tbody tr th:only-of-type {\n",
       "        vertical-align: middle;\n",
       "    }\n",
       "\n",
       "    .dataframe tbody tr th {\n",
       "        vertical-align: top;\n",
       "    }\n",
       "\n",
       "    .dataframe thead th {\n",
       "        text-align: right;\n",
       "    }\n",
       "</style>\n",
       "<table border=\"1\" class=\"dataframe\">\n",
       "  <thead>\n",
       "    <tr style=\"text-align: right;\">\n",
       "      <th></th>\n",
       "      <th>High</th>\n",
       "      <th>Low</th>\n",
       "      <th>Open</th>\n",
       "      <th>Close</th>\n",
       "      <th>Volume</th>\n",
       "      <th>Adj Close</th>\n",
       "    </tr>\n",
       "  </thead>\n",
       "  <tbody>\n",
       "    <tr>\n",
       "      <th>count</th>\n",
       "      <td>26.000000</td>\n",
       "      <td>26.000000</td>\n",
       "      <td>26.000000</td>\n",
       "      <td>26.000000</td>\n",
       "      <td>2.600000e+01</td>\n",
       "      <td>26.000000</td>\n",
       "    </tr>\n",
       "    <tr>\n",
       "      <th>mean</th>\n",
       "      <td>782.956153</td>\n",
       "      <td>735.620380</td>\n",
       "      <td>758.996537</td>\n",
       "      <td>760.636540</td>\n",
       "      <td>1.775235e+07</td>\n",
       "      <td>760.636540</td>\n",
       "    </tr>\n",
       "    <tr>\n",
       "      <th>std</th>\n",
       "      <td>45.268016</td>\n",
       "      <td>51.416982</td>\n",
       "      <td>55.135988</td>\n",
       "      <td>44.739483</td>\n",
       "      <td>5.899787e+06</td>\n",
       "      <td>44.739483</td>\n",
       "    </tr>\n",
       "    <tr>\n",
       "      <th>min</th>\n",
       "      <td>652.000000</td>\n",
       "      <td>580.530029</td>\n",
       "      <td>590.159973</td>\n",
       "      <td>650.950012</td>\n",
       "      <td>1.051840e+07</td>\n",
       "      <td>650.950012</td>\n",
       "    </tr>\n",
       "    <tr>\n",
       "      <th>25%</th>\n",
       "      <td>754.860016</td>\n",
       "      <td>699.417496</td>\n",
       "      <td>728.229980</td>\n",
       "      <td>730.400009</td>\n",
       "      <td>1.334875e+07</td>\n",
       "      <td>730.400009</td>\n",
       "    </tr>\n",
       "    <tr>\n",
       "      <th>50%</th>\n",
       "      <td>793.100006</td>\n",
       "      <td>752.174988</td>\n",
       "      <td>774.390015</td>\n",
       "      <td>768.665009</td>\n",
       "      <td>1.617305e+07</td>\n",
       "      <td>768.665009</td>\n",
       "    </tr>\n",
       "    <tr>\n",
       "      <th>75%</th>\n",
       "      <td>805.037491</td>\n",
       "      <td>770.262482</td>\n",
       "      <td>790.470001</td>\n",
       "      <td>799.064987</td>\n",
       "      <td>2.054570e+07</td>\n",
       "      <td>799.064987</td>\n",
       "    </tr>\n",
       "    <tr>\n",
       "      <th>max</th>\n",
       "      <td>869.820007</td>\n",
       "      <td>808.000000</td>\n",
       "      <td>855.190002</td>\n",
       "      <td>819.419983</td>\n",
       "      <td>3.253180e+07</td>\n",
       "      <td>819.419983</td>\n",
       "    </tr>\n",
       "  </tbody>\n",
       "</table>\n",
       "</div>"
      ],
      "text/plain": [
       "             High         Low        Open       Close  \\\n",
       "count   26.000000   26.000000   26.000000   26.000000   \n",
       "mean   782.956153  735.620380  758.996537  760.636540   \n",
       "std     45.268016   51.416982   55.135988   44.739483   \n",
       "min    652.000000  580.530029  590.159973  650.950012   \n",
       "25%    754.860016  699.417496  728.229980  730.400009   \n",
       "50%    793.100006  752.174988  774.390015  768.665009   \n",
       "75%    805.037491  770.262482  790.470001  799.064987   \n",
       "max    869.820007  808.000000  855.190002  819.419983   \n",
       "\n",
       "             Volume   Adj Close  \n",
       "count  2.600000e+01   26.000000  \n",
       "mean   1.775235e+07  760.636540  \n",
       "std    5.899787e+06   44.739483  \n",
       "min    1.051840e+07  650.950012  \n",
       "25%    1.334875e+07  730.400009  \n",
       "50%    1.617305e+07  768.665009  \n",
       "75%    2.054570e+07  799.064987  \n",
       "max    3.253180e+07  819.419983  "
      ]
     },
     "execution_count": 12,
     "metadata": {},
     "output_type": "execute_result"
    }
   ],
   "source": [
    "raw.describe()"
   ]
  },
  {
   "cell_type": "markdown",
   "metadata": {},
   "source": [
    "# CSV file write and read for Statistical Modeling function from Victor"
   ]
  },
  {
   "cell_type": "code",
   "execution_count": 13,
   "metadata": {},
   "outputs": [],
   "source": [
    "#Hard coded file name to use for csv output file\n",
    "import os\n",
    "my_user_path = os.getcwd()\n",
    "myFile = my_user_path+userTicker+\"_\"+myMonth+\"_\"+myDay+\".csv\""
   ]
  },
  {
   "cell_type": "code",
   "execution_count": 14,
   "metadata": {},
   "outputs": [
    {
     "name": "stdout",
     "output_type": "stream",
     "text": [
      "/home/atamayo/example_git/final_pythonTSLA_5_18.csv\n"
     ]
    }
   ],
   "source": [
    "print(myFile)"
   ]
  },
  {
   "cell_type": "code",
   "execution_count": 15,
   "metadata": {
    "scrolled": true
   },
   "outputs": [],
   "source": [
    "raw.to_csv(myFile)"
   ]
  },
  {
   "cell_type": "code",
   "execution_count": 16,
   "metadata": {
    "scrolled": true
   },
   "outputs": [
    {
     "name": "stdout",
     "output_type": "stream",
     "text": [
      "[580.530029296875, 692.4299926757812, 710.0, 706.719970703125, 747.6599731445312, 712.2100219726562, 673.7899780273438, 688.7100219726562, 703.1300048828125, 698.1799926757812, 735.0, 756.6900024414062, 783.1599731445312, 763.5, 683.0399780273438, 698.0, 762.1799926757812, 761.1099853515625, 772.3499755859375, 787.010009765625, 785.0, 808.0, 763.2999877929688, 764.0, 786.5499877929688, 803.8800048828125]\n"
     ]
    }
   ],
   "source": [
    "#Read back csv file data by column index\n",
    "x = pd.read_csv(myFile,usecols=['Low'])\n",
    "y = pd.read_csv(myFile,usecols=['High'])\n",
    "\n",
    "\n",
    "#print(x)\n",
    "#print(x['Date'])\n",
    "\n",
    "x1 = x.values\n",
    "y1 = y.values\n",
    "\n",
    "\n",
    "xx2 = []\n",
    "yy3 = []\n",
    "\n",
    "for n in x1:\n",
    "    for m in n:\n",
    "        xx2.append(m)\n",
    "for t in y1:\n",
    "    for m in t:\n",
    "        yy3.append(m)\n",
    "\n",
    "\n",
    "print(xx2)"
   ]
  },
  {
   "cell_type": "code",
   "execution_count": 17,
   "metadata": {
    "scrolled": true
   },
   "outputs": [],
   "source": [
    "#Extract 'Adj Close' column\n",
    "\n"
   ]
  },
  {
   "cell_type": "code",
   "execution_count": 18,
   "metadata": {
    "scrolled": false
   },
   "outputs": [],
   "source": [
    "import numpy as np\n",
    "import pandas as pd\n",
    "from sklearn.linear_model import LinearRegression\n",
    "from sklearn.preprocessing import PolynomialFeatures\n",
    "import matplotlib.pyplot as plt\n",
    "\n",
    "'''\n",
    "Note: these were testing function left for archiving\n",
    "def test():\n",
    "    x = np.array([5, 15, 25, 35, 45, 55])\n",
    "    y = np.array([5, 20, 14, 32, 22, 38])\n",
    "    return x, y\n",
    "\n",
    "def arrary_test():\n",
    "    x = np.array([5, 15, 25, 35, 45, 55])\n",
    "    y = np.array([5, 20, 14, 32, 22, 38])\n",
    "    data = y\n",
    "    df = pd.DataFrame(data, index = x)\n",
    "    x1 = df.index.values\n",
    "    y1 = df.values\n",
    "    y2 = list()\n",
    "    for n in y1:\n",
    "        for m in n:\n",
    "            y2.append(m)\n",
    "    y2 = np.array(y2)\n",
    "    return x1, y2\n",
    "'''\n",
    "\n",
    "#takes a dateframe and returns two arrays, index_setting = 0 means two columns from df. 1 means index + column\n",
    "#warning, you need a index and a single column for 1, or only two colums(index ok) for 0 or code will not work\n",
    "def dataframe_to_array(df, index_setting):\n",
    "    #if data is in a colum and an index\n",
    "    if index_setting == 1:\n",
    "        #get the index from the dataframe\n",
    "        x1 = df.index.values\n",
    "        #get the values from the dataframe, gives and array of arrays\n",
    "        y1 = df.values\n",
    "        y2 = list()\n",
    "        #transfrom the array of arrays into a single array\n",
    "        for n in y1:\n",
    "            for m in n:\n",
    "                y2.append(m)\n",
    "        y2 = np.array(y2)\n",
    "        #return\n",
    "        return x1, y2\n",
    "    #if data in is two columns\n",
    "    else:\n",
    "        #turn dataframe into and array of arrays\n",
    "        set_array = df.to_numpy()\n",
    "        #splits array into two arrays of a single array\n",
    "        bisector = np.array_split(set_array, 2)\n",
    "        count = 0\n",
    "        #define x1 and y1\n",
    "        for n in bisector:\n",
    "            if count == 0:\n",
    "                x1 = n\n",
    "                count += 1\n",
    "            else:\n",
    "                y1 = n\n",
    "        #reverts back array of array into a just an array\n",
    "        for n2 in x1:\n",
    "            x1 = n2\n",
    "        for n3 in y1:\n",
    "            y1 = n3\n",
    "        #return\n",
    "        return x1, y15, 15, 25, 35, 45, 55\n",
    "\n",
    "#turns a csv file into a dataframe\n",
    "#warning, not tested if it works\n",
    "def csv_into_dataframe(csv_file):\n",
    "    df = pd.read_csv(csv_file)\n",
    "    return df\n",
    "\n",
    "#builds a fuction that returns a predicted y, x1 and y1 are arrays, power refers to highest polynomial degree in model\n",
    "#Note: this function is outdated now\n",
    "def predict_dependent(x1, y1, power):\n",
    "    #build a sorted array for ploting later\n",
    "    x2 = x1\n",
    "    np.sort(x2)\n",
    "    #reshape the x1 and x2 arrays to work for linear regression fitting\n",
    "    x1 = x1.reshape((-1,1))\n",
    "    x2 = x2.reshape((-1,1))\n",
    "    #determine a model type\n",
    "    if power > 1 and power % 1 == 0:\n",
    "        #rebulid again to work with polynomial modeling\n",
    "        x1_ = PolynomialFeatures(degree=power, include_bias=False).fit_transform(x1)\n",
    "        model = LinearRegression().fit(x1_, y1)\n",
    "        x2_ = PolynomialFeatures(degree=power, include_bias=False).fit_transform(x2)\n",
    "        #build predictive array\n",
    "        prediction = model.predict(x2_)\n",
    "    #linear is default\n",
    "    else:\n",
    "        #bulids a model using two arrays\n",
    "        model = LinearRegression().fit(x1,y1)\n",
    "        prediction = model.predict(x2)\n",
    "    #return, note that both x2 and prediction are in order\n",
    "    return prediction\n",
    "\n",
    "#take in a set and return a set with the sorted x and new predicted y, power refers to highest polynomial degree in model\n",
    "#Note: this function is outdated now\n",
    "def regression_transform(x1, y1, power):\n",
    "    #build a model\n",
    "    x2 = x1\n",
    "    np.sort(x2)\n",
    "    x3 = x2\n",
    "    x1 = x1.reshape((-1,1))\n",
    "    x2 = x2.reshape((-1,1))\n",
    "    #x3 is to have a x2_ that is not modified for polynomial features for indexing\n",
    "    #this next part is slimilar to predict_dependent()\n",
    "    if power > 1 and power % 1 == 0:\n",
    "        x1_ = PolynomialFeatures(degree=power, include_bias=False).fit_transform(x1)\n",
    "        model = LinearRegression().fit(x1_, y1)\n",
    "        x2_ = PolynomialFeatures(degree=power, include_bias=False).fit_transform(x2)\n",
    "        y2 = model.predict(x2_)\n",
    "    else:\n",
    "        model = LinearRegression().fit(x1,y1)\n",
    "        y2 = model.predict(x2)\n",
    "    data = y2\n",
    "    #bulid a dataframe with y2 as data and x3 as an index\n",
    "    set_rebuild = pd.DataFrame(data, index = x3)\n",
    "    #returns the dataset\n",
    "    return set_rebuild \n",
    "\n",
    "#scores how well the model fits that data with a R^2 score, with is from 0 to 1\n",
    "def prediction_score(x1, y1, power):\n",
    "    #slimilar structure as above, but no need to organize\n",
    "    x1 = x1.reshape((-1,1))\n",
    "    if power > 1 and power % 1 == 0:\n",
    "        x1_ = PolynomialFeatures(degree=power, include_bias=False).fit_transform(x1)\n",
    "        model = LinearRegression().fit(x1_, y1)\n",
    "        #model.score returns a R^2 value, which rates fit from 0 to 1\n",
    "        score = model.score(x1_, y1)\n",
    "    else:\n",
    "        model = LinearRegression().fit(x1,y1)\n",
    "        score = model.score(x1, y1)\n",
    "    #return\n",
    "    return score\n",
    "\n",
    "#this is the primary function every is built up to, first three are same as above, next three build prediction range\n",
    "def ranged_regress_transform(x1, y1, power, value_min, value_max, step):\n",
    "    count = value_min\n",
    "    x2 = list()\n",
    "    #create list that starts at min, ends a max, step effects how many calculations are done\n",
    "    while count <= value_max:\n",
    "        x2.append(count)\n",
    "        count += step\n",
    "    #change the list into an array\n",
    "    x3 = np.array(x2)\n",
    "    x3 = x3.reshape((-1,1))\n",
    "    x1 = x1.reshape((-1,1))\n",
    "    #also slimilar to above code\n",
    "    if power > 1 and power % 1 == 0:\n",
    "        x1_ = PolynomialFeatures(degree=power, include_bias=False).fit_transform(x1)\n",
    "        model = LinearRegression().fit(x1_, y1)\n",
    "        x3_ = PolynomialFeatures(degree=power, include_bias=False).fit_transform(x3)\n",
    "        y2 = model.predict(x3_)\n",
    "    else:\n",
    "        model = LinearRegression().fit(x1,y1)\n",
    "        y2 = model.predict(x3)\n",
    "    data = y2\n",
    "    #build the dataframe with good graphing data\n",
    "    new_build = pd.DataFrame(data, index = x2)\n",
    "    #return the dataframe\n",
    "    return new_build\n",
    "\n",
    "#uses all of the above code, takes a dataframe and returns a dataframe with predicted values\n",
    "def ranged_df_regress_trans(df, index_setting, power, value_min, value_max, step):\n",
    "    x1, y1 = dataframe_to_array(df, index_setting)\n",
    "    final_build = ranged_regress_transform(x1, y1, power, value_min, value_max, step)\n",
    "    return final_build\n",
    "\n",
    "#same as above with with scoring\n",
    "def df_regress_scoring(df, index_setting, power):\n",
    "    x1, y1 = dataframe_to_array(df, index_setting)\n",
    "    score = prediction_score(x1, y1, power)\n",
    "    return score"
   ]
  },
  {
   "cell_type": "code",
   "execution_count": 19,
   "metadata": {},
   "outputs": [
    {
     "data": {
      "text/plain": [
       "<matplotlib.axes._subplots.AxesSubplot at 0x7f3f384d56d0>"
      ]
     },
     "execution_count": 19,
     "metadata": {},
     "output_type": "execute_result"
    },
    {
     "data": {
      "image/png": "[encoded data removed]",
      "text/plain": [
       "<Figure size 432x288 with 1 Axes>"
      ]
     },
     "metadata": {
      "needs_background": "light"
     },
     "output_type": "display_data"
    }
   ],
   "source": [
    "\n",
    "g = np.array(xx2)\n",
    "f = np.array(yy3)\n",
    "#a = np.array([1,2,3,4,5,6])\n",
    "#b = np.array([3,5,9,14,21,34])\n",
    "run = ranged_regress_transform(g, f, 3, 5, 55, 1)\n",
    "run2 = ranged_df_regress_trans(x,1,3,5,55,1)\n",
    "#run.plot()\n",
    "run2.plot()\n"
   ]
  },
  {
   "cell_type": "code",
   "execution_count": 20,
   "metadata": {},
   "outputs": [],
   "source": [
    "# gets data for multiple stocks\n",
    "# tickers: a list of stock symbols to fetch\n",
    "# start and end are the start end end dates\n",
    "#def get_data_for_multiple_stocks(tmptickers, start, end):\n",
    "    # we return a dictionary\n",
    " #   stocks = dict()\n",
    "    # loop through all the tickers\n",
    " #   for ticker in tmptickers:\n",
    " #       # get the data for the specific ticker\n",
    " #       s = get_stock_data(ticker, start, end)\n",
    "        # add it to the dictionary\n",
    "#        stocks[ticker] = s\n",
    "    # return the dictionary\n",
    "#    return stocks"
   ]
  },
  {
   "cell_type": "code",
   "execution_count": 21,
   "metadata": {
    "scrolled": false
   },
   "outputs": [],
   "source": [
    "# get the data for all the stocks that we want\n",
    "#print(tickers)\n",
    "#raw = get_data_for_multiple_stocks(tickers, start, end)"
   ]
  },
  {
   "cell_type": "code",
   "execution_count": 22,
   "metadata": {
    "scrolled": true
   },
   "outputs": [],
   "source": [
    "# take a peek at the data for SAGE\n",
    "#raw[userTicker][:5]\n",
    "#raw[userTicker]"
   ]
  },
  {
   "cell_type": "markdown",
   "metadata": {},
   "source": [
    "# Work with a single ticker since read in list is currupting the dataframe -generate time-series chart"
   ]
  },
  {
   "cell_type": "code",
   "execution_count": 23,
   "metadata": {
    "scrolled": true
   },
   "outputs": [],
   "source": [
    "#Open close change\n",
    "raw['Change']=raw.Open - raw.Close"
   ]
  },
  {
   "cell_type": "code",
   "execution_count": 24,
   "metadata": {},
   "outputs": [],
   "source": [
    "raw['Pct_Chg']=raw.Change/raw.Open"
   ]
  },
  {
   "cell_type": "code",
   "execution_count": 25,
   "metadata": {
    "scrolled": true
   },
   "outputs": [
    {
     "data": {
      "image/png": "[encoded data removed]",
      "text/plain": [
       "<Figure size 432x288 with 1 Axes>"
      ]
     },
     "metadata": {
      "needs_background": "light"
     },
     "output_type": "display_data"
    }
   ],
   "source": [
    "# create a time-series chart with a title and specific \n",
    "# x and y axis labels\n",
    "\n",
    "# title is set in the .plot() method as a parameter\n",
    "raw['Pct_Chg'].plot(title='Percent Change', grid=True)\n",
    "#userPDTicker['Pct_Chg'].plot(grid=True)\n",
    "# explicitly set the x and y axes labels after the .plot()\n",
    "plt.xlabel('Time')\n",
    "plt.ylabel('Percent Change');"
   ]
  },
  {
   "cell_type": "code",
   "execution_count": 26,
   "metadata": {},
   "outputs": [],
   "source": [
    "# given the dictionary of data frames,\n",
    "# pivots a given column into values with column\n",
    "# names being the stock symbols\n",
    "def pivot_tickers_to_columns(raw, column):\n",
    "    items = []\n",
    "    # loop through all dictionary keys\n",
    "    for key in raw:\n",
    "        # get the data for the key\n",
    "        data = raw[key]\n",
    "        # extract just the column specified\n",
    "        subset = data[[\"Ticker\", column]]\n",
    "        # add to items\n",
    "        items.append(subset)\n",
    "    \n",
    "    # concatenate all the items\n",
    "    combined = pd.concat(items)\n",
    "    # reset the index\n",
    "    ri = combined.reset_index()\n",
    "    # return the pivot\n",
    "    return ri.pivot(\"Date\", \"Ticker\", column)"
   ]
  },
  {
   "cell_type": "code",
   "execution_count": 27,
   "metadata": {
    "scrolled": true
   },
   "outputs": [
    {
     "ename": "KeyError",
     "evalue": "\"None of [Index(['Ticker', 'Close'], dtype='object', name='Date')] are in the [index]\"",
     "output_type": "error",
     "traceback": [
      "\u001b[0;31m---------------------------------------------------------------------------\u001b[0m",
      "\u001b[0;31mKeyError\u001b[0m                                  Traceback (most recent call last)",
      "\u001b[0;32m<ipython-input-27-5035b987e27e>\u001b[0m in \u001b[0;36m<module>\u001b[0;34m\u001b[0m\n\u001b[1;32m      1\u001b[0m \u001b[0;31m# do the pivot\u001b[0m\u001b[0;34m\u001b[0m\u001b[0;34m\u001b[0m\u001b[0;34m\u001b[0m\u001b[0m\n\u001b[0;32m----> 2\u001b[0;31m \u001b[0mclose_px\u001b[0m \u001b[0;34m=\u001b[0m \u001b[0mpivot_tickers_to_columns\u001b[0m\u001b[0;34m(\u001b[0m\u001b[0mraw\u001b[0m\u001b[0;34m,\u001b[0m \u001b[0;34m\"Close\"\u001b[0m\u001b[0;34m)\u001b[0m\u001b[0;34m\u001b[0m\u001b[0;34m\u001b[0m\u001b[0m\n\u001b[0m\u001b[1;32m      3\u001b[0m \u001b[0;31m# peek at the result\u001b[0m\u001b[0;34m\u001b[0m\u001b[0;34m\u001b[0m\u001b[0;34m\u001b[0m\u001b[0m\n\u001b[1;32m      4\u001b[0m \u001b[0mclose_px\u001b[0m\u001b[0;34m[\u001b[0m\u001b[0;34m:\u001b[0m\u001b[0;36m5\u001b[0m\u001b[0;34m]\u001b[0m\u001b[0;34m\u001b[0m\u001b[0;34m\u001b[0m\u001b[0m\n",
      "\u001b[0;32m<ipython-input-26-e2719e75be6a>\u001b[0m in \u001b[0;36mpivot_tickers_to_columns\u001b[0;34m(raw, column)\u001b[0m\n\u001b[1;32m      9\u001b[0m         \u001b[0mdata\u001b[0m \u001b[0;34m=\u001b[0m \u001b[0mraw\u001b[0m\u001b[0;34m[\u001b[0m\u001b[0mkey\u001b[0m\u001b[0;34m]\u001b[0m\u001b[0;34m\u001b[0m\u001b[0;34m\u001b[0m\u001b[0m\n\u001b[1;32m     10\u001b[0m         \u001b[0;31m# extract just the column specified\u001b[0m\u001b[0;34m\u001b[0m\u001b[0;34m\u001b[0m\u001b[0;34m\u001b[0m\u001b[0m\n\u001b[0;32m---> 11\u001b[0;31m         \u001b[0msubset\u001b[0m \u001b[0;34m=\u001b[0m \u001b[0mdata\u001b[0m\u001b[0;34m[\u001b[0m\u001b[0;34m[\u001b[0m\u001b[0;34m\"Ticker\"\u001b[0m\u001b[0;34m,\u001b[0m \u001b[0mcolumn\u001b[0m\u001b[0;34m]\u001b[0m\u001b[0;34m]\u001b[0m\u001b[0;34m\u001b[0m\u001b[0;34m\u001b[0m\u001b[0m\n\u001b[0m\u001b[1;32m     12\u001b[0m         \u001b[0;31m# add to items\u001b[0m\u001b[0;34m\u001b[0m\u001b[0;34m\u001b[0m\u001b[0;34m\u001b[0m\u001b[0m\n\u001b[1;32m     13\u001b[0m         \u001b[0mitems\u001b[0m\u001b[0;34m.\u001b[0m\u001b[0mappend\u001b[0m\u001b[0;34m(\u001b[0m\u001b[0msubset\u001b[0m\u001b[0;34m)\u001b[0m\u001b[0;34m\u001b[0m\u001b[0;34m\u001b[0m\u001b[0m\n",
      "\u001b[0;32m~/anaconda3/envs/adv_pythonFinal/lib/python3.7/site-packages/pandas/core/series.py\u001b[0m in \u001b[0;36m__getitem__\u001b[0;34m(self, key)\u001b[0m\n\u001b[1;32m    908\u001b[0m             \u001b[0mkey\u001b[0m \u001b[0;34m=\u001b[0m \u001b[0mcheck_bool_indexer\u001b[0m\u001b[0;34m(\u001b[0m\u001b[0mself\u001b[0m\u001b[0;34m.\u001b[0m\u001b[0mindex\u001b[0m\u001b[0;34m,\u001b[0m \u001b[0mkey\u001b[0m\u001b[0;34m)\u001b[0m\u001b[0;34m\u001b[0m\u001b[0;34m\u001b[0m\u001b[0m\n\u001b[1;32m    909\u001b[0m \u001b[0;34m\u001b[0m\u001b[0m\n\u001b[0;32m--> 910\u001b[0;31m         \u001b[0;32mreturn\u001b[0m \u001b[0mself\u001b[0m\u001b[0;34m.\u001b[0m\u001b[0m_get_with\u001b[0m\u001b[0;34m(\u001b[0m\u001b[0mkey\u001b[0m\u001b[0;34m)\u001b[0m\u001b[0;34m\u001b[0m\u001b[0;34m\u001b[0m\u001b[0m\n\u001b[0m\u001b[1;32m    911\u001b[0m \u001b[0;34m\u001b[0m\u001b[0m\n\u001b[1;32m    912\u001b[0m     \u001b[0;32mdef\u001b[0m \u001b[0m_get_with\u001b[0m\u001b[0;34m(\u001b[0m\u001b[0mself\u001b[0m\u001b[0;34m,\u001b[0m \u001b[0mkey\u001b[0m\u001b[0;34m)\u001b[0m\u001b[0;34m:\u001b[0m\u001b[0;34m\u001b[0m\u001b[0;34m\u001b[0m\u001b[0m\n",
      "\u001b[0;32m~/anaconda3/envs/adv_pythonFinal/lib/python3.7/site-packages/pandas/core/series.py\u001b[0m in \u001b[0;36m_get_with\u001b[0;34m(self, key)\u001b[0m\n\u001b[1;32m    956\u001b[0m                 \u001b[0;32mreturn\u001b[0m \u001b[0mself\u001b[0m\u001b[0;34m.\u001b[0m\u001b[0m_get_values\u001b[0m\u001b[0;34m(\u001b[0m\u001b[0mkey\u001b[0m\u001b[0;34m)\u001b[0m\u001b[0;34m\u001b[0m\u001b[0;34m\u001b[0m\u001b[0m\n\u001b[1;32m    957\u001b[0m \u001b[0;34m\u001b[0m\u001b[0m\n\u001b[0;32m--> 958\u001b[0;31m             \u001b[0;32mreturn\u001b[0m \u001b[0mself\u001b[0m\u001b[0;34m.\u001b[0m\u001b[0mloc\u001b[0m\u001b[0;34m[\u001b[0m\u001b[0mkey\u001b[0m\u001b[0;34m]\u001b[0m\u001b[0;34m\u001b[0m\u001b[0;34m\u001b[0m\u001b[0m\n\u001b[0m\u001b[1;32m    959\u001b[0m \u001b[0;34m\u001b[0m\u001b[0m\n\u001b[1;32m    960\u001b[0m         \u001b[0;32mreturn\u001b[0m \u001b[0mself\u001b[0m\u001b[0;34m.\u001b[0m\u001b[0mreindex\u001b[0m\u001b[0;34m(\u001b[0m\u001b[0mkey\u001b[0m\u001b[0;34m)\u001b[0m\u001b[0;34m\u001b[0m\u001b[0;34m\u001b[0m\u001b[0m\n",
      "\u001b[0;32m~/anaconda3/envs/adv_pythonFinal/lib/python3.7/site-packages/pandas/core/indexing.py\u001b[0m in \u001b[0;36m__getitem__\u001b[0;34m(self, key)\u001b[0m\n\u001b[1;32m   1766\u001b[0m \u001b[0;34m\u001b[0m\u001b[0m\n\u001b[1;32m   1767\u001b[0m             \u001b[0mmaybe_callable\u001b[0m \u001b[0;34m=\u001b[0m \u001b[0mcom\u001b[0m\u001b[0;34m.\u001b[0m\u001b[0mapply_if_callable\u001b[0m\u001b[0;34m(\u001b[0m\u001b[0mkey\u001b[0m\u001b[0;34m,\u001b[0m \u001b[0mself\u001b[0m\u001b[0;34m.\u001b[0m\u001b[0mobj\u001b[0m\u001b[0;34m)\u001b[0m\u001b[0;34m\u001b[0m\u001b[0;34m\u001b[0m\u001b[0m\n\u001b[0;32m-> 1768\u001b[0;31m             \u001b[0;32mreturn\u001b[0m \u001b[0mself\u001b[0m\u001b[0;34m.\u001b[0m\u001b[0m_getitem_axis\u001b[0m\u001b[0;34m(\u001b[0m\u001b[0mmaybe_callable\u001b[0m\u001b[0;34m,\u001b[0m \u001b[0maxis\u001b[0m\u001b[0;34m=\u001b[0m\u001b[0maxis\u001b[0m\u001b[0;34m)\u001b[0m\u001b[0;34m\u001b[0m\u001b[0;34m\u001b[0m\u001b[0m\n\u001b[0m\u001b[1;32m   1769\u001b[0m \u001b[0;34m\u001b[0m\u001b[0m\n\u001b[1;32m   1770\u001b[0m     \u001b[0;32mdef\u001b[0m \u001b[0m_is_scalar_access\u001b[0m\u001b[0;34m(\u001b[0m\u001b[0mself\u001b[0m\u001b[0;34m,\u001b[0m \u001b[0mkey\u001b[0m\u001b[0;34m:\u001b[0m \u001b[0mTuple\u001b[0m\u001b[0;34m)\u001b[0m\u001b[0;34m:\u001b[0m\u001b[0;34m\u001b[0m\u001b[0;34m\u001b[0m\u001b[0m\n",
      "\u001b[0;32m~/anaconda3/envs/adv_pythonFinal/lib/python3.7/site-packages/pandas/core/indexing.py\u001b[0m in \u001b[0;36m_getitem_axis\u001b[0;34m(self, key, axis)\u001b[0m\n\u001b[1;32m   1952\u001b[0m                     \u001b[0;32mraise\u001b[0m \u001b[0mValueError\u001b[0m\u001b[0;34m(\u001b[0m\u001b[0;34m\"Cannot index with multidimensional key\"\u001b[0m\u001b[0;34m)\u001b[0m\u001b[0;34m\u001b[0m\u001b[0;34m\u001b[0m\u001b[0m\n\u001b[1;32m   1953\u001b[0m \u001b[0;34m\u001b[0m\u001b[0m\n\u001b[0;32m-> 1954\u001b[0;31m                 \u001b[0;32mreturn\u001b[0m \u001b[0mself\u001b[0m\u001b[0;34m.\u001b[0m\u001b[0m_getitem_iterable\u001b[0m\u001b[0;34m(\u001b[0m\u001b[0mkey\u001b[0m\u001b[0;34m,\u001b[0m \u001b[0maxis\u001b[0m\u001b[0;34m=\u001b[0m\u001b[0maxis\u001b[0m\u001b[0;34m)\u001b[0m\u001b[0;34m\u001b[0m\u001b[0;34m\u001b[0m\u001b[0m\n\u001b[0m\u001b[1;32m   1955\u001b[0m \u001b[0;34m\u001b[0m\u001b[0m\n\u001b[1;32m   1956\u001b[0m             \u001b[0;31m# nested tuple slicing\u001b[0m\u001b[0;34m\u001b[0m\u001b[0;34m\u001b[0m\u001b[0;34m\u001b[0m\u001b[0m\n",
      "\u001b[0;32m~/anaconda3/envs/adv_pythonFinal/lib/python3.7/site-packages/pandas/core/indexing.py\u001b[0m in \u001b[0;36m_getitem_iterable\u001b[0;34m(self, key, axis)\u001b[0m\n\u001b[1;32m   1593\u001b[0m         \u001b[0;32melse\u001b[0m\u001b[0;34m:\u001b[0m\u001b[0;34m\u001b[0m\u001b[0;34m\u001b[0m\u001b[0m\n\u001b[1;32m   1594\u001b[0m             \u001b[0;31m# A collection of keys\u001b[0m\u001b[0;34m\u001b[0m\u001b[0;34m\u001b[0m\u001b[0;34m\u001b[0m\u001b[0m\n\u001b[0;32m-> 1595\u001b[0;31m             \u001b[0mkeyarr\u001b[0m\u001b[0;34m,\u001b[0m \u001b[0mindexer\u001b[0m \u001b[0;34m=\u001b[0m \u001b[0mself\u001b[0m\u001b[0;34m.\u001b[0m\u001b[0m_get_listlike_indexer\u001b[0m\u001b[0;34m(\u001b[0m\u001b[0mkey\u001b[0m\u001b[0;34m,\u001b[0m \u001b[0maxis\u001b[0m\u001b[0;34m,\u001b[0m \u001b[0mraise_missing\u001b[0m\u001b[0;34m=\u001b[0m\u001b[0;32mFalse\u001b[0m\u001b[0;34m)\u001b[0m\u001b[0;34m\u001b[0m\u001b[0;34m\u001b[0m\u001b[0m\n\u001b[0m\u001b[1;32m   1596\u001b[0m             return self.obj._reindex_with_indexers(\n\u001b[1;32m   1597\u001b[0m                 \u001b[0;34m{\u001b[0m\u001b[0maxis\u001b[0m\u001b[0;34m:\u001b[0m \u001b[0;34m[\u001b[0m\u001b[0mkeyarr\u001b[0m\u001b[0;34m,\u001b[0m \u001b[0mindexer\u001b[0m\u001b[0;34m]\u001b[0m\u001b[0;34m}\u001b[0m\u001b[0;34m,\u001b[0m \u001b[0mcopy\u001b[0m\u001b[0;34m=\u001b[0m\u001b[0;32mTrue\u001b[0m\u001b[0;34m,\u001b[0m \u001b[0mallow_dups\u001b[0m\u001b[0;34m=\u001b[0m\u001b[0;32mTrue\u001b[0m\u001b[0;34m\u001b[0m\u001b[0;34m\u001b[0m\u001b[0m\n",
      "\u001b[0;32m~/anaconda3/envs/adv_pythonFinal/lib/python3.7/site-packages/pandas/core/indexing.py\u001b[0m in \u001b[0;36m_get_listlike_indexer\u001b[0;34m(self, key, axis, raise_missing)\u001b[0m\n\u001b[1;32m   1551\u001b[0m \u001b[0;34m\u001b[0m\u001b[0m\n\u001b[1;32m   1552\u001b[0m         self._validate_read_indexer(\n\u001b[0;32m-> 1553\u001b[0;31m             \u001b[0mkeyarr\u001b[0m\u001b[0;34m,\u001b[0m \u001b[0mindexer\u001b[0m\u001b[0;34m,\u001b[0m \u001b[0mo\u001b[0m\u001b[0;34m.\u001b[0m\u001b[0m_get_axis_number\u001b[0m\u001b[0;34m(\u001b[0m\u001b[0maxis\u001b[0m\u001b[0;34m)\u001b[0m\u001b[0;34m,\u001b[0m \u001b[0mraise_missing\u001b[0m\u001b[0;34m=\u001b[0m\u001b[0mraise_missing\u001b[0m\u001b[0;34m\u001b[0m\u001b[0;34m\u001b[0m\u001b[0m\n\u001b[0m\u001b[1;32m   1554\u001b[0m         )\n\u001b[1;32m   1555\u001b[0m         \u001b[0;32mreturn\u001b[0m \u001b[0mkeyarr\u001b[0m\u001b[0;34m,\u001b[0m \u001b[0mindexer\u001b[0m\u001b[0;34m\u001b[0m\u001b[0;34m\u001b[0m\u001b[0m\n",
      "\u001b[0;32m~/anaconda3/envs/adv_pythonFinal/lib/python3.7/site-packages/pandas/core/indexing.py\u001b[0m in \u001b[0;36m_validate_read_indexer\u001b[0;34m(self, key, indexer, axis, raise_missing)\u001b[0m\n\u001b[1;32m   1638\u001b[0m             \u001b[0;32mif\u001b[0m \u001b[0mmissing\u001b[0m \u001b[0;34m==\u001b[0m \u001b[0mlen\u001b[0m\u001b[0;34m(\u001b[0m\u001b[0mindexer\u001b[0m\u001b[0;34m)\u001b[0m\u001b[0;34m:\u001b[0m\u001b[0;34m\u001b[0m\u001b[0;34m\u001b[0m\u001b[0m\n\u001b[1;32m   1639\u001b[0m                 \u001b[0maxis_name\u001b[0m \u001b[0;34m=\u001b[0m \u001b[0mself\u001b[0m\u001b[0;34m.\u001b[0m\u001b[0mobj\u001b[0m\u001b[0;34m.\u001b[0m\u001b[0m_get_axis_name\u001b[0m\u001b[0;34m(\u001b[0m\u001b[0maxis\u001b[0m\u001b[0;34m)\u001b[0m\u001b[0;34m\u001b[0m\u001b[0;34m\u001b[0m\u001b[0m\n\u001b[0;32m-> 1640\u001b[0;31m                 \u001b[0;32mraise\u001b[0m \u001b[0mKeyError\u001b[0m\u001b[0;34m(\u001b[0m\u001b[0;34mf\"None of [{key}] are in the [{axis_name}]\"\u001b[0m\u001b[0;34m)\u001b[0m\u001b[0;34m\u001b[0m\u001b[0;34m\u001b[0m\u001b[0m\n\u001b[0m\u001b[1;32m   1641\u001b[0m \u001b[0;34m\u001b[0m\u001b[0m\n\u001b[1;32m   1642\u001b[0m             \u001b[0;31m# We (temporarily) allow for some missing keys with .loc, except in\u001b[0m\u001b[0;34m\u001b[0m\u001b[0;34m\u001b[0m\u001b[0;34m\u001b[0m\u001b[0m\n",
      "\u001b[0;31mKeyError\u001b[0m: \"None of [Index(['Ticker', 'Close'], dtype='object', name='Date')] are in the [index]\""
     ]
    }
   ],
   "source": [
    "# do the pivot\n",
    "close_px = pivot_tickers_to_columns(raw, \"Close\")\n",
    "# peek at the result\n",
    "close_px[:5]"
   ]
  },
  {
   "cell_type": "markdown",
   "metadata": {},
   "source": [
    "# Plotting time-series prices"
   ]
  },
  {
   "cell_type": "code",
   "execution_count": null,
   "metadata": {},
   "outputs": [],
   "source": [
    "# plot the closing prices of SAGE\n",
    "close_px[userTicker].plot();"
   ]
  },
  {
   "cell_type": "code",
   "execution_count": null,
   "metadata": {
    "scrolled": true
   },
   "outputs": [],
   "source": [
    "# plot the closing prices of INO\n",
    "#close_px[userTicker].plot();"
   ]
  },
  {
   "cell_type": "code",
   "execution_count": null,
   "metadata": {},
   "outputs": [],
   "source": [
    "# plot MSFT vs AAPL on the same chart\n",
    "#close_px[['SAGE', userTicke]].plot();"
   ]
  },
  {
   "cell_type": "raw",
   "metadata": {},
   "source": [
    "# Plotting volume series data"
   ]
  },
  {
   "cell_type": "code",
   "execution_count": null,
   "metadata": {},
   "outputs": [],
   "source": [
    "# pivot the volume data into columns\n",
    "volumes = pivot_tickers_to_columns(raw, \"Volume\")\n",
    "volumes.tail()"
   ]
  },
  {
   "cell_type": "code",
   "execution_count": null,
   "metadata": {},
   "outputs": [],
   "source": [
    "# plot the volume for MSFT\n",
    "userTicker_volume = volumes[[userTicker]]\n",
    "plt.bar(INO_volume.index, userTicker_volume[userTicker])\n",
    "plt.gcf().set_size_inches(15,8)"
   ]
  },
  {
   "cell_type": "code",
   "execution_count": null,
   "metadata": {},
   "outputs": [],
   "source": [
    "# draw the price history on the top\n",
    "top = plt.subplot2grid((4,4), (0, 0), rowspan=3, colspan=4)\n",
    "top.plot(close_px['userTicke'].index, close_px['userTicke'], \n",
    "         label='userTicke Close')\n",
    "plt.title('userTicke Close Price 2012 - 2014')\n",
    "plt.legend(loc=2)\n",
    "\n",
    "# and the volume along the bottom\n",
    "bottom = plt.subplot2grid((4,4), (3,0), rowspan=1, colspan=4)\n",
    "bottom.bar(userTicke_volume.index, userTicke_volume['userTicke'])\n",
    "plt.title('userTicke Trading Volume 2012 - 2014')\n",
    "plt.subplots_adjust(hspace=0.75)\n",
    "plt.gcf().set_size_inches(15,8)"
   ]
  },
  {
   "cell_type": "markdown",
   "metadata": {},
   "source": [
    "# Calculating simple daily percentage change"
   ]
  },
  {
   "cell_type": "code",
   "execution_count": null,
   "metadata": {},
   "outputs": [],
   "source": [
    "# calculate daily percentage change\n",
    "daily_pc = close_px / close_px.shift(1) - 1\n",
    "daily_pc[:5]"
   ]
  },
  {
   "cell_type": "code",
   "execution_count": null,
   "metadata": {},
   "outputs": [],
   "source": [
    "# check the percentage on 2012-01-05\n",
    "close_px.loc['2017-01-05'][userTicke] / \\\n",
    "    close_px.loc['2017-01-04'][userTicke] -1"
   ]
  },
  {
   "cell_type": "code",
   "execution_count": null,
   "metadata": {
    "scrolled": true
   },
   "outputs": [],
   "source": [
    "# plot daily percentage change for INO\n",
    "daily_pc[userTicke].plot();"
   ]
  },
  {
   "cell_type": "markdown",
   "metadata": {},
   "source": [
    "# Calculating simple daily cumulative returns"
   ]
  },
  {
   "cell_type": "code",
   "execution_count": null,
   "metadata": {},
   "outputs": [],
   "source": [
    "# calculate daily cumulative return\n",
    "daily_cr = (1 + daily_pc).cumprod()\n",
    "daily_cr[:5]"
   ]
  },
  {
   "cell_type": "code",
   "execution_count": null,
   "metadata": {
    "scrolled": false
   },
   "outputs": [],
   "source": [
    "# plot all the cumulative returns to get an idea \n",
    "# of the relative performance of all the stocks\n",
    "daily_cr.plot(figsize=(16,6))\n",
    "plt.legend(loc=2);"
   ]
  },
  {
   "cell_type": "markdown",
   "metadata": {},
   "source": [
    "# Resampling data from daily to monthly returns"
   ]
  },
  {
   "cell_type": "code",
   "execution_count": null,
   "metadata": {},
   "outputs": [],
   "source": [
    "# resample to end of month and forward fill values\n",
    "monthly = close_px.asfreq('M').ffill()\n",
    "monthly[:5]"
   ]
  },
  {
   "cell_type": "code",
   "execution_count": null,
   "metadata": {},
   "outputs": [],
   "source": [
    "# calculate the monthly percentage changes\n",
    "monthly_pc = monthly / monthly.shift(1) - 1\n",
    "monthly_pc[:5]"
   ]
  },
  {
   "cell_type": "code",
   "execution_count": null,
   "metadata": {},
   "outputs": [],
   "source": [
    "# calculate monthly cumulative return\n",
    "monthly_cr = (1 + monthly_pc).cumprod()\n",
    "monthly_cr[:5]"
   ]
  },
  {
   "cell_type": "code",
   "execution_count": null,
   "metadata": {
    "scrolled": true
   },
   "outputs": [],
   "source": [
    "# plot the monthly cumulative returns\n",
    "monthly_cr.plot(figsize=(16,6))\n",
    "plt.legend(loc=2);"
   ]
  },
  {
   "cell_type": "markdown",
   "metadata": {},
   "source": [
    "# Analyzing distribution of returns"
   ]
  },
  {
   "cell_type": "code",
   "execution_count": null,
   "metadata": {},
   "outputs": [],
   "source": [
    "# histogram of the daily percentage change for AAPL\n",
    "aapl = daily_pc[userTicke]\n",
    "aapl.hist(bins=50);"
   ]
  },
  {
   "cell_type": "code",
   "execution_count": null,
   "metadata": {
    "scrolled": true
   },
   "outputs": [],
   "source": [
    "# matrix of all stocks daily % changes histograms\n",
    "daily_pc.hist(bins=50, figsize=(16,6));"
   ]
  },
  {
   "cell_type": "markdown",
   "metadata": {},
   "source": [
    "# Performing moving average calculation"
   ]
  },
  {
   "cell_type": "code",
   "execution_count": null,
   "metadata": {},
   "outputs": [],
   "source": [
    "# extract just INO close\n",
    "INO_close = close_px[[userTicke]][userTicke]\n",
    "# calculate the 30 and 90 day rolling means\n",
    "ma_30 = INO_close.rolling(window=30).mean()\n",
    "ma_90 = INO_close.rolling(window=90).mean()\n",
    "# compose into a DataFrame that can be plotted\n",
    "result = pd.DataFrame({'Close': INO_close, \n",
    "                       '30_MA_Close': ma_30,\n",
    "                       '90_MA_Close': ma_90})\n",
    "# plot all the series against each other\n",
    "result.plot(title=\"INO Close Price\")\n",
    "plt.gcf().set_size_inches(15,8)\n",
    "result"
   ]
  },
  {
   "cell_type": "markdown",
   "metadata": {},
   "source": [
    "# Comparision of average daily returns across stocks"
   ]
  },
  {
   "cell_type": "code",
   "execution_count": null,
   "metadata": {},
   "outputs": [],
   "source": [
    "# plot the daily percentage change of MSFT vs AAPL\n",
    "plt.scatter(daily_pc[userTicke], daily_pc['SAGE'])\n",
    "plt.xlabel(userTicke)\n",
    "plt.ylabel('SAGE');"
   ]
  },
  {
   "cell_type": "code",
   "execution_count": null,
   "metadata": {},
   "outputs": [],
   "source": [
    "# demonstrate perfect correlation\n",
    "plt.scatter(daily_pc[userTicke], daily_pc[userTicke]);"
   ]
  },
  {
   "cell_type": "code",
   "execution_count": null,
   "metadata": {
    "scrolled": false
   },
   "outputs": [],
   "source": [
    "#from pandas.plotting import scatter_matrix\n",
    "from pandas.plotting._misc import scatter_matrix\n",
    "# plot the scatter of daily price changed for ALL stocks\n",
    "scatter_matrix(daily_pc, diagonal='kde', figsize=(14,12));"
   ]
  },
  {
   "cell_type": "markdown",
   "metadata": {},
   "source": [
    "# Correlation of stocks based upon daily percentage change of closing price"
   ]
  },
  {
   "cell_type": "code",
   "execution_count": null,
   "metadata": {},
   "outputs": [],
   "source": [
    "# calculate the correlation between all the stocks relative\n",
    "# to daily percentage change\n",
    "corrs = daily_pc.corr()\n",
    "corrs"
   ]
  },
  {
   "cell_type": "code",
   "execution_count": null,
   "metadata": {
    "scrolled": true
   },
   "outputs": [],
   "source": [
    "# plot a heatmap of the correlations\n",
    "plt.imshow(corrs, cmap='hot', interpolation='none')\n",
    "plt.colorbar()\n",
    "plt.xticks(range(len(corrs)), corrs.columns)\n",
    "plt.yticks(range(len(corrs)), corrs.columns)\n",
    "plt.gcf().set_size_inches(12,10)"
   ]
  },
  {
   "cell_type": "markdown",
   "metadata": {},
   "source": [
    "# Volatility"
   ]
  },
  {
   "cell_type": "code",
   "execution_count": null,
   "metadata": {
    "scrolled": true
   },
   "outputs": [],
   "source": [
    "# 75 period minimum\n",
    "min_periods = 75\n",
    "# calculate the volatility\n",
    "vol = daily_pc.rolling(window=min_periods).std() * \\\n",
    "        np.sqrt(min_periods)\n",
    "# plot  \n",
    "vol.plot(figsize=(16, 8));"
   ]
  },
  {
   "cell_type": "markdown",
   "metadata": {},
   "source": [
    "# Determining risk relative to expected returns"
   ]
  },
  {
   "cell_type": "code",
   "execution_count": null,
   "metadata": {
    "scrolled": true
   },
   "outputs": [],
   "source": [
    "# generate a scatter of the mean vs std of daily % change\n",
    "plt.scatter(daily_pc.mean(), daily_pc.std())\n",
    "plt.xlabel('Expected returns')\n",
    "plt.ylabel('Risk')\n",
    "\n",
    "# this adds fancy labels to each dot, with an arrow too\n",
    "for label, x, y in zip(daily_pc.columns, \n",
    "                       daily_pc.mean(), \n",
    "                       daily_pc.std()):\n",
    "    plt.annotate(\n",
    "        label, \n",
    "        xy = (x, y), xytext = (30, -30),\n",
    "        textcoords = 'offset points', ha = 'right', \n",
    "        va = 'bottom',\n",
    "        bbox = dict(boxstyle = 'round,pad=0.5', \n",
    "                    fc = 'yellow', \n",
    "                    alpha = 0.5),\n",
    "        arrowprops = dict(arrowstyle = '->', \n",
    "                          connectionstyle = 'arc3,rad=0'))\n",
    "\n",
    "# set ranges and scales for good presentation\n",
    "plt.xlim(-0.001, 0.003)\n",
    "plt.ylim(0.005, 0.0600)\n",
    "\n",
    "# set size\n",
    "plt.gcf().set_size_inches(10,8)"
   ]
  },
  {
   "cell_type": "code",
   "execution_count": null,
   "metadata": {},
   "outputs": [],
   "source": []
  },
  {
   "cell_type": "code",
   "execution_count": null,
   "metadata": {},
   "outputs": [],
   "source": []
  }
 ],
 "metadata": {
  "kernelspec": {
   "display_name": "Python 3",
   "language": "python",
   "name": "python3"
  },
  "language_info": {
   "codemirror_mode": {
    "name": "ipython",
    "version": 3
   },
   "file_extension": ".py",
   "mimetype": "text/x-python",
   "name": "python",
   "nbconvert_exporter": "python",
   "pygments_lexer": "ipython3",
   "version": "3.7.7"
  }
 },
 "nbformat": 4,
 "nbformat_minor": 1
}
