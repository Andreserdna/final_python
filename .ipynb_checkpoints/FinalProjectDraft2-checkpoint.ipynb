{
 "cells": [
  {
   "cell_type": "markdown",
   "metadata": {},
   "source": [
    "# Configuring pandas"
   ]
  },
  {
   "cell_type": "code",
   "execution_count": 1,
   "metadata": {
    "scrolled": true
   },
   "outputs": [
    {
     "name": "stderr",
     "output_type": "stream",
     "text": [
      "C:\\Users\\marma\\anaconda3\\lib\\site-packages\\ipykernel_launcher.py:5: FutureWarning: pandas.util.testing is deprecated. Use the functions in the public API at pandas.testing instead.\n",
      "  \"\"\"\n"
     ]
    }
   ],
   "source": [
    "# import numpy and pandas\n",
    "import numpy as np\n",
    "import pandas as pd\n",
    "import os.path\n",
    "from pandas.util.testing import assert_frame_equal\n",
    "import csv\n",
    "\n",
    "# used for handling dates\n",
    "import datetime\n",
    "from datetime import datetime, date,timedelta\n",
    "\n",
    "# bring in matplotlib for graphics\n",
    "import matplotlib.pyplot as plt\n",
    "%matplotlib inline\n",
    "\n",
    "# Set formattign options\n",
    "pd.set_option('display.notebook_repr_html', True)\n",
    "pd.set_option('display.max_columns', 7)\n",
    "pd.set_option('display.max_rows', 10)\n",
    "pd.set_option('display.width', 60)"
   ]
  },
  {
   "cell_type": "markdown",
   "metadata": {},
   "source": [
    "# Request ticker name from user and generate list of trading days"
   ]
  },
  {
   "cell_type": "code",
   "execution_count": 2,
   "metadata": {
    "scrolled": true
   },
   "outputs": [
    {
     "name": "stdout",
     "output_type": "stream",
     "text": [
      "Enter ticker name: AAL\n",
      "<class 'str'>\n"
     ]
    }
   ],
   "source": [
    "userTicker = input(\"Enter ticker name: \")\n",
    "weekdays = ['Monday', 'Tuesday', 'Wednesday', 'Thursday', 'Friday']\n",
    "print(type(userTicker))"
   ]
  },
  {
   "cell_type": "code",
   "execution_count": 3,
   "metadata": {},
   "outputs": [
    {
     "name": "stdout",
     "output_type": "stream",
     "text": [
      "Ente the day name for market close ex :Monday\n"
     ]
    }
   ],
   "source": [
    "#Request the closing day name from user\n",
    "daynameTemp = str(input(\"Ente the day name for market close ex :\"))"
   ]
  },
  {
   "cell_type": "code",
   "execution_count": 4,
   "metadata": {},
   "outputs": [],
   "source": [
    "# Function to select trading day and return date in correct date format \n",
    "def get_previous_byday(dayname, start_date=None):\n",
    "    if start_date is None:\n",
    "        start_date = datetime.today()\n",
    "        day_num = start_date.weekday()\n",
    "        day_num_target = weekdays.index(dayname)\n",
    "        days_ago = (7 + day_num - day_num_target) % 7\n",
    "    if days_ago ==0 and start_date.hour >= 13:\n",
    "        return start_date\n",
    "    if days_ago == 0:\n",
    "        days_ago = 7\n",
    "    target_date = start_date - timedelta(days=days_ago)\n",
    "    return target_date"
   ]
  },
  {
   "cell_type": "code",
   "execution_count": 5,
   "metadata": {},
   "outputs": [
    {
     "name": "stdout",
     "output_type": "stream",
     "text": [
      "This is the target date: 2020-05-18 21:30:59.990104\n"
     ]
    }
   ],
   "source": [
    "#Display the target close date to user\n",
    "print(\"This is the target date:\", get_previous_byday(daynameTemp))\n",
    "dateText = get_previous_byday(daynameTemp)"
   ]
  },
  {
   "cell_type": "code",
   "execution_count": 6,
   "metadata": {},
   "outputs": [],
   "source": [
    "#Create Year, Month, Day date variable\n",
    "myYear = str(dateText.year)\n",
    "myMonth = str(dateText.month)\n",
    "myDay = str(dateText.day)"
   ]
  },
  {
   "cell_type": "markdown",
   "metadata": {},
   "source": [
    "# Input stock ticker names from a csv file"
   ]
  },
  {
   "cell_type": "code",
   "execution_count": 10,
   "metadata": {
    "scrolled": false
   },
   "outputs": [
    {
     "name": "stdout",
     "output_type": "stream",
     "text": [
      "File found\n"
     ]
    }
   ],
   "source": [
    "#CSV file is read from current working directory\n",
    "#Import os to use abs file path\n",
    "import os\n",
    "\n",
    "#user current dir\n",
    "cwd = os.getcwd()\n",
    "\n",
    "new_u_file = 'complete_ticker_list.csv'\n",
    "\n",
    "#complete path file\n",
    "abs_file_path = os.path.join(cwd,new_u_file)\n",
    "\n",
    "if os.path.isfile(abs_file_path):\n",
    "    print(\"File found\")\n",
    "try:\n",
    "    fhand = open(abs_file_path, 'r')\n",
    "except:\n",
    "    print('File cannot be opened:', new_u_file)\n",
    "    #exit()\n",
    "\n",
    "tmptickers = list()\n",
    "for line in fhand:\n",
    "    line = line.rstrip()\n",
    "    if len(line) == 0 : continue\n",
    "    tmptickers.append(line)"
   ]
  },
  {
   "cell_type": "code",
   "execution_count": 11,
   "metadata": {
    "scrolled": true
   },
   "outputs": [
    {
     "data": {
      "text/plain": [
       "['TIX_symbols',\n",
       " 'AACG',\n",
       " 'AAL',\n",
       " 'AAME',\n",
       " 'AAOI',\n",
       " 'AAON',\n",
       " 'AAPL',\n",
       " 'AAWW',\n",
       " 'AAXJ',\n",
       " 'AAXN',\n",
       " 'ABCB',\n",
       " 'ABEO',\n",
       " 'ABIO',\n",
       " 'ABMD',\n",
       " 'ABTX',\n",
       " 'ABUS',\n",
       " 'ACAD',\n",
       " 'ACAM',\n",
       " 'ACAMU',\n",
       " 'ACAMW',\n",
       " 'ACBI',\n",
       " 'ACCP',\n",
       " 'ACER',\n",
       " 'ACGL',\n",
       " 'ACGLO',\n",
       " 'ACGLP',\n",
       " 'ACHC',\n",
       " 'ACHV',\n",
       " 'ACIA',\n",
       " 'ACIU',\n",
       " 'ACIW',\n",
       " 'ACLS',\n",
       " 'ACMR',\n",
       " 'ACNB',\n",
       " 'ACOR',\n",
       " 'ACRS',\n",
       " 'ACRX',\n",
       " 'ACST',\n",
       " 'ACT',\n",
       " 'ACTG',\n",
       " 'ACTT',\n",
       " 'ACTTU',\n",
       " 'ACTTW',\n",
       " 'ACWI',\n",
       " 'ACWX',\n",
       " 'ADAP',\n",
       " 'ADBE',\n",
       " 'ADES',\n",
       " 'ADI',\n",
       " 'ADIL',\n",
       " 'ADILW',\n",
       " 'ADMA',\n",
       " 'ADMP',\n",
       " 'ADMS',\n",
       " 'ADP',\n",
       " 'ADPT',\n",
       " 'ADRE',\n",
       " 'ADRO',\n",
       " 'ADSK',\n",
       " 'ADTN',\n",
       " 'ADUS',\n",
       " 'ADVM',\n",
       " 'ADXN',\n",
       " 'ADXS',\n",
       " 'AEGN',\n",
       " 'AEHR',\n",
       " 'AEIS',\n",
       " 'AEMD',\n",
       " 'AERI',\n",
       " 'AESE',\n",
       " 'AEY',\n",
       " 'AEYE',\n",
       " 'AEZS',\n",
       " 'AFH',\n",
       " 'AFIN',\n",
       " 'AFINP',\n",
       " 'AFMD',\n",
       " 'AFYA',\n",
       " 'AGBA',\n",
       " 'AGBAR',\n",
       " 'AGBAU',\n",
       " 'AGBAW',\n",
       " 'AGEN',\n",
       " 'AGFS',\n",
       " 'AGFSW',\n",
       " 'AGIO',\n",
       " 'AGLE',\n",
       " 'AGMH',\n",
       " 'AGNC',\n",
       " 'AGNCM',\n",
       " 'AGNCN',\n",
       " 'AGNCO',\n",
       " 'AGNCP',\n",
       " 'AGND',\n",
       " 'AGRX',\n",
       " 'AGTC',\n",
       " 'AGYS',\n",
       " 'AGZD',\n",
       " 'AHCO',\n",
       " 'AHI',\n",
       " 'AHPI',\n",
       " 'AIA',\n",
       " 'AIH',\n",
       " 'AIHS',\n",
       " 'AIKI',\n",
       " 'AIMC',\n",
       " 'AIMT',\n",
       " 'AINV',\n",
       " 'AIQ',\n",
       " 'AIRG',\n",
       " 'AIRR',\n",
       " 'AIRT',\n",
       " 'AIRTP',\n",
       " 'AIRTW',\n",
       " 'AKAM',\n",
       " 'AKBA',\n",
       " 'AKCA',\n",
       " 'AKER',\n",
       " 'AKRO',\n",
       " 'AKRX',\n",
       " 'AKTS',\n",
       " 'AKTX',\n",
       " 'ALAC',\n",
       " 'ALACR',\n",
       " 'ALACU',\n",
       " 'ALACW',\n",
       " 'ALBO',\n",
       " 'ALCO',\n",
       " 'ALDX',\n",
       " 'ALEC',\n",
       " 'ALGN',\n",
       " 'ALGT',\n",
       " 'ALIM',\n",
       " 'ALIT',\n",
       " 'ALJJ',\n",
       " 'ALKS',\n",
       " 'ALLK',\n",
       " 'ALLO',\n",
       " 'ALLT',\n",
       " 'ALNA',\n",
       " 'ALNY',\n",
       " 'ALOT',\n",
       " 'ALPN',\n",
       " 'ALRM',\n",
       " 'ALRN',\n",
       " 'ALRS',\n",
       " 'ALSK',\n",
       " 'ALT',\n",
       " 'ALTM',\n",
       " 'ALTR',\n",
       " 'ALTY',\n",
       " 'ALXN',\n",
       " 'ALYA',\n",
       " 'AMAG',\n",
       " 'AMAL',\n",
       " 'AMAT',\n",
       " 'AMBA',\n",
       " 'AMBC',\n",
       " 'AMCA',\n",
       " 'AMCI',\n",
       " 'AMCIU',\n",
       " 'AMCIW',\n",
       " 'AMCX',\n",
       " 'AMD',\n",
       " 'AMED',\n",
       " 'AMEH',\n",
       " 'AMGN',\n",
       " 'AMHC',\n",
       " 'AMHCU',\n",
       " 'AMHCW',\n",
       " 'AMKR',\n",
       " 'AMNB',\n",
       " 'AMOT',\n",
       " 'AMOV',\n",
       " 'AMPH',\n",
       " 'AMRB',\n",
       " 'AMRH',\n",
       " 'AMRHW',\n",
       " 'AMRK',\n",
       " 'AMRN',\n",
       " 'AMRS',\n",
       " 'AMSC',\n",
       " 'AMSF',\n",
       " 'AMSWA',\n",
       " 'AMTB',\n",
       " 'AMTBB',\n",
       " 'AMTD',\n",
       " 'AMTX',\n",
       " 'AMWD',\n",
       " 'AMZN',\n",
       " 'ANAB',\n",
       " 'ANAT',\n",
       " 'ANCN',\n",
       " 'ANDA',\n",
       " 'ANDAR',\n",
       " 'ANDAU',\n",
       " 'ANDAW',\n",
       " 'ANDE',\n",
       " 'ANGI',\n",
       " 'ANGL',\n",
       " 'ANGO',\n",
       " 'ANIK',\n",
       " 'ANIP',\n",
       " 'ANIX',\n",
       " 'ANPC',\n",
       " 'ANSS',\n",
       " 'ANTE',\n",
       " 'ANY',\n",
       " 'AOBC',\n",
       " 'AOSL',\n",
       " 'APDN',\n",
       " 'APEI',\n",
       " 'APEN',\n",
       " 'APEX',\n",
       " 'APLS',\n",
       " 'APLT',\n",
       " 'APM',\n",
       " 'APOG',\n",
       " 'APOP',\n",
       " 'APOPW',\n",
       " 'APPF',\n",
       " 'APPN',\n",
       " 'APPS',\n",
       " 'APRE',\n",
       " 'APTO',\n",
       " 'APTX',\n",
       " 'APVO',\n",
       " 'APWC',\n",
       " 'APXT',\n",
       " 'APXTU',\n",
       " 'APXTW',\n",
       " 'APYX',\n",
       " 'AQB',\n",
       " 'AQMS',\n",
       " 'AQST',\n",
       " 'ARAV',\n",
       " 'ARAY',\n",
       " 'ARCB',\n",
       " 'ARCC',\n",
       " 'ARCE',\n",
       " 'ARCT',\n",
       " 'ARDS',\n",
       " 'ARDX',\n",
       " 'AREC',\n",
       " 'ARGX',\n",
       " 'ARKR',\n",
       " 'ARLP',\n",
       " 'ARNA',\n",
       " 'AROW',\n",
       " 'ARPO',\n",
       " 'ARQT',\n",
       " 'ARTL',\n",
       " 'ARTLW',\n",
       " 'ARTNA',\n",
       " 'ARTW',\n",
       " 'ARVN',\n",
       " 'ARWR',\n",
       " 'ARYA',\n",
       " 'ARYAU',\n",
       " 'ARYAW',\n",
       " 'ASET',\n",
       " 'ASFI',\n",
       " 'ASLN',\n",
       " 'ASMB',\n",
       " 'ASML',\n",
       " 'ASNA',\n",
       " 'ASND',\n",
       " 'ASPS',\n",
       " 'ASPU',\n",
       " 'ASRT',\n",
       " 'ASRV',\n",
       " 'ASRVP',\n",
       " 'ASTC',\n",
       " 'ASTE',\n",
       " 'ASUR',\n",
       " 'ASYS',\n",
       " 'ATAX',\n",
       " 'ATCX',\n",
       " 'ATCXW',\n",
       " 'ATEC',\n",
       " 'ATEX',\n",
       " 'ATHE',\n",
       " 'ATHX',\n",
       " 'ATIF',\n",
       " 'ATLC',\n",
       " 'ATLO',\n",
       " 'ATNI',\n",
       " 'ATNX',\n",
       " 'ATOM',\n",
       " 'ATOS',\n",
       " 'ATRA',\n",
       " 'ATRC',\n",
       " 'ATRI',\n",
       " 'ATRO',\n",
       " 'ATRS',\n",
       " 'ATSG',\n",
       " 'ATVI',\n",
       " 'ATXI',\n",
       " 'AUB',\n",
       " 'AUBN',\n",
       " 'AUDC',\n",
       " 'AUPH',\n",
       " 'AUTL',\n",
       " 'AUTO',\n",
       " 'AVAV',\n",
       " 'AVCO',\n",
       " 'AVCT',\n",
       " 'AVCTW',\n",
       " 'AVDL',\n",
       " 'AVEO',\n",
       " 'AVGO',\n",
       " 'AVGOP',\n",
       " 'AVGR',\n",
       " 'AVID',\n",
       " 'AVNW',\n",
       " 'AVRO',\n",
       " 'AVT',\n",
       " 'AVXL',\n",
       " 'AWRE',\n",
       " 'AXAS',\n",
       " 'AXDX',\n",
       " 'AXGN',\n",
       " 'AXGT',\n",
       " 'AXLA',\n",
       " 'AXNX',\n",
       " 'AXSM',\n",
       " 'AXTI',\n",
       " 'AY',\n",
       " 'AYTU',\n",
       " 'AZPN',\n",
       " 'AZRX',\n",
       " 'BAND',\n",
       " 'BANF',\n",
       " 'BANFP',\n",
       " 'BANR',\n",
       " 'BANX',\n",
       " 'BASI',\n",
       " 'BATRA',\n",
       " 'BATRK',\n",
       " 'BBBY',\n",
       " 'BBC',\n",
       " 'BBCP',\n",
       " 'BBGI',\n",
       " 'BBH',\n",
       " 'BBI',\n",
       " 'BBIO',\n",
       " 'BBP',\n",
       " 'BBQ',\n",
       " 'BBRX',\n",
       " 'BBSI',\n",
       " 'BCBP',\n",
       " 'BCDA',\n",
       " 'BCDAW',\n",
       " 'BCEL',\n",
       " 'BCLI',\n",
       " 'BCML',\n",
       " 'BCOM',\n",
       " 'BCOR',\n",
       " 'BCOV',\n",
       " 'BCOW',\n",
       " 'BCPC',\n",
       " 'BCRX',\n",
       " 'BCTF',\n",
       " 'BCTX',\n",
       " 'BCYC',\n",
       " 'BDGE',\n",
       " 'BDSI',\n",
       " 'BDTX',\n",
       " 'BEAM',\n",
       " 'BEAT',\n",
       " 'BECN',\n",
       " 'BELFA',\n",
       " 'BELFB',\n",
       " 'BFC',\n",
       " 'BFIN',\n",
       " 'BFIT',\n",
       " 'BFRA',\n",
       " 'BFST',\n",
       " 'BFYT',\n",
       " 'BGCP',\n",
       " 'BGFV',\n",
       " 'BGNE',\n",
       " 'BGRN',\n",
       " 'BHAT',\n",
       " 'BHF',\n",
       " 'BHFAL',\n",
       " 'BHFAP',\n",
       " 'BHTG',\n",
       " 'BIB',\n",
       " 'BICK',\n",
       " 'BIDU',\n",
       " 'BIIB',\n",
       " 'BILI',\n",
       " 'BIMI',\n",
       " 'BIOC',\n",
       " 'BIOL',\n",
       " 'BIS',\n",
       " 'BIVI',\n",
       " 'BJK',\n",
       " 'BJRI',\n",
       " 'BKCC',\n",
       " 'BKEP',\n",
       " 'BKEPP',\n",
       " 'BKNG',\n",
       " 'BKSC',\n",
       " 'BKYI',\n",
       " 'BL',\n",
       " 'BLBD',\n",
       " 'BLCM',\n",
       " 'BLCN',\n",
       " 'BLDP',\n",
       " 'BLDR',\n",
       " 'BLFS',\n",
       " 'BLIN',\n",
       " 'BLKB',\n",
       " 'BLMN',\n",
       " 'BLNK',\n",
       " 'BLNKW',\n",
       " 'BLPH',\n",
       " 'BLRX',\n",
       " 'BLU',\n",
       " 'BLUE',\n",
       " 'BMCH',\n",
       " 'BMLP',\n",
       " 'BMRA',\n",
       " 'BMRC',\n",
       " 'BMRN',\n",
       " 'BMTC',\n",
       " 'BND',\n",
       " 'BNDW',\n",
       " 'BNDX',\n",
       " 'BNFT',\n",
       " 'BNGO',\n",
       " 'BNGOW',\n",
       " 'BNSO',\n",
       " 'BNTC',\n",
       " 'BNTX',\n",
       " 'BOCH',\n",
       " 'BOKF',\n",
       " 'BOKFL',\n",
       " 'BOMN',\n",
       " 'BOOM',\n",
       " 'BOSC',\n",
       " 'BOTJ',\n",
       " 'BOTZ',\n",
       " 'BOXL',\n",
       " 'BPFH',\n",
       " 'BPMC',\n",
       " 'BPOP',\n",
       " 'BPOPM',\n",
       " 'BPOPN',\n",
       " 'BPRN',\n",
       " 'BPTH',\n",
       " 'BPY',\n",
       " 'BPYPN',\n",
       " 'BPYPO',\n",
       " 'BPYPP',\n",
       " 'BPYU',\n",
       " 'BPYUP',\n",
       " 'BREW',\n",
       " 'BRID',\n",
       " 'BRKL',\n",
       " 'BRKR',\n",
       " 'BRKS',\n",
       " 'BROG',\n",
       " 'BROGW',\n",
       " 'BRP',\n",
       " 'BRPA',\n",
       " 'BRPAR',\n",
       " 'BRPAU',\n",
       " 'BRPAW',\n",
       " 'BRQS',\n",
       " 'BRY',\n",
       " 'BSAE',\n",
       " 'BSBE',\n",
       " 'BSBK',\n",
       " 'BSCE',\n",
       " 'BSCK',\n",
       " 'BSCL',\n",
       " 'BSCM',\n",
       " 'BSCN',\n",
       " 'BSCO',\n",
       " 'BSCP',\n",
       " 'BSCQ',\n",
       " 'BSCR',\n",
       " 'BSCS',\n",
       " 'BSCT',\n",
       " 'BSDE',\n",
       " 'BSET',\n",
       " 'BSGM',\n",
       " 'BSJK',\n",
       " 'BSJL',\n",
       " 'BSJM',\n",
       " 'BSJN',\n",
       " 'BSJO',\n",
       " 'BSJP',\n",
       " 'BSJQ',\n",
       " 'BSJR',\n",
       " 'BSML',\n",
       " 'BSMM',\n",
       " 'BSMN',\n",
       " 'BSMO',\n",
       " 'BSMP',\n",
       " 'BSMQ',\n",
       " 'BSMR',\n",
       " 'BSMS',\n",
       " 'BSMT',\n",
       " 'BSQR',\n",
       " 'BSRR',\n",
       " 'BSTC',\n",
       " 'BSVN',\n",
       " 'BTAI',\n",
       " 'BTEC',\n",
       " 'BUG',\n",
       " 'BUSE',\n",
       " 'BVSN',\n",
       " 'BVXV',\n",
       " 'BVXVW',\n",
       " 'BWAY',\n",
       " 'BWB',\n",
       " 'BWEN',\n",
       " 'BWFG',\n",
       " 'BWMX',\n",
       " 'BXRX',\n",
       " 'BYFC',\n",
       " 'BYND',\n",
       " 'BYSI',\n",
       " 'BZUN',\n",
       " 'CAAS',\n",
       " 'CABA',\n",
       " 'CAC',\n",
       " 'CACC',\n",
       " 'CACG',\n",
       " 'CAKE',\n",
       " 'CALA',\n",
       " 'CALB',\n",
       " 'CALM',\n",
       " 'CAMP',\n",
       " 'CAMT',\n",
       " 'CAN',\n",
       " 'CAPR',\n",
       " 'CAR',\n",
       " 'CARA',\n",
       " 'CARE',\n",
       " 'CARG',\n",
       " 'CARV',\n",
       " 'CARZ',\n",
       " 'CASA',\n",
       " 'CASH',\n",
       " 'CASI',\n",
       " 'CASS',\n",
       " 'CASY',\n",
       " 'CATB',\n",
       " 'CATC',\n",
       " 'CATH',\n",
       " 'CATM',\n",
       " 'CATS',\n",
       " 'CATY',\n",
       " 'CBAN',\n",
       " 'CBAT',\n",
       " 'CBAY',\n",
       " 'CBFV',\n",
       " 'CBIO',\n",
       " 'CBLI',\n",
       " 'CBMB',\n",
       " 'CBMG',\n",
       " 'CBNK',\n",
       " 'CBOE',\n",
       " 'CBPO',\n",
       " 'CBRL',\n",
       " 'CBSH',\n",
       " 'CBSHP',\n",
       " 'CBTX',\n",
       " 'CCAP',\n",
       " 'CCB',\n",
       " 'CCBG',\n",
       " 'CCCL',\n",
       " 'CCD',\n",
       " 'CCLP',\n",
       " 'CCMP',\n",
       " 'CCNE',\n",
       " 'CCOI',\n",
       " 'CCRC',\n",
       " 'CCRN',\n",
       " 'CCXI',\n",
       " 'CDC',\n",
       " 'CDEV',\n",
       " 'CDK',\n",
       " 'CDL',\n",
       " 'CDLX',\n",
       " 'CDMO',\n",
       " 'CDMOP',\n",
       " 'CDNA',\n",
       " 'CDNS',\n",
       " 'CDOR',\n",
       " 'CDTX',\n",
       " 'CDW',\n",
       " 'CDXC',\n",
       " 'CDXS',\n",
       " 'CDZI',\n",
       " 'CECE',\n",
       " 'CELC',\n",
       " 'CELH',\n",
       " 'CEMI',\n",
       " 'CENT',\n",
       " 'CENTA',\n",
       " 'CENX',\n",
       " 'CERC',\n",
       " 'CERN',\n",
       " 'CERS',\n",
       " 'CETV',\n",
       " 'CETX',\n",
       " 'CETXP',\n",
       " 'CETXW',\n",
       " 'CEVA',\n",
       " 'CEY',\n",
       " 'CEZ',\n",
       " 'CFA',\n",
       " 'CFB',\n",
       " 'CFBI',\n",
       " 'CFBK',\n",
       " 'CFFA',\n",
       " 'CFFAU',\n",
       " 'CFFAW',\n",
       " 'CFFI',\n",
       " 'CFFN',\n",
       " 'CFMS',\n",
       " 'CFO',\n",
       " 'CFRX',\n",
       " 'CG',\n",
       " 'CGBD',\n",
       " 'CGEN',\n",
       " 'CGIX',\n",
       " 'CGNX',\n",
       " 'CGO',\n",
       " 'CGROU',\n",
       " 'CHCI',\n",
       " 'CHCO',\n",
       " 'CHDN',\n",
       " 'CHEF',\n",
       " 'CHEK',\n",
       " 'CHEKZ',\n",
       " 'CHFS',\n",
       " 'CHI',\n",
       " 'CHIC',\n",
       " 'CHKP',\n",
       " 'CHMA',\n",
       " 'CHMG',\n",
       " 'CHNA',\n",
       " 'CHNG',\n",
       " 'CHNGU',\n",
       " 'CHNR',\n",
       " 'CHPM',\n",
       " 'CHPMU',\n",
       " 'CHPMW',\n",
       " 'CHRS',\n",
       " 'CHRW',\n",
       " 'CHSCL',\n",
       " 'CHSCM',\n",
       " 'CHSCN',\n",
       " 'CHSCO',\n",
       " 'CHSCP',\n",
       " 'CHTR',\n",
       " 'CHUY',\n",
       " 'CHW',\n",
       " 'CHY',\n",
       " 'CIBR',\n",
       " 'CID',\n",
       " 'CIDM',\n",
       " 'CIFS',\n",
       " 'CIGI',\n",
       " 'CIH',\n",
       " 'CIIC',\n",
       " 'CIICU',\n",
       " 'CIICW',\n",
       " 'CIL',\n",
       " 'CINF',\n",
       " 'CIVB',\n",
       " 'CIZ',\n",
       " 'CIZN',\n",
       " 'CJJD',\n",
       " 'CKPT',\n",
       " 'CLAR',\n",
       " 'CLBK',\n",
       " 'CLBS',\n",
       " 'CLCT',\n",
       " 'CLDB',\n",
       " 'CLDX',\n",
       " 'CLFD',\n",
       " 'CLGN',\n",
       " 'CLIR',\n",
       " 'CLLS',\n",
       " 'CLMT',\n",
       " 'CLNE',\n",
       " 'CLOU',\n",
       " 'CLPS',\n",
       " 'CLPT',\n",
       " 'CLRB',\n",
       " 'CLRBZ',\n",
       " 'CLRG',\n",
       " 'CLRO',\n",
       " 'CLSD',\n",
       " 'CLSK',\n",
       " 'CLSN',\n",
       " 'CLUB',\n",
       " 'CLVS',\n",
       " 'CLWT',\n",
       " 'CLXT',\n",
       " 'CMBM',\n",
       " 'CMCO',\n",
       " 'CMCSA',\n",
       " 'CMCT',\n",
       " 'CMCTP',\n",
       " 'CME',\n",
       " 'CMFNL',\n",
       " 'CMLS',\n",
       " 'CMPR',\n",
       " 'CMRX',\n",
       " 'CMTL',\n",
       " 'CNAT',\n",
       " 'CNBKA',\n",
       " 'CNCE',\n",
       " 'CNCR',\n",
       " 'CNDT',\n",
       " 'CNET',\n",
       " 'CNFR',\n",
       " 'CNFRL',\n",
       " 'CNMD',\n",
       " 'CNNB',\n",
       " 'CNOB',\n",
       " 'CNSL',\n",
       " 'CNSP',\n",
       " 'CNST',\n",
       " 'CNTG',\n",
       " 'CNTX',\n",
       " 'CNTY',\n",
       " 'CNXN',\n",
       " 'COCP',\n",
       " 'CODA',\n",
       " 'CODX',\n",
       " 'COFS',\n",
       " 'COHR',\n",
       " 'COHU',\n",
       " 'COKE',\n",
       " 'COLB',\n",
       " 'COLL',\n",
       " 'COLM',\n",
       " 'COMM',\n",
       " 'COMT',\n",
       " 'CONE',\n",
       " 'CONN',\n",
       " 'COOP',\n",
       " 'CORE',\n",
       " 'CORT',\n",
       " 'CORV',\n",
       " 'COST',\n",
       " 'COUP',\n",
       " 'COWN',\n",
       " 'COWNL',\n",
       " 'COWNZ',\n",
       " 'CPAA',\n",
       " 'CPAAU',\n",
       " 'CPAAW',\n",
       " 'CPAH',\n",
       " 'CPHC',\n",
       " 'CPIX',\n",
       " 'CPLP',\n",
       " 'CPRT',\n",
       " 'CPRX',\n",
       " 'CPSH',\n",
       " 'CPSI',\n",
       " 'CPSS',\n",
       " 'CPST',\n",
       " 'CPTA',\n",
       " 'CPTAG',\n",
       " 'CPTAL',\n",
       " 'CPTI',\n",
       " 'CPZ',\n",
       " 'CRAI',\n",
       " 'CRBP',\n",
       " 'CREE',\n",
       " 'CREG',\n",
       " 'CRESY',\n",
       " 'CREX',\n",
       " 'CREXW',\n",
       " 'CRIS',\n",
       " 'CRMT',\n",
       " 'CRNC',\n",
       " 'CRNT',\n",
       " 'CRNX',\n",
       " 'CRON',\n",
       " 'CROX',\n",
       " 'CRSA',\n",
       " 'CRSAU',\n",
       " 'CRSAW',\n",
       " 'CRSP',\n",
       " 'CRTO',\n",
       " 'CRTX',\n",
       " 'CRUS',\n",
       " 'CRVL',\n",
       " 'CRVS',\n",
       " 'CRWD',\n",
       " 'CRWS',\n",
       " 'CSA',\n",
       " 'CSB',\n",
       " 'CSBR',\n",
       " 'CSCO',\n",
       " 'CSF',\n",
       " 'CSFL',\n",
       " 'CSGP',\n",
       " 'CSGS',\n",
       " 'CSII',\n",
       " 'CSIQ',\n",
       " 'CSML',\n",
       " 'CSOD',\n",
       " 'CSPI',\n",
       " 'CSQ',\n",
       " 'CSSE',\n",
       " 'CSSEP',\n",
       " 'CSTE',\n",
       " 'CSTL',\n",
       " 'CSTR',\n",
       " 'CSWC',\n",
       " 'CSWCL',\n",
       " 'CSWI',\n",
       " 'CSX',\n",
       " 'CTAS',\n",
       " 'CTBI',\n",
       " 'CTG',\n",
       " 'CTHR',\n",
       " 'CTIB',\n",
       " 'CTIC',\n",
       " 'CTMX',\n",
       " 'CTRC',\n",
       " 'CTRE',\n",
       " 'CTRM',\n",
       " 'CTRN',\n",
       " 'CTSH',\n",
       " 'CTSO',\n",
       " 'CTXR',\n",
       " 'CTXRW',\n",
       " 'CTXS',\n",
       " 'CUBA',\n",
       " 'CUE',\n",
       " 'CUI',\n",
       " 'CUTR',\n",
       " 'CVBF',\n",
       " 'CVCO',\n",
       " 'CVCY',\n",
       " 'CVET',\n",
       " 'CVGI',\n",
       " 'CVGW',\n",
       " 'CVLT',\n",
       " 'CVLY',\n",
       " 'CVTI',\n",
       " 'CVV',\n",
       " 'CWBC',\n",
       " 'CWBR',\n",
       " 'CWCO',\n",
       " 'CWST',\n",
       " 'CXDC',\n",
       " 'CXSE',\n",
       " 'CYAD',\n",
       " 'CYAN',\n",
       " 'CYBE',\n",
       " 'CYBR',\n",
       " 'CYCC',\n",
       " 'CYCCP',\n",
       " 'CYCN',\n",
       " 'CYRN',\n",
       " 'CYRX',\n",
       " 'CYRXW',\n",
       " 'CYTK',\n",
       " 'CZNC',\n",
       " 'CZR',\n",
       " 'CZWI',\n",
       " 'DAIO',\n",
       " 'DAKT',\n",
       " 'DALI',\n",
       " 'DARE',\n",
       " 'DAX',\n",
       " 'DBVT',\n",
       " 'DBX',\n",
       " 'DCAR',\n",
       " 'DCOM',\n",
       " 'DCOMP',\n",
       " 'DCPH',\n",
       " 'DCTH',\n",
       " 'DDIV',\n",
       " 'DDOG',\n",
       " 'DENN',\n",
       " 'DFFN',\n",
       " 'DFNL',\n",
       " 'DFPH',\n",
       " 'DFPHU',\n",
       " 'DFPHW',\n",
       " 'DFVL',\n",
       " 'DFVS',\n",
       " 'DGICA',\n",
       " 'DGICB',\n",
       " 'DGII',\n",
       " 'DGLD',\n",
       " 'DGLY',\n",
       " 'DGRE',\n",
       " 'DGRS',\n",
       " 'DGRW',\n",
       " 'DHC',\n",
       " 'DHCNI',\n",
       " 'DHCNL',\n",
       " 'DHIL',\n",
       " 'DINT',\n",
       " 'DIOD',\n",
       " 'DISCA',\n",
       " 'DISCB',\n",
       " 'DISCK',\n",
       " 'DISH',\n",
       " 'DJCO',\n",
       " 'DKNG',\n",
       " 'DKNGW',\n",
       " 'DLHC',\n",
       " 'DLPN',\n",
       " 'DLPNW',\n",
       " 'DLTH',\n",
       " 'DLTR',\n",
       " 'DMAC',\n",
       " 'DMLP',\n",
       " 'DMPI',\n",
       " 'DMRC',\n",
       " 'DMTK',\n",
       " 'DNJR',\n",
       " 'DNKN',\n",
       " 'DNLI',\n",
       " 'DOCU',\n",
       " 'DOGZ',\n",
       " 'DOMO',\n",
       " 'DOOO',\n",
       " 'DORM',\n",
       " 'DOX',\n",
       " 'DOYU',\n",
       " 'DPHC',\n",
       " 'DPHCU',\n",
       " 'DPHCW',\n",
       " 'DRAD',\n",
       " 'DRADP',\n",
       " 'DRIO',\n",
       " 'DRIOW',\n",
       " 'DRIV',\n",
       " 'DRMT',\n",
       " 'DRNA',\n",
       " 'DRRX',\n",
       " 'DRTT',\n",
       " 'DSGX',\n",
       " 'DSKE',\n",
       " 'DSKEW',\n",
       " 'DSLV',\n",
       " 'DSPG',\n",
       " 'DSWL',\n",
       " 'DTEA',\n",
       " 'DTIL',\n",
       " 'DTSS',\n",
       " 'DTUL',\n",
       " 'DTUS',\n",
       " 'DTYL',\n",
       " 'DUO',\n",
       " 'DUOT',\n",
       " 'DUSA',\n",
       " 'DVAX',\n",
       " 'DVLU',\n",
       " 'DVOL',\n",
       " 'DVY',\n",
       " 'DWAS',\n",
       " 'DWAT',\n",
       " 'DWAW',\n",
       " 'DWCR',\n",
       " 'DWEQ',\n",
       " 'DWFI',\n",
       " 'DWLD',\n",
       " 'DWMC',\n",
       " 'DWPP',\n",
       " 'DWSH',\n",
       " 'DWSN',\n",
       " 'DWUS',\n",
       " 'DXCM',\n",
       " 'DXGE',\n",
       " 'DXJS',\n",
       " 'DXLG',\n",
       " 'DXPE',\n",
       " 'DXYN',\n",
       " 'DYAI',\n",
       " 'DYNT',\n",
       " 'DZSI',\n",
       " 'EA',\n",
       " 'EARS',\n",
       " 'EAST',\n",
       " 'EBAY',\n",
       " 'EBAYL',\n",
       " 'EBIX',\n",
       " 'EBIZ',\n",
       " 'EBMT',\n",
       " 'EBSB',\n",
       " ...]"
      ]
     },
     "execution_count": 11,
     "metadata": {},
     "output_type": "execute_result"
    }
   ],
   "source": [
    "tmptickers"
   ]
  },
  {
   "cell_type": "markdown",
   "metadata": {},
   "source": [
    "# Obtaining and organizing stock data from Yahoo Finance using pandas datareader"
   ]
  },
  {
   "cell_type": "code",
   "execution_count": 12,
   "metadata": {},
   "outputs": [],
   "source": [
    "# import data reader package\n",
    "import pandas_datareader as pdr\n",
    "\n",
    "#def get(tickers, startdate, enddate):\n",
    "#    def data(ticker):\n",
    "#        return(pdr.get_data_yahoo(ticker, start=startdate, end=enddate))\n",
    "#    datas=map(data,tickers)\n",
    "#    return(pd.concat(datas,keys=tickers,names=['Ticker','Date']))\n",
    "#all_data=get(tickers, datetime(2020,4,7), datetime(int(myYear),int(myMonth),int(myDay)))"
   ]
  },
  {
   "cell_type": "code",
   "execution_count": 13,
   "metadata": {},
   "outputs": [],
   "source": [
    "# read data from Yahoo! Finance for a specific \n",
    "# stock specified by ticker and between the start and end dates\n",
    "def get_stock_data(ticker, start, end):\n",
    "#    # read the data\n",
    "    data = pdr.get_data_yahoo(ticker, start, end)\n",
    "    # rename this column\n",
    "    data.insert(0, \"Ticker\", ticker)\n",
    "    return data"
   ]
  },
  {
   "cell_type": "code",
   "execution_count": 14,
   "metadata": {
    "scrolled": true
   },
   "outputs": [
    {
     "name": "stdout",
     "output_type": "stream",
     "text": [
      "2020-05-18 00:00:00\n"
     ]
    }
   ],
   "source": [
    "# request the three years of data for SAGE\n",
    "start = datetime(2020, 5, 11)\n",
    "end = datetime(int(myYear),int(myMonth),int(myDay))\n",
    "#raw = get_stock_data(userTicker, start, end)[:5]\n",
    "raw = get_stock_data(userTicker, start, end)\n",
    "print(end)"
   ]
  },
  {
   "cell_type": "code",
   "execution_count": 15,
   "metadata": {
    "scrolled": false
   },
   "outputs": [
    {
     "data": {
      "text/html": [
       "<div>\n",
       "<style scoped>\n",
       "    .dataframe tbody tr th:only-of-type {\n",
       "        vertical-align: middle;\n",
       "    }\n",
       "\n",
       "    .dataframe tbody tr th {\n",
       "        vertical-align: top;\n",
       "    }\n",
       "\n",
       "    .dataframe thead th {\n",
       "        text-align: right;\n",
       "    }\n",
       "</style>\n",
       "<table border=\"1\" class=\"dataframe\">\n",
       "  <thead>\n",
       "    <tr style=\"text-align: right;\">\n",
       "      <th></th>\n",
       "      <th>High</th>\n",
       "      <th>Low</th>\n",
       "      <th>Open</th>\n",
       "      <th>Close</th>\n",
       "      <th>Volume</th>\n",
       "      <th>Adj Close</th>\n",
       "    </tr>\n",
       "  </thead>\n",
       "  <tbody>\n",
       "    <tr>\n",
       "      <th>count</th>\n",
       "      <td>6.000000</td>\n",
       "      <td>6.00000</td>\n",
       "      <td>6.000000</td>\n",
       "      <td>6.000000</td>\n",
       "      <td>6.000000e+00</td>\n",
       "      <td>6.000000</td>\n",
       "    </tr>\n",
       "    <tr>\n",
       "      <th>mean</th>\n",
       "      <td>9.745000</td>\n",
       "      <td>9.06500</td>\n",
       "      <td>9.448334</td>\n",
       "      <td>9.486667</td>\n",
       "      <td>5.870565e+07</td>\n",
       "      <td>9.486667</td>\n",
       "    </tr>\n",
       "    <tr>\n",
       "      <th>std</th>\n",
       "      <td>0.447784</td>\n",
       "      <td>0.54062</td>\n",
       "      <td>0.527387</td>\n",
       "      <td>0.448226</td>\n",
       "      <td>1.546428e+07</td>\n",
       "      <td>0.448226</td>\n",
       "    </tr>\n",
       "    <tr>\n",
       "      <th>min</th>\n",
       "      <td>9.190000</td>\n",
       "      <td>8.25000</td>\n",
       "      <td>8.770000</td>\n",
       "      <td>9.040000</td>\n",
       "      <td>3.956050e+07</td>\n",
       "      <td>9.040000</td>\n",
       "    </tr>\n",
       "    <tr>\n",
       "      <th>25%</th>\n",
       "      <td>9.402500</td>\n",
       "      <td>8.77750</td>\n",
       "      <td>9.017500</td>\n",
       "      <td>9.120000</td>\n",
       "      <td>4.730130e+07</td>\n",
       "      <td>9.120000</td>\n",
       "    </tr>\n",
       "    <tr>\n",
       "      <th>50%</th>\n",
       "      <td>9.735000</td>\n",
       "      <td>9.09500</td>\n",
       "      <td>9.570000</td>\n",
       "      <td>9.400000</td>\n",
       "      <td>5.870525e+07</td>\n",
       "      <td>9.400000</td>\n",
       "    </tr>\n",
       "    <tr>\n",
       "      <th>75%</th>\n",
       "      <td>10.135000</td>\n",
       "      <td>9.53250</td>\n",
       "      <td>9.845000</td>\n",
       "      <td>9.815000</td>\n",
       "      <td>7.141652e+07</td>\n",
       "      <td>9.815000</td>\n",
       "    </tr>\n",
       "    <tr>\n",
       "      <th>max</th>\n",
       "      <td>10.250000</td>\n",
       "      <td>9.60000</td>\n",
       "      <td>10.010000</td>\n",
       "      <td>10.100000</td>\n",
       "      <td>7.610930e+07</td>\n",
       "      <td>10.100000</td>\n",
       "    </tr>\n",
       "  </tbody>\n",
       "</table>\n",
       "</div>"
      ],
      "text/plain": [
       "            High      Low       Open      Close  \\\n",
       "count   6.000000  6.00000   6.000000   6.000000   \n",
       "mean    9.745000  9.06500   9.448334   9.486667   \n",
       "std     0.447784  0.54062   0.527387   0.448226   \n",
       "min     9.190000  8.25000   8.770000   9.040000   \n",
       "25%     9.402500  8.77750   9.017500   9.120000   \n",
       "50%     9.735000  9.09500   9.570000   9.400000   \n",
       "75%    10.135000  9.53250   9.845000   9.815000   \n",
       "max    10.250000  9.60000  10.010000  10.100000   \n",
       "\n",
       "             Volume  Adj Close  \n",
       "count  6.000000e+00   6.000000  \n",
       "mean   5.870565e+07   9.486667  \n",
       "std    1.546428e+07   0.448226  \n",
       "min    3.956050e+07   9.040000  \n",
       "25%    4.730130e+07   9.120000  \n",
       "50%    5.870525e+07   9.400000  \n",
       "75%    7.141652e+07   9.815000  \n",
       "max    7.610930e+07  10.100000  "
      ]
     },
     "execution_count": 15,
     "metadata": {},
     "output_type": "execute_result"
    }
   ],
   "source": [
    "raw.describe()"
   ]
  },
  {
   "cell_type": "markdown",
   "metadata": {},
   "source": [
    "# CSV file write and read for Statistical Modeling function from Victor"
   ]
  },
  {
   "cell_type": "code",
   "execution_count": 16,
   "metadata": {},
   "outputs": [],
   "source": [
    "#Hard coded file name to use for csv output file\n",
    "myFile = \"C:\\\\Users\\\\marma\\\\Documents\\\\investments\\\\csv\\\\\"+userTicker+\"_\"+myMonth+\"_\"+myDay+\".csv\""
   ]
  },
  {
   "cell_type": "code",
   "execution_count": 17,
   "metadata": {},
   "outputs": [
    {
     "name": "stdout",
     "output_type": "stream",
     "text": [
      "C:\\Users\\marma\\Documents\\investments\\csv\\AAL_5_18.csv\n"
     ]
    }
   ],
   "source": [
    "print(myFile)"
   ]
  },
  {
   "cell_type": "code",
   "execution_count": 18,
   "metadata": {
    "scrolled": true
   },
   "outputs": [
    {
     "ename": "PermissionError",
     "evalue": "[Errno 13] Permission denied: 'C:\\\\Users\\\\marma\\\\Documents\\\\investments\\\\csv\\\\AAL_5_18.csv'",
     "output_type": "error",
     "traceback": [
      "\u001b[1;31m---------------------------------------------------------------------------\u001b[0m",
      "\u001b[1;31mPermissionError\u001b[0m                           Traceback (most recent call last)",
      "\u001b[1;32m<ipython-input-18-97778f4fee76>\u001b[0m in \u001b[0;36m<module>\u001b[1;34m\u001b[0m\n\u001b[1;32m----> 1\u001b[1;33m \u001b[0mraw\u001b[0m\u001b[1;33m.\u001b[0m\u001b[0mto_csv\u001b[0m\u001b[1;33m(\u001b[0m\u001b[0mmyFile\u001b[0m\u001b[1;33m)\u001b[0m\u001b[1;33m\u001b[0m\u001b[1;33m\u001b[0m\u001b[0m\n\u001b[0m",
      "\u001b[1;32m~\\anaconda3\\lib\\site-packages\\pandas\\core\\generic.py\u001b[0m in \u001b[0;36mto_csv\u001b[1;34m(self, path_or_buf, sep, na_rep, float_format, columns, header, index, index_label, mode, encoding, compression, quoting, quotechar, line_terminator, chunksize, date_format, doublequote, escapechar, decimal)\u001b[0m\n\u001b[0;32m   3202\u001b[0m             \u001b[0mdecimal\u001b[0m\u001b[1;33m=\u001b[0m\u001b[0mdecimal\u001b[0m\u001b[1;33m,\u001b[0m\u001b[1;33m\u001b[0m\u001b[1;33m\u001b[0m\u001b[0m\n\u001b[0;32m   3203\u001b[0m         )\n\u001b[1;32m-> 3204\u001b[1;33m         \u001b[0mformatter\u001b[0m\u001b[1;33m.\u001b[0m\u001b[0msave\u001b[0m\u001b[1;33m(\u001b[0m\u001b[1;33m)\u001b[0m\u001b[1;33m\u001b[0m\u001b[1;33m\u001b[0m\u001b[0m\n\u001b[0m\u001b[0;32m   3205\u001b[0m \u001b[1;33m\u001b[0m\u001b[0m\n\u001b[0;32m   3206\u001b[0m         \u001b[1;32mif\u001b[0m \u001b[0mpath_or_buf\u001b[0m \u001b[1;32mis\u001b[0m \u001b[1;32mNone\u001b[0m\u001b[1;33m:\u001b[0m\u001b[1;33m\u001b[0m\u001b[1;33m\u001b[0m\u001b[0m\n",
      "\u001b[1;32m~\\anaconda3\\lib\\site-packages\\pandas\\io\\formats\\csvs.py\u001b[0m in \u001b[0;36msave\u001b[1;34m(self)\u001b[0m\n\u001b[0;32m    186\u001b[0m                 \u001b[0mself\u001b[0m\u001b[1;33m.\u001b[0m\u001b[0mmode\u001b[0m\u001b[1;33m,\u001b[0m\u001b[1;33m\u001b[0m\u001b[1;33m\u001b[0m\u001b[0m\n\u001b[0;32m    187\u001b[0m                 \u001b[0mencoding\u001b[0m\u001b[1;33m=\u001b[0m\u001b[0mself\u001b[0m\u001b[1;33m.\u001b[0m\u001b[0mencoding\u001b[0m\u001b[1;33m,\u001b[0m\u001b[1;33m\u001b[0m\u001b[1;33m\u001b[0m\u001b[0m\n\u001b[1;32m--> 188\u001b[1;33m                 \u001b[0mcompression\u001b[0m\u001b[1;33m=\u001b[0m\u001b[0mdict\u001b[0m\u001b[1;33m(\u001b[0m\u001b[0mself\u001b[0m\u001b[1;33m.\u001b[0m\u001b[0mcompression_args\u001b[0m\u001b[1;33m,\u001b[0m \u001b[0mmethod\u001b[0m\u001b[1;33m=\u001b[0m\u001b[0mself\u001b[0m\u001b[1;33m.\u001b[0m\u001b[0mcompression\u001b[0m\u001b[1;33m)\u001b[0m\u001b[1;33m,\u001b[0m\u001b[1;33m\u001b[0m\u001b[1;33m\u001b[0m\u001b[0m\n\u001b[0m\u001b[0;32m    189\u001b[0m             )\n\u001b[0;32m    190\u001b[0m             \u001b[0mclose\u001b[0m \u001b[1;33m=\u001b[0m \u001b[1;32mTrue\u001b[0m\u001b[1;33m\u001b[0m\u001b[1;33m\u001b[0m\u001b[0m\n",
      "\u001b[1;32m~\\anaconda3\\lib\\site-packages\\pandas\\io\\common.py\u001b[0m in \u001b[0;36mget_handle\u001b[1;34m(path_or_buf, mode, encoding, compression, memory_map, is_text)\u001b[0m\n\u001b[0;32m    426\u001b[0m         \u001b[1;32mif\u001b[0m \u001b[0mencoding\u001b[0m\u001b[1;33m:\u001b[0m\u001b[1;33m\u001b[0m\u001b[1;33m\u001b[0m\u001b[0m\n\u001b[0;32m    427\u001b[0m             \u001b[1;31m# Encoding\u001b[0m\u001b[1;33m\u001b[0m\u001b[1;33m\u001b[0m\u001b[1;33m\u001b[0m\u001b[0m\n\u001b[1;32m--> 428\u001b[1;33m             \u001b[0mf\u001b[0m \u001b[1;33m=\u001b[0m \u001b[0mopen\u001b[0m\u001b[1;33m(\u001b[0m\u001b[0mpath_or_buf\u001b[0m\u001b[1;33m,\u001b[0m \u001b[0mmode\u001b[0m\u001b[1;33m,\u001b[0m \u001b[0mencoding\u001b[0m\u001b[1;33m=\u001b[0m\u001b[0mencoding\u001b[0m\u001b[1;33m,\u001b[0m \u001b[0mnewline\u001b[0m\u001b[1;33m=\u001b[0m\u001b[1;34m\"\"\u001b[0m\u001b[1;33m)\u001b[0m\u001b[1;33m\u001b[0m\u001b[1;33m\u001b[0m\u001b[0m\n\u001b[0m\u001b[0;32m    429\u001b[0m         \u001b[1;32melif\u001b[0m \u001b[0mis_text\u001b[0m\u001b[1;33m:\u001b[0m\u001b[1;33m\u001b[0m\u001b[1;33m\u001b[0m\u001b[0m\n\u001b[0;32m    430\u001b[0m             \u001b[1;31m# No explicit encoding\u001b[0m\u001b[1;33m\u001b[0m\u001b[1;33m\u001b[0m\u001b[1;33m\u001b[0m\u001b[0m\n",
      "\u001b[1;31mPermissionError\u001b[0m: [Errno 13] Permission denied: 'C:\\\\Users\\\\marma\\\\Documents\\\\investments\\\\csv\\\\AAL_5_18.csv'"
     ]
    }
   ],
   "source": [
    "raw.to_csv(myFile)"
   ]
  },
  {
   "cell_type": "code",
   "execution_count": 19,
   "metadata": {
    "scrolled": true
   },
   "outputs": [
    {
     "name": "stdout",
     "output_type": "stream",
     "text": [
      "[11.25, 11.75, 11.390000343322756, 11.050000190734863, 11.5, 10.720000267028807, 10.699999809265137, 10.020000457763672, 10.239999771118164, 9.899999618530273, 10.0, 10.210000038146973, 12.020000457763672, 11.260000228881836, 10.579999923706056, 9.149999618530273, 9.5, 9.09000015258789, 9.289999961853027, 9.68000030517578, 9.59000015258789, 9.600000381469727, 8.829999923706055, 8.25, 8.760000228881836, 9.359999656677246]\n"
     ]
    }
   ],
   "source": [
    "#Read back csv file data by column index\n",
    "x = pd.read_csv(myFile,usecols=['Low'])\n",
    "y = pd.read_csv(myFile,usecols=['High'])\n",
    "\n",
    "\n",
    "#print(x)\n",
    "#print(x['Date'])\n",
    "LarrX = []\n",
    "HarrY = []\n",
    "x1 = x.values\n",
    "y1 = y.values\n",
    "\n",
    "\n",
    "xx2 = []\n",
    "yy3 = []\n",
    "\n",
    "for n in x1:\n",
    "    for m in n:\n",
    "        xx2.append(m)\n",
    "for t in y1:\n",
    "    for m in t:\n",
    "        yy3.append(m)\n",
    "\n",
    "#for k,v in x.values():\n",
    "    #print(type(v))\n",
    "    #LarrX.append(v)\n",
    "    #for items in v:\n",
    "        #print(items)\n",
    "#for k,v in y.items():\n",
    "   #HarrY.append(v)\n",
    "#print(len(LarrX))\n",
    "#print(len(HarrY))\n",
    "\n",
    "#for items in LarrX:\n",
    "   # print(items)\n",
    "#xx = [1,5,6,7,8]\n",
    "#$yy = [1,6,7,8,9]\n",
    "\n",
    "print(xx2)"
   ]
  },
  {
   "cell_type": "markdown",
   "metadata": {
    "scrolled": true
   },
   "source": [
    "# Configure sklearn for application of Statistical Modeling"
   ]
  },
  {
   "cell_type": "code",
   "execution_count": 20,
   "metadata": {},
   "outputs": [],
   "source": [
    "from sklearn.linear_model import LinearRegression\n",
    "from sklearn.preprocessing import PolynomialFeatures"
   ]
  },
  {
   "cell_type": "code",
   "execution_count": 21,
   "metadata": {},
   "outputs": [],
   "source": [
    "#takes a dateframe and returns two arrays, index_setting = 0 means two columns from df. 1 means index + column\n",
    "#warning, you need a index and a single column for 1, or only two colums(index ok) for 0 or code will not work\n",
    "def dataframe_to_array(df, index_setting):\n",
    "    #if data is in a colum and an index\n",
    "    if index_setting == 1:\n",
    "        #get the index from the dataframe\n",
    "        x1 = df.index.values\n",
    "        #get the values from the dataframe, gives and array of arrays\n",
    "        y1 = df.values\n",
    "        y2 = list()\n",
    "        #transfrom the array of arrays into a single array\n",
    "        for n in y1:\n",
    "            for m in n:\n",
    "                y2.append(m)\n",
    "        y2 = np.array(y2)\n",
    "        #return\n",
    "        return x1, y2\n",
    "    #if data in is two columns\n",
    "    else:\n",
    "        #turn dataframe into and array of arrays\n",
    "        set_array = df.to_numpy()\n",
    "        #splits array into two arrays of a single array\n",
    "        bisector = np.array_split(set_array, 2)\n",
    "        count = 0\n",
    "        #define x1 and y1\n",
    "        for n in bisector:\n",
    "            if count == 0:\n",
    "                x1 = n\n",
    "                count += 1\n",
    "            else:\n",
    "                y1 = n\n",
    "        #reverts back array of array into a just an array\n",
    "        for n2 in x1:\n",
    "            x1 = n2\n",
    "        for n3 in y1:\n",
    "            y1 = n3\n",
    "        #return\n",
    "        return x1, y15, 15, 25, 35, 45, 55\n"
   ]
  },
  {
   "cell_type": "code",
   "execution_count": 22,
   "metadata": {},
   "outputs": [],
   "source": [
    "#turns a csv file into a dataframe\n",
    "#warning, not tested if it works\n",
    "def csv_into_dataframe(myFile):\n",
    "    df = pd.read_csv(myFile)\n",
    "    return df\n",
    "\n",
    "#builds a fuction that returns a predicted y, x1 and y1 are arrays, power refers to highest polynomial degree in model\n",
    "#Note: this function is outdated now\n",
    "def predict_dependent(x1, y1, power):\n",
    "    #build a sorted array for ploting later\n",
    "    x2 = x1\n",
    "    np.sort(x2)\n",
    "    #reshape the x1 and x2 arrays to work for linear regression fitting\n",
    "    x1 = x1.reshape((-1,1))\n",
    "    x2 = x2.reshape((-1,1))\n",
    "    #determine a model type\n",
    "    if power > 1 and power % 1 == 0:\n",
    "        #rebulid again to work with polynomial modeling\n",
    "        x1_ = PolynomialFeatures(degree=power, include_bias=False).fit_transform(x1)\n",
    "        model = LinearRegression().fit(x1_, y1)\n",
    "        x2_ = PolynomialFeatures(degree=power, include_bias=False).fit_transform(x2)\n",
    "        #build predictive array\n",
    "        prediction = model.predict(x2_)\n",
    "    #linear is default\n",
    "    else:\n",
    "        #bulids a model using two arrays\n",
    "        model = LinearRegression().fit(x1,y1)\n",
    "        prediction = model.predict(x2)\n",
    "    #return, note that both x2 and prediction are in order\n",
    "    return prediction"
   ]
  },
  {
   "cell_type": "code",
   "execution_count": 23,
   "metadata": {},
   "outputs": [],
   "source": [
    "#take in a set and return a set with the sorted x and new predicted y, power refers to highest polynomial degree in model\n",
    "#Note: this function is outdated now\n",
    "def regression_transform(x1, y1, power):\n",
    "    #build a model\n",
    "    x2 = x1\n",
    "    np.sort(x2)\n",
    "    x3 = x2\n",
    "    x1 = x1.reshape((-1,1))\n",
    "    x2 = x2.reshape((-1,1))\n",
    "    #x3 is to have a x2_ that is not modified for polynomial features for indexing\n",
    "    #this next part is slimilar to predict_dependent()\n",
    "    if power > 1 and power % 1 == 0:\n",
    "        x1_ = PolynomialFeatures(degree=power, include_bias=False).fit_transform(x1)\n",
    "        model = LinearRegression().fit(x1_, y1)\n",
    "        x2_ = PolynomialFeatures(degree=power, include_bias=False).fit_transform(x2)\n",
    "        y2 = model.predict(x2_)\n",
    "    else:\n",
    "        model = LinearRegression().fit(x1,y1)\n",
    "        y2 = model.predict(x2)\n",
    "    data = y2\n",
    "    #bulid a dataframe with y2 as data and x3 as an index\n",
    "    set_rebuild = pd.DataFrame(data, index = x3)\n",
    "    #returns the dataset\n",
    "    return set_rebuild "
   ]
  },
  {
   "cell_type": "code",
   "execution_count": 24,
   "metadata": {},
   "outputs": [],
   "source": [
    "#scores how well the model fits that data with a R^2 score, with is from 0 to 1\n",
    "def prediction_score(x1, y1, power):\n",
    "    #slimilar structure as above, but no need to organize\n",
    "    x1 = x1.reshape((-1,1))\n",
    "    if power > 1 and power % 1 == 0:\n",
    "        x1_ = PolynomialFeatures(degree=power, include_bias=False).fit_transform(x1)\n",
    "        model = LinearRegression().fit(x1_, y1)\n",
    "        #model.score returns a R^2 value, which rates fit from 0 to 1\n",
    "        score = model.score(x1_, y1)\n",
    "    else:\n",
    "        model = LinearRegression().fit(x1,y1)\n",
    "        score = model.score(x1, y1)\n",
    "    #return\n",
    "    return score"
   ]
  },
  {
   "cell_type": "code",
   "execution_count": 25,
   "metadata": {},
   "outputs": [],
   "source": [
    "#this is the primary function every is built up to, first three are same as above, next three build prediction range\n",
    "def ranged_regress_transform(x1, y1, power, value_min, value_max, step):\n",
    "    count = value_min\n",
    "    x2 = list()\n",
    "    #create list that starts at min, ends a max, step effects how many calculations are done\n",
    "    while count <= value_max:\n",
    "        x2.append(count)\n",
    "        count += step\n",
    "    #change the list into an array\n",
    "    x3 = np.array(x2)\n",
    "    x3 = x3.reshape((-1,1))\n",
    "    x1 = x1.reshape((-1,1))\n",
    "    #also slimilar to above code\n",
    "    if power > 1 and power % 1 == 0:\n",
    "        x1_ = PolynomialFeatures(degree=power, include_bias=False).fit_transform(x1)\n",
    "        model = LinearRegression().fit(x1_, y1)\n",
    "        x3_ = PolynomialFeatures(degree=power, include_bias=False).fit_transform(x3)\n",
    "        y2 = model.predict(x3_)\n",
    "    else:\n",
    "        model = LinearRegression().fit(x1,y1)\n",
    "        y2 = model.predict(x3)\n",
    "    data = y2\n",
    "    #build the dataframe with good graphing data\n",
    "    new_build = pd.DataFrame(data, index = x2)\n",
    "    #return the dataframe\n",
    "    return new_build"
   ]
  },
  {
   "cell_type": "code",
   "execution_count": 26,
   "metadata": {},
   "outputs": [],
   "source": [
    "def ranged_df_regress_trans(df, index_setting, power, value_min, value_max, step):\n",
    "    x1, y1 = dataframe_to_array(df, index_setting)\n",
    "    final_build = ranged_regress_transform(x1, y1, power, value_min, value_max, step)\n",
    "    return final_build"
   ]
  },
  {
   "cell_type": "code",
   "execution_count": 27,
   "metadata": {},
   "outputs": [],
   "source": [
    "#same as above with with scoring\n",
    "def df_regress_scoring(df, index_setting, power):\n",
    "    x1, y1 = dataframe_to_array(df, index_setting)\n",
    "    score = prediction_score(x1, y1, power)\n",
    "    return score"
   ]
  },
  {
   "cell_type": "code",
   "execution_count": 28,
   "metadata": {
    "scrolled": false
   },
   "outputs": [
    {
     "data": {
      "text/plain": [
       "'\\nNote: these were testing function left for archiving\\ndef test():\\n    x = np.array([5, 15, 25, 35, 45, 55])\\n    y = np.array([5, 20, 14, 32, 22, 38])\\n    return x, y\\n\\ndef arrary_test():\\n    x = np.array([5, 15, 25, 35, 45, 55])\\n    y = np.array([5, 20, 14, 32, 22, 38])\\n    data = y\\n    df = pd.DataFrame(data, index = x)\\n    x1 = df.index.values\\n    y1 = df.values\\n    y2 = list()\\n    for n in y1:\\n        for m in n:\\n            y2.append(m)\\n    y2 = np.array(y2)\\n    return x1, y2\\n'"
      ]
     },
     "execution_count": 28,
     "metadata": {},
     "output_type": "execute_result"
    }
   ],
   "source": [
    "'''\n",
    "Note: these were testing function left for archiving\n",
    "def test():\n",
    "    x = np.array([5, 15, 25, 35, 45, 55])\n",
    "    y = np.array([5, 20, 14, 32, 22, 38])\n",
    "    return x, y\n",
    "\n",
    "def arrary_test():\n",
    "    x = np.array([5, 15, 25, 35, 45, 55])\n",
    "    y = np.array([5, 20, 14, 32, 22, 38])\n",
    "    data = y\n",
    "    df = pd.DataFrame(data, index = x)\n",
    "    x1 = df.index.values\n",
    "    y1 = df.values\n",
    "    y2 = list()\n",
    "    for n in y1:\n",
    "        for m in n:\n",
    "            y2.append(m)\n",
    "    y2 = np.array(y2)\n",
    "    return x1, y2\n",
    "'''"
   ]
  },
  {
   "cell_type": "code",
   "execution_count": 29,
   "metadata": {},
   "outputs": [
    {
     "data": {
      "text/plain": [
       "<matplotlib.axes._subplots.AxesSubplot at 0x14779df2c08>"
      ]
     },
     "execution_count": 29,
     "metadata": {},
     "output_type": "execute_result"
    },
    {
     "data": {
      "image/png": "[encoded data removed]",
      "text/plain": [
       "<Figure size 432x288 with 1 Axes>"
      ]
     },
     "metadata": {
      "needs_background": "light"
     },
     "output_type": "display_data"
    }
   ],
   "source": [
    "#uses all of the above code, takes a dataframe and returns a dataframe with predicted values\n",
    "g = np.array(xx2)\n",
    "f = np.array(yy3)\n",
    "#a = np.array([1,2,3,4,5,6])\n",
    "#b = np.array([3,5,9,14,21,34])\n",
    "run = ranged_regress_transform(g, f, 3, 5, 55, 1)\n",
    "run2 = ranged_df_regress_trans(x,1,3,5,55,1)\n",
    "#run.plot()\n",
    "run2.plot()\n"
   ]
  },
  {
   "cell_type": "code",
   "execution_count": 30,
   "metadata": {},
   "outputs": [],
   "source": [
    "# gets data for multiple stocks\n",
    "# tickers: a list of stock symbols to fetch\n",
    "# start and end are the start end end dates\n",
    "def get_data_for_multiple_stocks(tmptickers, start, end):\n",
    "    # we return a dictionary\n",
    "    stocks = dict()\n",
    "    # loop through all the tickers\n",
    "    for ticker in tmptickers:\n",
    "        # get the data for the specific ticker\n",
    "        s = get_stock_data(ticker, start, end)\n",
    "        # add it to the dictionary\n",
    "        stocks[ticker] = s\n",
    "    # return the dictionary\n",
    "    return stocks"
   ]
  },
  {
   "cell_type": "code",
   "execution_count": 31,
   "metadata": {
    "scrolled": false
   },
   "outputs": [
    {
     "ename": "RemoteDataError",
     "evalue": "No data fetched for symbol TIX_symbols using YahooDailyReader",
     "output_type": "error",
     "traceback": [
      "\u001b[1;31m---------------------------------------------------------------------------\u001b[0m",
      "\u001b[1;31mKeyError\u001b[0m                                  Traceback (most recent call last)",
      "\u001b[1;32m~\\anaconda3\\lib\\site-packages\\pandas_datareader\\yahoo\\daily.py\u001b[0m in \u001b[0;36m_read_one_data\u001b[1;34m(self, url, params)\u001b[0m\n\u001b[0;32m    156\u001b[0m             \u001b[0mj\u001b[0m \u001b[1;33m=\u001b[0m \u001b[0mjson\u001b[0m\u001b[1;33m.\u001b[0m\u001b[0mloads\u001b[0m\u001b[1;33m(\u001b[0m\u001b[0mre\u001b[0m\u001b[1;33m.\u001b[0m\u001b[0msearch\u001b[0m\u001b[1;33m(\u001b[0m\u001b[0mptrn\u001b[0m\u001b[1;33m,\u001b[0m \u001b[0mresp\u001b[0m\u001b[1;33m.\u001b[0m\u001b[0mtext\u001b[0m\u001b[1;33m,\u001b[0m \u001b[0mre\u001b[0m\u001b[1;33m.\u001b[0m\u001b[0mDOTALL\u001b[0m\u001b[1;33m)\u001b[0m\u001b[1;33m.\u001b[0m\u001b[0mgroup\u001b[0m\u001b[1;33m(\u001b[0m\u001b[1;36m1\u001b[0m\u001b[1;33m)\u001b[0m\u001b[1;33m)\u001b[0m\u001b[1;33m\u001b[0m\u001b[1;33m\u001b[0m\u001b[0m\n\u001b[1;32m--> 157\u001b[1;33m             \u001b[0mdata\u001b[0m \u001b[1;33m=\u001b[0m \u001b[0mj\u001b[0m\u001b[1;33m[\u001b[0m\u001b[1;34m\"context\"\u001b[0m\u001b[1;33m]\u001b[0m\u001b[1;33m[\u001b[0m\u001b[1;34m\"dispatcher\"\u001b[0m\u001b[1;33m]\u001b[0m\u001b[1;33m[\u001b[0m\u001b[1;34m\"stores\"\u001b[0m\u001b[1;33m]\u001b[0m\u001b[1;33m[\u001b[0m\u001b[1;34m\"HistoricalPriceStore\"\u001b[0m\u001b[1;33m]\u001b[0m\u001b[1;33m\u001b[0m\u001b[1;33m\u001b[0m\u001b[0m\n\u001b[0m\u001b[0;32m    158\u001b[0m         \u001b[1;32mexcept\u001b[0m \u001b[0mKeyError\u001b[0m\u001b[1;33m:\u001b[0m\u001b[1;33m\u001b[0m\u001b[1;33m\u001b[0m\u001b[0m\n",
      "\u001b[1;31mKeyError\u001b[0m: 'HistoricalPriceStore'",
      "\nDuring handling of the above exception, another exception occurred:\n",
      "\u001b[1;31mRemoteDataError\u001b[0m                           Traceback (most recent call last)",
      "\u001b[1;32m<ipython-input-31-5dab2c01b398>\u001b[0m in \u001b[0;36m<module>\u001b[1;34m\u001b[0m\n\u001b[0;32m      1\u001b[0m \u001b[1;31m# get the data for all the stocks that we want\u001b[0m\u001b[1;33m\u001b[0m\u001b[1;33m\u001b[0m\u001b[1;33m\u001b[0m\u001b[0m\n\u001b[0;32m      2\u001b[0m \u001b[1;31m#print(tickers)\u001b[0m\u001b[1;33m\u001b[0m\u001b[1;33m\u001b[0m\u001b[1;33m\u001b[0m\u001b[0m\n\u001b[1;32m----> 3\u001b[1;33m \u001b[0mraw\u001b[0m \u001b[1;33m=\u001b[0m \u001b[0mget_data_for_multiple_stocks\u001b[0m\u001b[1;33m(\u001b[0m\u001b[0mtmptickers\u001b[0m\u001b[1;33m,\u001b[0m \u001b[0mstart\u001b[0m\u001b[1;33m,\u001b[0m \u001b[0mend\u001b[0m\u001b[1;33m)\u001b[0m\u001b[1;33m\u001b[0m\u001b[1;33m\u001b[0m\u001b[0m\n\u001b[0m",
      "\u001b[1;32m<ipython-input-30-9eec72eda862>\u001b[0m in \u001b[0;36mget_data_for_multiple_stocks\u001b[1;34m(tmptickers, start, end)\u001b[0m\n\u001b[0;32m      8\u001b[0m     \u001b[1;32mfor\u001b[0m \u001b[0mticker\u001b[0m \u001b[1;32min\u001b[0m \u001b[0mtmptickers\u001b[0m\u001b[1;33m:\u001b[0m\u001b[1;33m\u001b[0m\u001b[1;33m\u001b[0m\u001b[0m\n\u001b[0;32m      9\u001b[0m         \u001b[1;31m# get the data for the specific ticker\u001b[0m\u001b[1;33m\u001b[0m\u001b[1;33m\u001b[0m\u001b[1;33m\u001b[0m\u001b[0m\n\u001b[1;32m---> 10\u001b[1;33m         \u001b[0ms\u001b[0m \u001b[1;33m=\u001b[0m \u001b[0mget_stock_data\u001b[0m\u001b[1;33m(\u001b[0m\u001b[0mticker\u001b[0m\u001b[1;33m,\u001b[0m \u001b[0mstart\u001b[0m\u001b[1;33m,\u001b[0m \u001b[0mend\u001b[0m\u001b[1;33m)\u001b[0m\u001b[1;33m\u001b[0m\u001b[1;33m\u001b[0m\u001b[0m\n\u001b[0m\u001b[0;32m     11\u001b[0m         \u001b[1;31m# add it to the dictionary\u001b[0m\u001b[1;33m\u001b[0m\u001b[1;33m\u001b[0m\u001b[1;33m\u001b[0m\u001b[0m\n\u001b[0;32m     12\u001b[0m         \u001b[0mstocks\u001b[0m\u001b[1;33m[\u001b[0m\u001b[0mticker\u001b[0m\u001b[1;33m]\u001b[0m \u001b[1;33m=\u001b[0m \u001b[0ms\u001b[0m\u001b[1;33m\u001b[0m\u001b[1;33m\u001b[0m\u001b[0m\n",
      "\u001b[1;32m<ipython-input-13-eb1f78d030f5>\u001b[0m in \u001b[0;36mget_stock_data\u001b[1;34m(ticker, start, end)\u001b[0m\n\u001b[0;32m      3\u001b[0m \u001b[1;32mdef\u001b[0m \u001b[0mget_stock_data\u001b[0m\u001b[1;33m(\u001b[0m\u001b[0mticker\u001b[0m\u001b[1;33m,\u001b[0m \u001b[0mstart\u001b[0m\u001b[1;33m,\u001b[0m \u001b[0mend\u001b[0m\u001b[1;33m)\u001b[0m\u001b[1;33m:\u001b[0m\u001b[1;33m\u001b[0m\u001b[1;33m\u001b[0m\u001b[0m\n\u001b[0;32m      4\u001b[0m \u001b[1;31m#    # read the data\u001b[0m\u001b[1;33m\u001b[0m\u001b[1;33m\u001b[0m\u001b[1;33m\u001b[0m\u001b[0m\n\u001b[1;32m----> 5\u001b[1;33m     \u001b[0mdata\u001b[0m \u001b[1;33m=\u001b[0m \u001b[0mpdr\u001b[0m\u001b[1;33m.\u001b[0m\u001b[0mget_data_yahoo\u001b[0m\u001b[1;33m(\u001b[0m\u001b[0mticker\u001b[0m\u001b[1;33m,\u001b[0m \u001b[0mstart\u001b[0m\u001b[1;33m,\u001b[0m \u001b[0mend\u001b[0m\u001b[1;33m)\u001b[0m\u001b[1;33m\u001b[0m\u001b[1;33m\u001b[0m\u001b[0m\n\u001b[0m\u001b[0;32m      6\u001b[0m     \u001b[1;31m# rename this column\u001b[0m\u001b[1;33m\u001b[0m\u001b[1;33m\u001b[0m\u001b[1;33m\u001b[0m\u001b[0m\n\u001b[0;32m      7\u001b[0m     \u001b[0mdata\u001b[0m\u001b[1;33m.\u001b[0m\u001b[0minsert\u001b[0m\u001b[1;33m(\u001b[0m\u001b[1;36m0\u001b[0m\u001b[1;33m,\u001b[0m \u001b[1;34m\"Ticker\"\u001b[0m\u001b[1;33m,\u001b[0m \u001b[0mticker\u001b[0m\u001b[1;33m)\u001b[0m\u001b[1;33m\u001b[0m\u001b[1;33m\u001b[0m\u001b[0m\n",
      "\u001b[1;32m~\\anaconda3\\lib\\site-packages\\pandas_datareader\\data.py\u001b[0m in \u001b[0;36mget_data_yahoo\u001b[1;34m(*args, **kwargs)\u001b[0m\n\u001b[0;32m     80\u001b[0m \u001b[1;33m\u001b[0m\u001b[0m\n\u001b[0;32m     81\u001b[0m \u001b[1;32mdef\u001b[0m \u001b[0mget_data_yahoo\u001b[0m\u001b[1;33m(\u001b[0m\u001b[1;33m*\u001b[0m\u001b[0margs\u001b[0m\u001b[1;33m,\u001b[0m \u001b[1;33m**\u001b[0m\u001b[0mkwargs\u001b[0m\u001b[1;33m)\u001b[0m\u001b[1;33m:\u001b[0m\u001b[1;33m\u001b[0m\u001b[1;33m\u001b[0m\u001b[0m\n\u001b[1;32m---> 82\u001b[1;33m     \u001b[1;32mreturn\u001b[0m \u001b[0mYahooDailyReader\u001b[0m\u001b[1;33m(\u001b[0m\u001b[1;33m*\u001b[0m\u001b[0margs\u001b[0m\u001b[1;33m,\u001b[0m \u001b[1;33m**\u001b[0m\u001b[0mkwargs\u001b[0m\u001b[1;33m)\u001b[0m\u001b[1;33m.\u001b[0m\u001b[0mread\u001b[0m\u001b[1;33m(\u001b[0m\u001b[1;33m)\u001b[0m\u001b[1;33m\u001b[0m\u001b[1;33m\u001b[0m\u001b[0m\n\u001b[0m\u001b[0;32m     83\u001b[0m \u001b[1;33m\u001b[0m\u001b[0m\n\u001b[0;32m     84\u001b[0m \u001b[1;33m\u001b[0m\u001b[0m\n",
      "\u001b[1;32m~\\anaconda3\\lib\\site-packages\\pandas_datareader\\base.py\u001b[0m in \u001b[0;36mread\u001b[1;34m(self)\u001b[0m\n\u001b[0;32m    249\u001b[0m         \u001b[1;31m# If a single symbol, (e.g., 'GOOG')\u001b[0m\u001b[1;33m\u001b[0m\u001b[1;33m\u001b[0m\u001b[1;33m\u001b[0m\u001b[0m\n\u001b[0;32m    250\u001b[0m         \u001b[1;32mif\u001b[0m \u001b[0misinstance\u001b[0m\u001b[1;33m(\u001b[0m\u001b[0mself\u001b[0m\u001b[1;33m.\u001b[0m\u001b[0msymbols\u001b[0m\u001b[1;33m,\u001b[0m \u001b[1;33m(\u001b[0m\u001b[0mstring_types\u001b[0m\u001b[1;33m,\u001b[0m \u001b[0mint\u001b[0m\u001b[1;33m)\u001b[0m\u001b[1;33m)\u001b[0m\u001b[1;33m:\u001b[0m\u001b[1;33m\u001b[0m\u001b[1;33m\u001b[0m\u001b[0m\n\u001b[1;32m--> 251\u001b[1;33m             \u001b[0mdf\u001b[0m \u001b[1;33m=\u001b[0m \u001b[0mself\u001b[0m\u001b[1;33m.\u001b[0m\u001b[0m_read_one_data\u001b[0m\u001b[1;33m(\u001b[0m\u001b[0mself\u001b[0m\u001b[1;33m.\u001b[0m\u001b[0murl\u001b[0m\u001b[1;33m,\u001b[0m \u001b[0mparams\u001b[0m\u001b[1;33m=\u001b[0m\u001b[0mself\u001b[0m\u001b[1;33m.\u001b[0m\u001b[0m_get_params\u001b[0m\u001b[1;33m(\u001b[0m\u001b[0mself\u001b[0m\u001b[1;33m.\u001b[0m\u001b[0msymbols\u001b[0m\u001b[1;33m)\u001b[0m\u001b[1;33m)\u001b[0m\u001b[1;33m\u001b[0m\u001b[1;33m\u001b[0m\u001b[0m\n\u001b[0m\u001b[0;32m    252\u001b[0m         \u001b[1;31m# Or multiple symbols, (e.g., ['GOOG', 'AAPL', 'MSFT'])\u001b[0m\u001b[1;33m\u001b[0m\u001b[1;33m\u001b[0m\u001b[1;33m\u001b[0m\u001b[0m\n\u001b[0;32m    253\u001b[0m         \u001b[1;32melif\u001b[0m \u001b[0misinstance\u001b[0m\u001b[1;33m(\u001b[0m\u001b[0mself\u001b[0m\u001b[1;33m.\u001b[0m\u001b[0msymbols\u001b[0m\u001b[1;33m,\u001b[0m \u001b[0mDataFrame\u001b[0m\u001b[1;33m)\u001b[0m\u001b[1;33m:\u001b[0m\u001b[1;33m\u001b[0m\u001b[1;33m\u001b[0m\u001b[0m\n",
      "\u001b[1;32m~\\anaconda3\\lib\\site-packages\\pandas_datareader\\yahoo\\daily.py\u001b[0m in \u001b[0;36m_read_one_data\u001b[1;34m(self, url, params)\u001b[0m\n\u001b[0;32m    158\u001b[0m         \u001b[1;32mexcept\u001b[0m \u001b[0mKeyError\u001b[0m\u001b[1;33m:\u001b[0m\u001b[1;33m\u001b[0m\u001b[1;33m\u001b[0m\u001b[0m\n\u001b[0;32m    159\u001b[0m             \u001b[0mmsg\u001b[0m \u001b[1;33m=\u001b[0m \u001b[1;34m\"No data fetched for symbol {} using {}\"\u001b[0m\u001b[1;33m\u001b[0m\u001b[1;33m\u001b[0m\u001b[0m\n\u001b[1;32m--> 160\u001b[1;33m             \u001b[1;32mraise\u001b[0m \u001b[0mRemoteDataError\u001b[0m\u001b[1;33m(\u001b[0m\u001b[0mmsg\u001b[0m\u001b[1;33m.\u001b[0m\u001b[0mformat\u001b[0m\u001b[1;33m(\u001b[0m\u001b[0msymbol\u001b[0m\u001b[1;33m,\u001b[0m \u001b[0mself\u001b[0m\u001b[1;33m.\u001b[0m\u001b[0m__class__\u001b[0m\u001b[1;33m.\u001b[0m\u001b[0m__name__\u001b[0m\u001b[1;33m)\u001b[0m\u001b[1;33m)\u001b[0m\u001b[1;33m\u001b[0m\u001b[1;33m\u001b[0m\u001b[0m\n\u001b[0m\u001b[0;32m    161\u001b[0m \u001b[1;33m\u001b[0m\u001b[0m\n\u001b[0;32m    162\u001b[0m         \u001b[1;31m# price data\u001b[0m\u001b[1;33m\u001b[0m\u001b[1;33m\u001b[0m\u001b[1;33m\u001b[0m\u001b[0m\n",
      "\u001b[1;31mRemoteDataError\u001b[0m: No data fetched for symbol TIX_symbols using YahooDailyReader"
     ]
    }
   ],
   "source": [
    "# get the data for all the stocks that we want\n",
    "#print(tickers)\n",
    "raw = get_data_for_multiple_stocks(tmptickers, start, end)"
   ]
  },
  {
   "cell_type": "code",
   "execution_count": 32,
   "metadata": {
    "scrolled": true
   },
   "outputs": [
    {
     "ename": "KeyError",
     "evalue": "'userTicker'",
     "output_type": "error",
     "traceback": [
      "\u001b[1;31m---------------------------------------------------------------------------\u001b[0m",
      "\u001b[1;31mKeyError\u001b[0m                                  Traceback (most recent call last)",
      "\u001b[1;32m~\\anaconda3\\lib\\site-packages\\pandas\\core\\indexes\\base.py\u001b[0m in \u001b[0;36mget_loc\u001b[1;34m(self, key, method, tolerance)\u001b[0m\n\u001b[0;32m   2645\u001b[0m             \u001b[1;32mtry\u001b[0m\u001b[1;33m:\u001b[0m\u001b[1;33m\u001b[0m\u001b[1;33m\u001b[0m\u001b[0m\n\u001b[1;32m-> 2646\u001b[1;33m                 \u001b[1;32mreturn\u001b[0m \u001b[0mself\u001b[0m\u001b[1;33m.\u001b[0m\u001b[0m_engine\u001b[0m\u001b[1;33m.\u001b[0m\u001b[0mget_loc\u001b[0m\u001b[1;33m(\u001b[0m\u001b[0mkey\u001b[0m\u001b[1;33m)\u001b[0m\u001b[1;33m\u001b[0m\u001b[1;33m\u001b[0m\u001b[0m\n\u001b[0m\u001b[0;32m   2647\u001b[0m             \u001b[1;32mexcept\u001b[0m \u001b[0mKeyError\u001b[0m\u001b[1;33m:\u001b[0m\u001b[1;33m\u001b[0m\u001b[1;33m\u001b[0m\u001b[0m\n",
      "\u001b[1;32mpandas\\_libs\\index.pyx\u001b[0m in \u001b[0;36mpandas._libs.index.IndexEngine.get_loc\u001b[1;34m()\u001b[0m\n",
      "\u001b[1;32mpandas\\_libs\\index.pyx\u001b[0m in \u001b[0;36mpandas._libs.index.IndexEngine.get_loc\u001b[1;34m()\u001b[0m\n",
      "\u001b[1;32mpandas\\_libs\\hashtable_class_helper.pxi\u001b[0m in \u001b[0;36mpandas._libs.hashtable.PyObjectHashTable.get_item\u001b[1;34m()\u001b[0m\n",
      "\u001b[1;32mpandas\\_libs\\hashtable_class_helper.pxi\u001b[0m in \u001b[0;36mpandas._libs.hashtable.PyObjectHashTable.get_item\u001b[1;34m()\u001b[0m\n",
      "\u001b[1;31mKeyError\u001b[0m: 'userTicker'",
      "\nDuring handling of the above exception, another exception occurred:\n",
      "\u001b[1;31mKeyError\u001b[0m                                  Traceback (most recent call last)",
      "\u001b[1;32m<ipython-input-32-20d487904482>\u001b[0m in \u001b[0;36m<module>\u001b[1;34m\u001b[0m\n\u001b[0;32m      1\u001b[0m \u001b[1;31m# take a peek at the data for userTicker\u001b[0m\u001b[1;33m\u001b[0m\u001b[1;33m\u001b[0m\u001b[1;33m\u001b[0m\u001b[0m\n\u001b[1;32m----> 2\u001b[1;33m \u001b[0mraw\u001b[0m\u001b[1;33m[\u001b[0m\u001b[1;34m'userTicker'\u001b[0m\u001b[1;33m]\u001b[0m\u001b[1;33m[\u001b[0m\u001b[1;33m:\u001b[0m\u001b[1;36m5\u001b[0m\u001b[1;33m]\u001b[0m\u001b[1;33m\u001b[0m\u001b[1;33m\u001b[0m\u001b[0m\n\u001b[0m\u001b[0;32m      3\u001b[0m \u001b[1;31m#raw\u001b[0m\u001b[1;33m\u001b[0m\u001b[1;33m\u001b[0m\u001b[1;33m\u001b[0m\u001b[0m\n",
      "\u001b[1;32m~\\anaconda3\\lib\\site-packages\\pandas\\core\\frame.py\u001b[0m in \u001b[0;36m__getitem__\u001b[1;34m(self, key)\u001b[0m\n\u001b[0;32m   2798\u001b[0m             \u001b[1;32mif\u001b[0m \u001b[0mself\u001b[0m\u001b[1;33m.\u001b[0m\u001b[0mcolumns\u001b[0m\u001b[1;33m.\u001b[0m\u001b[0mnlevels\u001b[0m \u001b[1;33m>\u001b[0m \u001b[1;36m1\u001b[0m\u001b[1;33m:\u001b[0m\u001b[1;33m\u001b[0m\u001b[1;33m\u001b[0m\u001b[0m\n\u001b[0;32m   2799\u001b[0m                 \u001b[1;32mreturn\u001b[0m \u001b[0mself\u001b[0m\u001b[1;33m.\u001b[0m\u001b[0m_getitem_multilevel\u001b[0m\u001b[1;33m(\u001b[0m\u001b[0mkey\u001b[0m\u001b[1;33m)\u001b[0m\u001b[1;33m\u001b[0m\u001b[1;33m\u001b[0m\u001b[0m\n\u001b[1;32m-> 2800\u001b[1;33m             \u001b[0mindexer\u001b[0m \u001b[1;33m=\u001b[0m \u001b[0mself\u001b[0m\u001b[1;33m.\u001b[0m\u001b[0mcolumns\u001b[0m\u001b[1;33m.\u001b[0m\u001b[0mget_loc\u001b[0m\u001b[1;33m(\u001b[0m\u001b[0mkey\u001b[0m\u001b[1;33m)\u001b[0m\u001b[1;33m\u001b[0m\u001b[1;33m\u001b[0m\u001b[0m\n\u001b[0m\u001b[0;32m   2801\u001b[0m             \u001b[1;32mif\u001b[0m \u001b[0mis_integer\u001b[0m\u001b[1;33m(\u001b[0m\u001b[0mindexer\u001b[0m\u001b[1;33m)\u001b[0m\u001b[1;33m:\u001b[0m\u001b[1;33m\u001b[0m\u001b[1;33m\u001b[0m\u001b[0m\n\u001b[0;32m   2802\u001b[0m                 \u001b[0mindexer\u001b[0m \u001b[1;33m=\u001b[0m \u001b[1;33m[\u001b[0m\u001b[0mindexer\u001b[0m\u001b[1;33m]\u001b[0m\u001b[1;33m\u001b[0m\u001b[1;33m\u001b[0m\u001b[0m\n",
      "\u001b[1;32m~\\anaconda3\\lib\\site-packages\\pandas\\core\\indexes\\base.py\u001b[0m in \u001b[0;36mget_loc\u001b[1;34m(self, key, method, tolerance)\u001b[0m\n\u001b[0;32m   2646\u001b[0m                 \u001b[1;32mreturn\u001b[0m \u001b[0mself\u001b[0m\u001b[1;33m.\u001b[0m\u001b[0m_engine\u001b[0m\u001b[1;33m.\u001b[0m\u001b[0mget_loc\u001b[0m\u001b[1;33m(\u001b[0m\u001b[0mkey\u001b[0m\u001b[1;33m)\u001b[0m\u001b[1;33m\u001b[0m\u001b[1;33m\u001b[0m\u001b[0m\n\u001b[0;32m   2647\u001b[0m             \u001b[1;32mexcept\u001b[0m \u001b[0mKeyError\u001b[0m\u001b[1;33m:\u001b[0m\u001b[1;33m\u001b[0m\u001b[1;33m\u001b[0m\u001b[0m\n\u001b[1;32m-> 2648\u001b[1;33m                 \u001b[1;32mreturn\u001b[0m \u001b[0mself\u001b[0m\u001b[1;33m.\u001b[0m\u001b[0m_engine\u001b[0m\u001b[1;33m.\u001b[0m\u001b[0mget_loc\u001b[0m\u001b[1;33m(\u001b[0m\u001b[0mself\u001b[0m\u001b[1;33m.\u001b[0m\u001b[0m_maybe_cast_indexer\u001b[0m\u001b[1;33m(\u001b[0m\u001b[0mkey\u001b[0m\u001b[1;33m)\u001b[0m\u001b[1;33m)\u001b[0m\u001b[1;33m\u001b[0m\u001b[1;33m\u001b[0m\u001b[0m\n\u001b[0m\u001b[0;32m   2649\u001b[0m         \u001b[0mindexer\u001b[0m \u001b[1;33m=\u001b[0m \u001b[0mself\u001b[0m\u001b[1;33m.\u001b[0m\u001b[0mget_indexer\u001b[0m\u001b[1;33m(\u001b[0m\u001b[1;33m[\u001b[0m\u001b[0mkey\u001b[0m\u001b[1;33m]\u001b[0m\u001b[1;33m,\u001b[0m \u001b[0mmethod\u001b[0m\u001b[1;33m=\u001b[0m\u001b[0mmethod\u001b[0m\u001b[1;33m,\u001b[0m \u001b[0mtolerance\u001b[0m\u001b[1;33m=\u001b[0m\u001b[0mtolerance\u001b[0m\u001b[1;33m)\u001b[0m\u001b[1;33m\u001b[0m\u001b[1;33m\u001b[0m\u001b[0m\n\u001b[0;32m   2650\u001b[0m         \u001b[1;32mif\u001b[0m \u001b[0mindexer\u001b[0m\u001b[1;33m.\u001b[0m\u001b[0mndim\u001b[0m \u001b[1;33m>\u001b[0m \u001b[1;36m1\u001b[0m \u001b[1;32mor\u001b[0m \u001b[0mindexer\u001b[0m\u001b[1;33m.\u001b[0m\u001b[0msize\u001b[0m \u001b[1;33m>\u001b[0m \u001b[1;36m1\u001b[0m\u001b[1;33m:\u001b[0m\u001b[1;33m\u001b[0m\u001b[1;33m\u001b[0m\u001b[0m\n",
      "\u001b[1;32mpandas\\_libs\\index.pyx\u001b[0m in \u001b[0;36mpandas._libs.index.IndexEngine.get_loc\u001b[1;34m()\u001b[0m\n",
      "\u001b[1;32mpandas\\_libs\\index.pyx\u001b[0m in \u001b[0;36mpandas._libs.index.IndexEngine.get_loc\u001b[1;34m()\u001b[0m\n",
      "\u001b[1;32mpandas\\_libs\\hashtable_class_helper.pxi\u001b[0m in \u001b[0;36mpandas._libs.hashtable.PyObjectHashTable.get_item\u001b[1;34m()\u001b[0m\n",
      "\u001b[1;32mpandas\\_libs\\hashtable_class_helper.pxi\u001b[0m in \u001b[0;36mpandas._libs.hashtable.PyObjectHashTable.get_item\u001b[1;34m()\u001b[0m\n",
      "\u001b[1;31mKeyError\u001b[0m: 'userTicker'"
     ]
    }
   ],
   "source": [
    "# take a peek at the data for userTicker\n",
    "raw['userTicker'][:5]\n",
    "#raw"
   ]
  },
  {
   "cell_type": "code",
   "execution_count": 33,
   "metadata": {},
   "outputs": [],
   "source": [
    "# given the dictionary of data frames,\n",
    "# pivots a given column into values with column\n",
    "# names being the stock symbols\n",
    "def pivot_tickers_to_columns(raw, column):\n",
    "    items = []\n",
    "    # loop through all dictionary keys\n",
    "    for key in raw:\n",
    "        # get the data for the key\n",
    "        data = raw[key]\n",
    "        # extract just the column specified\n",
    "        subset = data[[\"Ticker\", column]]\n",
    "        # add to items\n",
    "        items.append(subset)\n",
    "    \n",
    "    # concatenate all the items\n",
    "    combined = pd.concat(items)\n",
    "    # reset the index\n",
    "    ri = combined.reset_index()\n",
    "    # return the pivot\n",
    "    return ri.pivot(\"Date\", \"Ticker\", column)"
   ]
  },
  {
   "cell_type": "markdown",
   "metadata": {},
   "source": [
    "# Work with a single ticker since read in list is currupting the dataframe -generate time-series chart"
   ]
  },
  {
   "cell_type": "code",
   "execution_count": 34,
   "metadata": {
    "scrolled": true
   },
   "outputs": [],
   "source": [
    "#Open close change\n",
    "raw['Change']=raw.Open - raw.Close"
   ]
  },
  {
   "cell_type": "code",
   "execution_count": 35,
   "metadata": {},
   "outputs": [],
   "source": [
    "raw['Pct_Chg']=raw.Change/raw.Open"
   ]
  },
  {
   "cell_type": "code",
   "execution_count": 36,
   "metadata": {
    "scrolled": false
   },
   "outputs": [
    {
     "data": {
      "image/png": "[encoded data removed]",
      "text/plain": [
       "<Figure size 432x288 with 1 Axes>"
      ]
     },
     "metadata": {
      "needs_background": "light"
     },
     "output_type": "display_data"
    }
   ],
   "source": [
    "# create a time-series chart with a title and specific \n",
    "# x and y axis labels\n",
    "\n",
    "# title is set in the .plot() method as a parameter\n",
    "raw['Pct_Chg'].plot(title='Percent Change', grid=True)\n",
    "#userPDTicker['Pct_Chg'].plot(grid=True)\n",
    "# explicitly set the x and y axes labels after the .plot()\n",
    "plt.xlabel('Time')\n",
    "plt.ylabel('Percent Change');"
   ]
  },
  {
   "cell_type": "code",
   "execution_count": 37,
   "metadata": {
    "scrolled": true
   },
   "outputs": [
    {
     "ename": "KeyError",
     "evalue": "\"None of [Index(['Ticker', 'Close'], dtype='object', name='Date')] are in the [index]\"",
     "output_type": "error",
     "traceback": [
      "\u001b[1;31m---------------------------------------------------------------------------\u001b[0m",
      "\u001b[1;31mKeyError\u001b[0m                                  Traceback (most recent call last)",
      "\u001b[1;32m<ipython-input-37-5035b987e27e>\u001b[0m in \u001b[0;36m<module>\u001b[1;34m\u001b[0m\n\u001b[0;32m      1\u001b[0m \u001b[1;31m# do the pivot\u001b[0m\u001b[1;33m\u001b[0m\u001b[1;33m\u001b[0m\u001b[1;33m\u001b[0m\u001b[0m\n\u001b[1;32m----> 2\u001b[1;33m \u001b[0mclose_px\u001b[0m \u001b[1;33m=\u001b[0m \u001b[0mpivot_tickers_to_columns\u001b[0m\u001b[1;33m(\u001b[0m\u001b[0mraw\u001b[0m\u001b[1;33m,\u001b[0m \u001b[1;34m\"Close\"\u001b[0m\u001b[1;33m)\u001b[0m\u001b[1;33m\u001b[0m\u001b[1;33m\u001b[0m\u001b[0m\n\u001b[0m\u001b[0;32m      3\u001b[0m \u001b[1;31m# peek at the result\u001b[0m\u001b[1;33m\u001b[0m\u001b[1;33m\u001b[0m\u001b[1;33m\u001b[0m\u001b[0m\n\u001b[0;32m      4\u001b[0m \u001b[0mclose_px\u001b[0m\u001b[1;33m[\u001b[0m\u001b[1;33m:\u001b[0m\u001b[1;36m5\u001b[0m\u001b[1;33m]\u001b[0m\u001b[1;33m\u001b[0m\u001b[1;33m\u001b[0m\u001b[0m\n",
      "\u001b[1;32m<ipython-input-33-e2719e75be6a>\u001b[0m in \u001b[0;36mpivot_tickers_to_columns\u001b[1;34m(raw, column)\u001b[0m\n\u001b[0;32m      9\u001b[0m         \u001b[0mdata\u001b[0m \u001b[1;33m=\u001b[0m \u001b[0mraw\u001b[0m\u001b[1;33m[\u001b[0m\u001b[0mkey\u001b[0m\u001b[1;33m]\u001b[0m\u001b[1;33m\u001b[0m\u001b[1;33m\u001b[0m\u001b[0m\n\u001b[0;32m     10\u001b[0m         \u001b[1;31m# extract just the column specified\u001b[0m\u001b[1;33m\u001b[0m\u001b[1;33m\u001b[0m\u001b[1;33m\u001b[0m\u001b[0m\n\u001b[1;32m---> 11\u001b[1;33m         \u001b[0msubset\u001b[0m \u001b[1;33m=\u001b[0m \u001b[0mdata\u001b[0m\u001b[1;33m[\u001b[0m\u001b[1;33m[\u001b[0m\u001b[1;34m\"Ticker\"\u001b[0m\u001b[1;33m,\u001b[0m \u001b[0mcolumn\u001b[0m\u001b[1;33m]\u001b[0m\u001b[1;33m]\u001b[0m\u001b[1;33m\u001b[0m\u001b[1;33m\u001b[0m\u001b[0m\n\u001b[0m\u001b[0;32m     12\u001b[0m         \u001b[1;31m# add to items\u001b[0m\u001b[1;33m\u001b[0m\u001b[1;33m\u001b[0m\u001b[1;33m\u001b[0m\u001b[0m\n\u001b[0;32m     13\u001b[0m         \u001b[0mitems\u001b[0m\u001b[1;33m.\u001b[0m\u001b[0mappend\u001b[0m\u001b[1;33m(\u001b[0m\u001b[0msubset\u001b[0m\u001b[1;33m)\u001b[0m\u001b[1;33m\u001b[0m\u001b[1;33m\u001b[0m\u001b[0m\n",
      "\u001b[1;32m~\\anaconda3\\lib\\site-packages\\pandas\\core\\series.py\u001b[0m in \u001b[0;36m__getitem__\u001b[1;34m(self, key)\u001b[0m\n\u001b[0;32m    908\u001b[0m             \u001b[0mkey\u001b[0m \u001b[1;33m=\u001b[0m \u001b[0mcheck_bool_indexer\u001b[0m\u001b[1;33m(\u001b[0m\u001b[0mself\u001b[0m\u001b[1;33m.\u001b[0m\u001b[0mindex\u001b[0m\u001b[1;33m,\u001b[0m \u001b[0mkey\u001b[0m\u001b[1;33m)\u001b[0m\u001b[1;33m\u001b[0m\u001b[1;33m\u001b[0m\u001b[0m\n\u001b[0;32m    909\u001b[0m \u001b[1;33m\u001b[0m\u001b[0m\n\u001b[1;32m--> 910\u001b[1;33m         \u001b[1;32mreturn\u001b[0m \u001b[0mself\u001b[0m\u001b[1;33m.\u001b[0m\u001b[0m_get_with\u001b[0m\u001b[1;33m(\u001b[0m\u001b[0mkey\u001b[0m\u001b[1;33m)\u001b[0m\u001b[1;33m\u001b[0m\u001b[1;33m\u001b[0m\u001b[0m\n\u001b[0m\u001b[0;32m    911\u001b[0m \u001b[1;33m\u001b[0m\u001b[0m\n\u001b[0;32m    912\u001b[0m     \u001b[1;32mdef\u001b[0m \u001b[0m_get_with\u001b[0m\u001b[1;33m(\u001b[0m\u001b[0mself\u001b[0m\u001b[1;33m,\u001b[0m \u001b[0mkey\u001b[0m\u001b[1;33m)\u001b[0m\u001b[1;33m:\u001b[0m\u001b[1;33m\u001b[0m\u001b[1;33m\u001b[0m\u001b[0m\n",
      "\u001b[1;32m~\\anaconda3\\lib\\site-packages\\pandas\\core\\series.py\u001b[0m in \u001b[0;36m_get_with\u001b[1;34m(self, key)\u001b[0m\n\u001b[0;32m    956\u001b[0m                 \u001b[1;32mreturn\u001b[0m \u001b[0mself\u001b[0m\u001b[1;33m.\u001b[0m\u001b[0m_get_values\u001b[0m\u001b[1;33m(\u001b[0m\u001b[0mkey\u001b[0m\u001b[1;33m)\u001b[0m\u001b[1;33m\u001b[0m\u001b[1;33m\u001b[0m\u001b[0m\n\u001b[0;32m    957\u001b[0m \u001b[1;33m\u001b[0m\u001b[0m\n\u001b[1;32m--> 958\u001b[1;33m             \u001b[1;32mreturn\u001b[0m \u001b[0mself\u001b[0m\u001b[1;33m.\u001b[0m\u001b[0mloc\u001b[0m\u001b[1;33m[\u001b[0m\u001b[0mkey\u001b[0m\u001b[1;33m]\u001b[0m\u001b[1;33m\u001b[0m\u001b[1;33m\u001b[0m\u001b[0m\n\u001b[0m\u001b[0;32m    959\u001b[0m \u001b[1;33m\u001b[0m\u001b[0m\n\u001b[0;32m    960\u001b[0m         \u001b[1;32mreturn\u001b[0m \u001b[0mself\u001b[0m\u001b[1;33m.\u001b[0m\u001b[0mreindex\u001b[0m\u001b[1;33m(\u001b[0m\u001b[0mkey\u001b[0m\u001b[1;33m)\u001b[0m\u001b[1;33m\u001b[0m\u001b[1;33m\u001b[0m\u001b[0m\n",
      "\u001b[1;32m~\\anaconda3\\lib\\site-packages\\pandas\\core\\indexing.py\u001b[0m in \u001b[0;36m__getitem__\u001b[1;34m(self, key)\u001b[0m\n\u001b[0;32m   1765\u001b[0m \u001b[1;33m\u001b[0m\u001b[0m\n\u001b[0;32m   1766\u001b[0m             \u001b[0mmaybe_callable\u001b[0m \u001b[1;33m=\u001b[0m \u001b[0mcom\u001b[0m\u001b[1;33m.\u001b[0m\u001b[0mapply_if_callable\u001b[0m\u001b[1;33m(\u001b[0m\u001b[0mkey\u001b[0m\u001b[1;33m,\u001b[0m \u001b[0mself\u001b[0m\u001b[1;33m.\u001b[0m\u001b[0mobj\u001b[0m\u001b[1;33m)\u001b[0m\u001b[1;33m\u001b[0m\u001b[1;33m\u001b[0m\u001b[0m\n\u001b[1;32m-> 1767\u001b[1;33m             \u001b[1;32mreturn\u001b[0m \u001b[0mself\u001b[0m\u001b[1;33m.\u001b[0m\u001b[0m_getitem_axis\u001b[0m\u001b[1;33m(\u001b[0m\u001b[0mmaybe_callable\u001b[0m\u001b[1;33m,\u001b[0m \u001b[0maxis\u001b[0m\u001b[1;33m=\u001b[0m\u001b[0maxis\u001b[0m\u001b[1;33m)\u001b[0m\u001b[1;33m\u001b[0m\u001b[1;33m\u001b[0m\u001b[0m\n\u001b[0m\u001b[0;32m   1768\u001b[0m \u001b[1;33m\u001b[0m\u001b[0m\n\u001b[0;32m   1769\u001b[0m     \u001b[1;32mdef\u001b[0m \u001b[0m_is_scalar_access\u001b[0m\u001b[1;33m(\u001b[0m\u001b[0mself\u001b[0m\u001b[1;33m,\u001b[0m \u001b[0mkey\u001b[0m\u001b[1;33m:\u001b[0m \u001b[0mTuple\u001b[0m\u001b[1;33m)\u001b[0m\u001b[1;33m:\u001b[0m\u001b[1;33m\u001b[0m\u001b[1;33m\u001b[0m\u001b[0m\n",
      "\u001b[1;32m~\\anaconda3\\lib\\site-packages\\pandas\\core\\indexing.py\u001b[0m in \u001b[0;36m_getitem_axis\u001b[1;34m(self, key, axis)\u001b[0m\n\u001b[0;32m   1951\u001b[0m                     \u001b[1;32mraise\u001b[0m \u001b[0mValueError\u001b[0m\u001b[1;33m(\u001b[0m\u001b[1;34m\"Cannot index with multidimensional key\"\u001b[0m\u001b[1;33m)\u001b[0m\u001b[1;33m\u001b[0m\u001b[1;33m\u001b[0m\u001b[0m\n\u001b[0;32m   1952\u001b[0m \u001b[1;33m\u001b[0m\u001b[0m\n\u001b[1;32m-> 1953\u001b[1;33m                 \u001b[1;32mreturn\u001b[0m \u001b[0mself\u001b[0m\u001b[1;33m.\u001b[0m\u001b[0m_getitem_iterable\u001b[0m\u001b[1;33m(\u001b[0m\u001b[0mkey\u001b[0m\u001b[1;33m,\u001b[0m \u001b[0maxis\u001b[0m\u001b[1;33m=\u001b[0m\u001b[0maxis\u001b[0m\u001b[1;33m)\u001b[0m\u001b[1;33m\u001b[0m\u001b[1;33m\u001b[0m\u001b[0m\n\u001b[0m\u001b[0;32m   1954\u001b[0m \u001b[1;33m\u001b[0m\u001b[0m\n\u001b[0;32m   1955\u001b[0m             \u001b[1;31m# nested tuple slicing\u001b[0m\u001b[1;33m\u001b[0m\u001b[1;33m\u001b[0m\u001b[1;33m\u001b[0m\u001b[0m\n",
      "\u001b[1;32m~\\anaconda3\\lib\\site-packages\\pandas\\core\\indexing.py\u001b[0m in \u001b[0;36m_getitem_iterable\u001b[1;34m(self, key, axis)\u001b[0m\n\u001b[0;32m   1592\u001b[0m         \u001b[1;32melse\u001b[0m\u001b[1;33m:\u001b[0m\u001b[1;33m\u001b[0m\u001b[1;33m\u001b[0m\u001b[0m\n\u001b[0;32m   1593\u001b[0m             \u001b[1;31m# A collection of keys\u001b[0m\u001b[1;33m\u001b[0m\u001b[1;33m\u001b[0m\u001b[1;33m\u001b[0m\u001b[0m\n\u001b[1;32m-> 1594\u001b[1;33m             \u001b[0mkeyarr\u001b[0m\u001b[1;33m,\u001b[0m \u001b[0mindexer\u001b[0m \u001b[1;33m=\u001b[0m \u001b[0mself\u001b[0m\u001b[1;33m.\u001b[0m\u001b[0m_get_listlike_indexer\u001b[0m\u001b[1;33m(\u001b[0m\u001b[0mkey\u001b[0m\u001b[1;33m,\u001b[0m \u001b[0maxis\u001b[0m\u001b[1;33m,\u001b[0m \u001b[0mraise_missing\u001b[0m\u001b[1;33m=\u001b[0m\u001b[1;32mFalse\u001b[0m\u001b[1;33m)\u001b[0m\u001b[1;33m\u001b[0m\u001b[1;33m\u001b[0m\u001b[0m\n\u001b[0m\u001b[0;32m   1595\u001b[0m             return self.obj._reindex_with_indexers(\n\u001b[0;32m   1596\u001b[0m                 \u001b[1;33m{\u001b[0m\u001b[0maxis\u001b[0m\u001b[1;33m:\u001b[0m \u001b[1;33m[\u001b[0m\u001b[0mkeyarr\u001b[0m\u001b[1;33m,\u001b[0m \u001b[0mindexer\u001b[0m\u001b[1;33m]\u001b[0m\u001b[1;33m}\u001b[0m\u001b[1;33m,\u001b[0m \u001b[0mcopy\u001b[0m\u001b[1;33m=\u001b[0m\u001b[1;32mTrue\u001b[0m\u001b[1;33m,\u001b[0m \u001b[0mallow_dups\u001b[0m\u001b[1;33m=\u001b[0m\u001b[1;32mTrue\u001b[0m\u001b[1;33m\u001b[0m\u001b[1;33m\u001b[0m\u001b[0m\n",
      "\u001b[1;32m~\\anaconda3\\lib\\site-packages\\pandas\\core\\indexing.py\u001b[0m in \u001b[0;36m_get_listlike_indexer\u001b[1;34m(self, key, axis, raise_missing)\u001b[0m\n\u001b[0;32m   1550\u001b[0m \u001b[1;33m\u001b[0m\u001b[0m\n\u001b[0;32m   1551\u001b[0m         self._validate_read_indexer(\n\u001b[1;32m-> 1552\u001b[1;33m             \u001b[0mkeyarr\u001b[0m\u001b[1;33m,\u001b[0m \u001b[0mindexer\u001b[0m\u001b[1;33m,\u001b[0m \u001b[0mo\u001b[0m\u001b[1;33m.\u001b[0m\u001b[0m_get_axis_number\u001b[0m\u001b[1;33m(\u001b[0m\u001b[0maxis\u001b[0m\u001b[1;33m)\u001b[0m\u001b[1;33m,\u001b[0m \u001b[0mraise_missing\u001b[0m\u001b[1;33m=\u001b[0m\u001b[0mraise_missing\u001b[0m\u001b[1;33m\u001b[0m\u001b[1;33m\u001b[0m\u001b[0m\n\u001b[0m\u001b[0;32m   1553\u001b[0m         )\n\u001b[0;32m   1554\u001b[0m         \u001b[1;32mreturn\u001b[0m \u001b[0mkeyarr\u001b[0m\u001b[1;33m,\u001b[0m \u001b[0mindexer\u001b[0m\u001b[1;33m\u001b[0m\u001b[1;33m\u001b[0m\u001b[0m\n",
      "\u001b[1;32m~\\anaconda3\\lib\\site-packages\\pandas\\core\\indexing.py\u001b[0m in \u001b[0;36m_validate_read_indexer\u001b[1;34m(self, key, indexer, axis, raise_missing)\u001b[0m\n\u001b[0;32m   1637\u001b[0m             \u001b[1;32mif\u001b[0m \u001b[0mmissing\u001b[0m \u001b[1;33m==\u001b[0m \u001b[0mlen\u001b[0m\u001b[1;33m(\u001b[0m\u001b[0mindexer\u001b[0m\u001b[1;33m)\u001b[0m\u001b[1;33m:\u001b[0m\u001b[1;33m\u001b[0m\u001b[1;33m\u001b[0m\u001b[0m\n\u001b[0;32m   1638\u001b[0m                 \u001b[0maxis_name\u001b[0m \u001b[1;33m=\u001b[0m \u001b[0mself\u001b[0m\u001b[1;33m.\u001b[0m\u001b[0mobj\u001b[0m\u001b[1;33m.\u001b[0m\u001b[0m_get_axis_name\u001b[0m\u001b[1;33m(\u001b[0m\u001b[0maxis\u001b[0m\u001b[1;33m)\u001b[0m\u001b[1;33m\u001b[0m\u001b[1;33m\u001b[0m\u001b[0m\n\u001b[1;32m-> 1639\u001b[1;33m                 \u001b[1;32mraise\u001b[0m \u001b[0mKeyError\u001b[0m\u001b[1;33m(\u001b[0m\u001b[1;34mf\"None of [{key}] are in the [{axis_name}]\"\u001b[0m\u001b[1;33m)\u001b[0m\u001b[1;33m\u001b[0m\u001b[1;33m\u001b[0m\u001b[0m\n\u001b[0m\u001b[0;32m   1640\u001b[0m \u001b[1;33m\u001b[0m\u001b[0m\n\u001b[0;32m   1641\u001b[0m             \u001b[1;31m# We (temporarily) allow for some missing keys with .loc, except in\u001b[0m\u001b[1;33m\u001b[0m\u001b[1;33m\u001b[0m\u001b[1;33m\u001b[0m\u001b[0m\n",
      "\u001b[1;31mKeyError\u001b[0m: \"None of [Index(['Ticker', 'Close'], dtype='object', name='Date')] are in the [index]\""
     ]
    }
   ],
   "source": [
    "# do the pivot\n",
    "close_px = pivot_tickers_to_columns(raw, \"Close\")\n",
    "# peek at the result\n",
    "close_px[:5]"
   ]
  },
  {
   "cell_type": "markdown",
   "metadata": {},
   "source": [
    "# Plotting time-series prices"
   ]
  },
  {
   "cell_type": "code",
   "execution_count": 38,
   "metadata": {},
   "outputs": [
    {
     "ename": "NameError",
     "evalue": "name 'close_px' is not defined",
     "output_type": "error",
     "traceback": [
      "\u001b[1;31m---------------------------------------------------------------------------\u001b[0m",
      "\u001b[1;31mNameError\u001b[0m                                 Traceback (most recent call last)",
      "\u001b[1;32m<ipython-input-38-60b4a831d51a>\u001b[0m in \u001b[0;36m<module>\u001b[1;34m\u001b[0m\n\u001b[0;32m      1\u001b[0m \u001b[1;31m# plot the closing prices of SAGE\u001b[0m\u001b[1;33m\u001b[0m\u001b[1;33m\u001b[0m\u001b[1;33m\u001b[0m\u001b[0m\n\u001b[1;32m----> 2\u001b[1;33m \u001b[0mclose_px\u001b[0m\u001b[1;33m[\u001b[0m\u001b[0muserTicker\u001b[0m\u001b[1;33m]\u001b[0m\u001b[1;33m.\u001b[0m\u001b[0mplot\u001b[0m\u001b[1;33m(\u001b[0m\u001b[1;33m)\u001b[0m\u001b[1;33m;\u001b[0m\u001b[1;33m\u001b[0m\u001b[1;33m\u001b[0m\u001b[0m\n\u001b[0m",
      "\u001b[1;31mNameError\u001b[0m: name 'close_px' is not defined"
     ]
    }
   ],
   "source": [
    "# plot the closing prices of SAGE\n",
    "close_px[userTicker].plot();"
   ]
  },
  {
   "cell_type": "code",
   "execution_count": 39,
   "metadata": {
    "scrolled": true
   },
   "outputs": [],
   "source": [
    "# plot the closing prices of INO\n",
    "#close_px[userTicker].plot();"
   ]
  },
  {
   "cell_type": "code",
   "execution_count": 40,
   "metadata": {},
   "outputs": [],
   "source": [
    "# plot MSFT vs AAPL on the same chart\n",
    "#close_px[['SAGE', userTicke]].plot();"
   ]
  },
  {
   "cell_type": "raw",
   "metadata": {},
   "source": [
    "# Plotting volume series data"
   ]
  },
  {
   "cell_type": "code",
   "execution_count": 41,
   "metadata": {},
   "outputs": [
    {
     "ename": "KeyError",
     "evalue": "\"None of [Index(['Ticker', 'Volume'], dtype='object', name='Date')] are in the [index]\"",
     "output_type": "error",
     "traceback": [
      "\u001b[1;31m---------------------------------------------------------------------------\u001b[0m",
      "\u001b[1;31mKeyError\u001b[0m                                  Traceback (most recent call last)",
      "\u001b[1;32m<ipython-input-41-d5cf77135617>\u001b[0m in \u001b[0;36m<module>\u001b[1;34m\u001b[0m\n\u001b[0;32m      1\u001b[0m \u001b[1;31m# pivot the volume data into columns\u001b[0m\u001b[1;33m\u001b[0m\u001b[1;33m\u001b[0m\u001b[1;33m\u001b[0m\u001b[0m\n\u001b[1;32m----> 2\u001b[1;33m \u001b[0mvolumes\u001b[0m \u001b[1;33m=\u001b[0m \u001b[0mpivot_tickers_to_columns\u001b[0m\u001b[1;33m(\u001b[0m\u001b[0mraw\u001b[0m\u001b[1;33m,\u001b[0m \u001b[1;34m\"Volume\"\u001b[0m\u001b[1;33m)\u001b[0m\u001b[1;33m\u001b[0m\u001b[1;33m\u001b[0m\u001b[0m\n\u001b[0m\u001b[0;32m      3\u001b[0m \u001b[0mvolumes\u001b[0m\u001b[1;33m.\u001b[0m\u001b[0mtail\u001b[0m\u001b[1;33m(\u001b[0m\u001b[1;33m)\u001b[0m\u001b[1;33m\u001b[0m\u001b[1;33m\u001b[0m\u001b[0m\n",
      "\u001b[1;32m<ipython-input-33-e2719e75be6a>\u001b[0m in \u001b[0;36mpivot_tickers_to_columns\u001b[1;34m(raw, column)\u001b[0m\n\u001b[0;32m      9\u001b[0m         \u001b[0mdata\u001b[0m \u001b[1;33m=\u001b[0m \u001b[0mraw\u001b[0m\u001b[1;33m[\u001b[0m\u001b[0mkey\u001b[0m\u001b[1;33m]\u001b[0m\u001b[1;33m\u001b[0m\u001b[1;33m\u001b[0m\u001b[0m\n\u001b[0;32m     10\u001b[0m         \u001b[1;31m# extract just the column specified\u001b[0m\u001b[1;33m\u001b[0m\u001b[1;33m\u001b[0m\u001b[1;33m\u001b[0m\u001b[0m\n\u001b[1;32m---> 11\u001b[1;33m         \u001b[0msubset\u001b[0m \u001b[1;33m=\u001b[0m \u001b[0mdata\u001b[0m\u001b[1;33m[\u001b[0m\u001b[1;33m[\u001b[0m\u001b[1;34m\"Ticker\"\u001b[0m\u001b[1;33m,\u001b[0m \u001b[0mcolumn\u001b[0m\u001b[1;33m]\u001b[0m\u001b[1;33m]\u001b[0m\u001b[1;33m\u001b[0m\u001b[1;33m\u001b[0m\u001b[0m\n\u001b[0m\u001b[0;32m     12\u001b[0m         \u001b[1;31m# add to items\u001b[0m\u001b[1;33m\u001b[0m\u001b[1;33m\u001b[0m\u001b[1;33m\u001b[0m\u001b[0m\n\u001b[0;32m     13\u001b[0m         \u001b[0mitems\u001b[0m\u001b[1;33m.\u001b[0m\u001b[0mappend\u001b[0m\u001b[1;33m(\u001b[0m\u001b[0msubset\u001b[0m\u001b[1;33m)\u001b[0m\u001b[1;33m\u001b[0m\u001b[1;33m\u001b[0m\u001b[0m\n",
      "\u001b[1;32m~\\anaconda3\\lib\\site-packages\\pandas\\core\\series.py\u001b[0m in \u001b[0;36m__getitem__\u001b[1;34m(self, key)\u001b[0m\n\u001b[0;32m    908\u001b[0m             \u001b[0mkey\u001b[0m \u001b[1;33m=\u001b[0m \u001b[0mcheck_bool_indexer\u001b[0m\u001b[1;33m(\u001b[0m\u001b[0mself\u001b[0m\u001b[1;33m.\u001b[0m\u001b[0mindex\u001b[0m\u001b[1;33m,\u001b[0m \u001b[0mkey\u001b[0m\u001b[1;33m)\u001b[0m\u001b[1;33m\u001b[0m\u001b[1;33m\u001b[0m\u001b[0m\n\u001b[0;32m    909\u001b[0m \u001b[1;33m\u001b[0m\u001b[0m\n\u001b[1;32m--> 910\u001b[1;33m         \u001b[1;32mreturn\u001b[0m \u001b[0mself\u001b[0m\u001b[1;33m.\u001b[0m\u001b[0m_get_with\u001b[0m\u001b[1;33m(\u001b[0m\u001b[0mkey\u001b[0m\u001b[1;33m)\u001b[0m\u001b[1;33m\u001b[0m\u001b[1;33m\u001b[0m\u001b[0m\n\u001b[0m\u001b[0;32m    911\u001b[0m \u001b[1;33m\u001b[0m\u001b[0m\n\u001b[0;32m    912\u001b[0m     \u001b[1;32mdef\u001b[0m \u001b[0m_get_with\u001b[0m\u001b[1;33m(\u001b[0m\u001b[0mself\u001b[0m\u001b[1;33m,\u001b[0m \u001b[0mkey\u001b[0m\u001b[1;33m)\u001b[0m\u001b[1;33m:\u001b[0m\u001b[1;33m\u001b[0m\u001b[1;33m\u001b[0m\u001b[0m\n",
      "\u001b[1;32m~\\anaconda3\\lib\\site-packages\\pandas\\core\\series.py\u001b[0m in \u001b[0;36m_get_with\u001b[1;34m(self, key)\u001b[0m\n\u001b[0;32m    956\u001b[0m                 \u001b[1;32mreturn\u001b[0m \u001b[0mself\u001b[0m\u001b[1;33m.\u001b[0m\u001b[0m_get_values\u001b[0m\u001b[1;33m(\u001b[0m\u001b[0mkey\u001b[0m\u001b[1;33m)\u001b[0m\u001b[1;33m\u001b[0m\u001b[1;33m\u001b[0m\u001b[0m\n\u001b[0;32m    957\u001b[0m \u001b[1;33m\u001b[0m\u001b[0m\n\u001b[1;32m--> 958\u001b[1;33m             \u001b[1;32mreturn\u001b[0m \u001b[0mself\u001b[0m\u001b[1;33m.\u001b[0m\u001b[0mloc\u001b[0m\u001b[1;33m[\u001b[0m\u001b[0mkey\u001b[0m\u001b[1;33m]\u001b[0m\u001b[1;33m\u001b[0m\u001b[1;33m\u001b[0m\u001b[0m\n\u001b[0m\u001b[0;32m    959\u001b[0m \u001b[1;33m\u001b[0m\u001b[0m\n\u001b[0;32m    960\u001b[0m         \u001b[1;32mreturn\u001b[0m \u001b[0mself\u001b[0m\u001b[1;33m.\u001b[0m\u001b[0mreindex\u001b[0m\u001b[1;33m(\u001b[0m\u001b[0mkey\u001b[0m\u001b[1;33m)\u001b[0m\u001b[1;33m\u001b[0m\u001b[1;33m\u001b[0m\u001b[0m\n",
      "\u001b[1;32m~\\anaconda3\\lib\\site-packages\\pandas\\core\\indexing.py\u001b[0m in \u001b[0;36m__getitem__\u001b[1;34m(self, key)\u001b[0m\n\u001b[0;32m   1765\u001b[0m \u001b[1;33m\u001b[0m\u001b[0m\n\u001b[0;32m   1766\u001b[0m             \u001b[0mmaybe_callable\u001b[0m \u001b[1;33m=\u001b[0m \u001b[0mcom\u001b[0m\u001b[1;33m.\u001b[0m\u001b[0mapply_if_callable\u001b[0m\u001b[1;33m(\u001b[0m\u001b[0mkey\u001b[0m\u001b[1;33m,\u001b[0m \u001b[0mself\u001b[0m\u001b[1;33m.\u001b[0m\u001b[0mobj\u001b[0m\u001b[1;33m)\u001b[0m\u001b[1;33m\u001b[0m\u001b[1;33m\u001b[0m\u001b[0m\n\u001b[1;32m-> 1767\u001b[1;33m             \u001b[1;32mreturn\u001b[0m \u001b[0mself\u001b[0m\u001b[1;33m.\u001b[0m\u001b[0m_getitem_axis\u001b[0m\u001b[1;33m(\u001b[0m\u001b[0mmaybe_callable\u001b[0m\u001b[1;33m,\u001b[0m \u001b[0maxis\u001b[0m\u001b[1;33m=\u001b[0m\u001b[0maxis\u001b[0m\u001b[1;33m)\u001b[0m\u001b[1;33m\u001b[0m\u001b[1;33m\u001b[0m\u001b[0m\n\u001b[0m\u001b[0;32m   1768\u001b[0m \u001b[1;33m\u001b[0m\u001b[0m\n\u001b[0;32m   1769\u001b[0m     \u001b[1;32mdef\u001b[0m \u001b[0m_is_scalar_access\u001b[0m\u001b[1;33m(\u001b[0m\u001b[0mself\u001b[0m\u001b[1;33m,\u001b[0m \u001b[0mkey\u001b[0m\u001b[1;33m:\u001b[0m \u001b[0mTuple\u001b[0m\u001b[1;33m)\u001b[0m\u001b[1;33m:\u001b[0m\u001b[1;33m\u001b[0m\u001b[1;33m\u001b[0m\u001b[0m\n",
      "\u001b[1;32m~\\anaconda3\\lib\\site-packages\\pandas\\core\\indexing.py\u001b[0m in \u001b[0;36m_getitem_axis\u001b[1;34m(self, key, axis)\u001b[0m\n\u001b[0;32m   1951\u001b[0m                     \u001b[1;32mraise\u001b[0m \u001b[0mValueError\u001b[0m\u001b[1;33m(\u001b[0m\u001b[1;34m\"Cannot index with multidimensional key\"\u001b[0m\u001b[1;33m)\u001b[0m\u001b[1;33m\u001b[0m\u001b[1;33m\u001b[0m\u001b[0m\n\u001b[0;32m   1952\u001b[0m \u001b[1;33m\u001b[0m\u001b[0m\n\u001b[1;32m-> 1953\u001b[1;33m                 \u001b[1;32mreturn\u001b[0m \u001b[0mself\u001b[0m\u001b[1;33m.\u001b[0m\u001b[0m_getitem_iterable\u001b[0m\u001b[1;33m(\u001b[0m\u001b[0mkey\u001b[0m\u001b[1;33m,\u001b[0m \u001b[0maxis\u001b[0m\u001b[1;33m=\u001b[0m\u001b[0maxis\u001b[0m\u001b[1;33m)\u001b[0m\u001b[1;33m\u001b[0m\u001b[1;33m\u001b[0m\u001b[0m\n\u001b[0m\u001b[0;32m   1954\u001b[0m \u001b[1;33m\u001b[0m\u001b[0m\n\u001b[0;32m   1955\u001b[0m             \u001b[1;31m# nested tuple slicing\u001b[0m\u001b[1;33m\u001b[0m\u001b[1;33m\u001b[0m\u001b[1;33m\u001b[0m\u001b[0m\n",
      "\u001b[1;32m~\\anaconda3\\lib\\site-packages\\pandas\\core\\indexing.py\u001b[0m in \u001b[0;36m_getitem_iterable\u001b[1;34m(self, key, axis)\u001b[0m\n\u001b[0;32m   1592\u001b[0m         \u001b[1;32melse\u001b[0m\u001b[1;33m:\u001b[0m\u001b[1;33m\u001b[0m\u001b[1;33m\u001b[0m\u001b[0m\n\u001b[0;32m   1593\u001b[0m             \u001b[1;31m# A collection of keys\u001b[0m\u001b[1;33m\u001b[0m\u001b[1;33m\u001b[0m\u001b[1;33m\u001b[0m\u001b[0m\n\u001b[1;32m-> 1594\u001b[1;33m             \u001b[0mkeyarr\u001b[0m\u001b[1;33m,\u001b[0m \u001b[0mindexer\u001b[0m \u001b[1;33m=\u001b[0m \u001b[0mself\u001b[0m\u001b[1;33m.\u001b[0m\u001b[0m_get_listlike_indexer\u001b[0m\u001b[1;33m(\u001b[0m\u001b[0mkey\u001b[0m\u001b[1;33m,\u001b[0m \u001b[0maxis\u001b[0m\u001b[1;33m,\u001b[0m \u001b[0mraise_missing\u001b[0m\u001b[1;33m=\u001b[0m\u001b[1;32mFalse\u001b[0m\u001b[1;33m)\u001b[0m\u001b[1;33m\u001b[0m\u001b[1;33m\u001b[0m\u001b[0m\n\u001b[0m\u001b[0;32m   1595\u001b[0m             return self.obj._reindex_with_indexers(\n\u001b[0;32m   1596\u001b[0m                 \u001b[1;33m{\u001b[0m\u001b[0maxis\u001b[0m\u001b[1;33m:\u001b[0m \u001b[1;33m[\u001b[0m\u001b[0mkeyarr\u001b[0m\u001b[1;33m,\u001b[0m \u001b[0mindexer\u001b[0m\u001b[1;33m]\u001b[0m\u001b[1;33m}\u001b[0m\u001b[1;33m,\u001b[0m \u001b[0mcopy\u001b[0m\u001b[1;33m=\u001b[0m\u001b[1;32mTrue\u001b[0m\u001b[1;33m,\u001b[0m \u001b[0mallow_dups\u001b[0m\u001b[1;33m=\u001b[0m\u001b[1;32mTrue\u001b[0m\u001b[1;33m\u001b[0m\u001b[1;33m\u001b[0m\u001b[0m\n",
      "\u001b[1;32m~\\anaconda3\\lib\\site-packages\\pandas\\core\\indexing.py\u001b[0m in \u001b[0;36m_get_listlike_indexer\u001b[1;34m(self, key, axis, raise_missing)\u001b[0m\n\u001b[0;32m   1550\u001b[0m \u001b[1;33m\u001b[0m\u001b[0m\n\u001b[0;32m   1551\u001b[0m         self._validate_read_indexer(\n\u001b[1;32m-> 1552\u001b[1;33m             \u001b[0mkeyarr\u001b[0m\u001b[1;33m,\u001b[0m \u001b[0mindexer\u001b[0m\u001b[1;33m,\u001b[0m \u001b[0mo\u001b[0m\u001b[1;33m.\u001b[0m\u001b[0m_get_axis_number\u001b[0m\u001b[1;33m(\u001b[0m\u001b[0maxis\u001b[0m\u001b[1;33m)\u001b[0m\u001b[1;33m,\u001b[0m \u001b[0mraise_missing\u001b[0m\u001b[1;33m=\u001b[0m\u001b[0mraise_missing\u001b[0m\u001b[1;33m\u001b[0m\u001b[1;33m\u001b[0m\u001b[0m\n\u001b[0m\u001b[0;32m   1553\u001b[0m         )\n\u001b[0;32m   1554\u001b[0m         \u001b[1;32mreturn\u001b[0m \u001b[0mkeyarr\u001b[0m\u001b[1;33m,\u001b[0m \u001b[0mindexer\u001b[0m\u001b[1;33m\u001b[0m\u001b[1;33m\u001b[0m\u001b[0m\n",
      "\u001b[1;32m~\\anaconda3\\lib\\site-packages\\pandas\\core\\indexing.py\u001b[0m in \u001b[0;36m_validate_read_indexer\u001b[1;34m(self, key, indexer, axis, raise_missing)\u001b[0m\n\u001b[0;32m   1637\u001b[0m             \u001b[1;32mif\u001b[0m \u001b[0mmissing\u001b[0m \u001b[1;33m==\u001b[0m \u001b[0mlen\u001b[0m\u001b[1;33m(\u001b[0m\u001b[0mindexer\u001b[0m\u001b[1;33m)\u001b[0m\u001b[1;33m:\u001b[0m\u001b[1;33m\u001b[0m\u001b[1;33m\u001b[0m\u001b[0m\n\u001b[0;32m   1638\u001b[0m                 \u001b[0maxis_name\u001b[0m \u001b[1;33m=\u001b[0m \u001b[0mself\u001b[0m\u001b[1;33m.\u001b[0m\u001b[0mobj\u001b[0m\u001b[1;33m.\u001b[0m\u001b[0m_get_axis_name\u001b[0m\u001b[1;33m(\u001b[0m\u001b[0maxis\u001b[0m\u001b[1;33m)\u001b[0m\u001b[1;33m\u001b[0m\u001b[1;33m\u001b[0m\u001b[0m\n\u001b[1;32m-> 1639\u001b[1;33m                 \u001b[1;32mraise\u001b[0m \u001b[0mKeyError\u001b[0m\u001b[1;33m(\u001b[0m\u001b[1;34mf\"None of [{key}] are in the [{axis_name}]\"\u001b[0m\u001b[1;33m)\u001b[0m\u001b[1;33m\u001b[0m\u001b[1;33m\u001b[0m\u001b[0m\n\u001b[0m\u001b[0;32m   1640\u001b[0m \u001b[1;33m\u001b[0m\u001b[0m\n\u001b[0;32m   1641\u001b[0m             \u001b[1;31m# We (temporarily) allow for some missing keys with .loc, except in\u001b[0m\u001b[1;33m\u001b[0m\u001b[1;33m\u001b[0m\u001b[1;33m\u001b[0m\u001b[0m\n",
      "\u001b[1;31mKeyError\u001b[0m: \"None of [Index(['Ticker', 'Volume'], dtype='object', name='Date')] are in the [index]\""
     ]
    }
   ],
   "source": [
    "# pivot the volume data into columns\n",
    "volumes = pivot_tickers_to_columns(raw, \"Volume\")\n",
    "volumes.tail()"
   ]
  },
  {
   "cell_type": "code",
   "execution_count": 42,
   "metadata": {},
   "outputs": [
    {
     "ename": "NameError",
     "evalue": "name 'volumes' is not defined",
     "output_type": "error",
     "traceback": [
      "\u001b[1;31m---------------------------------------------------------------------------\u001b[0m",
      "\u001b[1;31mNameError\u001b[0m                                 Traceback (most recent call last)",
      "\u001b[1;32m<ipython-input-42-b2a4e12120f8>\u001b[0m in \u001b[0;36m<module>\u001b[1;34m\u001b[0m\n\u001b[0;32m      1\u001b[0m \u001b[1;31m# plot the volume for MSFT\u001b[0m\u001b[1;33m\u001b[0m\u001b[1;33m\u001b[0m\u001b[1;33m\u001b[0m\u001b[0m\n\u001b[1;32m----> 2\u001b[1;33m \u001b[0muserTicker_volume\u001b[0m \u001b[1;33m=\u001b[0m \u001b[0mvolumes\u001b[0m\u001b[1;33m[\u001b[0m\u001b[1;33m[\u001b[0m\u001b[0muserTicker\u001b[0m\u001b[1;33m]\u001b[0m\u001b[1;33m]\u001b[0m\u001b[1;33m\u001b[0m\u001b[1;33m\u001b[0m\u001b[0m\n\u001b[0m\u001b[0;32m      3\u001b[0m \u001b[0mplt\u001b[0m\u001b[1;33m.\u001b[0m\u001b[0mbar\u001b[0m\u001b[1;33m(\u001b[0m\u001b[0mINO_volume\u001b[0m\u001b[1;33m.\u001b[0m\u001b[0mindex\u001b[0m\u001b[1;33m,\u001b[0m \u001b[0muserTicker_volume\u001b[0m\u001b[1;33m[\u001b[0m\u001b[0muserTicker\u001b[0m\u001b[1;33m]\u001b[0m\u001b[1;33m)\u001b[0m\u001b[1;33m\u001b[0m\u001b[1;33m\u001b[0m\u001b[0m\n\u001b[0;32m      4\u001b[0m \u001b[0mplt\u001b[0m\u001b[1;33m.\u001b[0m\u001b[0mgcf\u001b[0m\u001b[1;33m(\u001b[0m\u001b[1;33m)\u001b[0m\u001b[1;33m.\u001b[0m\u001b[0mset_size_inches\u001b[0m\u001b[1;33m(\u001b[0m\u001b[1;36m15\u001b[0m\u001b[1;33m,\u001b[0m\u001b[1;36m8\u001b[0m\u001b[1;33m)\u001b[0m\u001b[1;33m\u001b[0m\u001b[1;33m\u001b[0m\u001b[0m\n",
      "\u001b[1;31mNameError\u001b[0m: name 'volumes' is not defined"
     ]
    }
   ],
   "source": [
    "# plot the volume for MSFT\n",
    "userTicker_volume = volumes[[userTicker]]\n",
    "plt.bar(INO_volume.index, userTicker_volume[userTicker])\n",
    "plt.gcf().set_size_inches(15,8)"
   ]
  },
  {
   "cell_type": "code",
   "execution_count": 43,
   "metadata": {},
   "outputs": [
    {
     "ename": "NameError",
     "evalue": "name 'close_px' is not defined",
     "output_type": "error",
     "traceback": [
      "\u001b[1;31m---------------------------------------------------------------------------\u001b[0m",
      "\u001b[1;31mNameError\u001b[0m                                 Traceback (most recent call last)",
      "\u001b[1;32m<ipython-input-43-3b952b40e2be>\u001b[0m in \u001b[0;36m<module>\u001b[1;34m\u001b[0m\n\u001b[0;32m      1\u001b[0m \u001b[1;31m# draw the price history on the top\u001b[0m\u001b[1;33m\u001b[0m\u001b[1;33m\u001b[0m\u001b[1;33m\u001b[0m\u001b[0m\n\u001b[0;32m      2\u001b[0m \u001b[0mtop\u001b[0m \u001b[1;33m=\u001b[0m \u001b[0mplt\u001b[0m\u001b[1;33m.\u001b[0m\u001b[0msubplot2grid\u001b[0m\u001b[1;33m(\u001b[0m\u001b[1;33m(\u001b[0m\u001b[1;36m4\u001b[0m\u001b[1;33m,\u001b[0m\u001b[1;36m4\u001b[0m\u001b[1;33m)\u001b[0m\u001b[1;33m,\u001b[0m \u001b[1;33m(\u001b[0m\u001b[1;36m0\u001b[0m\u001b[1;33m,\u001b[0m \u001b[1;36m0\u001b[0m\u001b[1;33m)\u001b[0m\u001b[1;33m,\u001b[0m \u001b[0mrowspan\u001b[0m\u001b[1;33m=\u001b[0m\u001b[1;36m3\u001b[0m\u001b[1;33m,\u001b[0m \u001b[0mcolspan\u001b[0m\u001b[1;33m=\u001b[0m\u001b[1;36m4\u001b[0m\u001b[1;33m)\u001b[0m\u001b[1;33m\u001b[0m\u001b[1;33m\u001b[0m\u001b[0m\n\u001b[1;32m----> 3\u001b[1;33m top.plot(close_px['userTicke'].index, close_px['userTicke'], \n\u001b[0m\u001b[0;32m      4\u001b[0m          label='userTicke Close')\n\u001b[0;32m      5\u001b[0m \u001b[0mplt\u001b[0m\u001b[1;33m.\u001b[0m\u001b[0mtitle\u001b[0m\u001b[1;33m(\u001b[0m\u001b[1;34m'userTicke Close Price 2012 - 2014'\u001b[0m\u001b[1;33m)\u001b[0m\u001b[1;33m\u001b[0m\u001b[1;33m\u001b[0m\u001b[0m\n",
      "\u001b[1;31mNameError\u001b[0m: name 'close_px' is not defined"
     ]
    },
    {
     "data": {
      "image/png": "[encoded data removed]",
      "text/plain": [
       "<Figure size 432x288 with 1 Axes>"
      ]
     },
     "metadata": {
      "needs_background": "light"
     },
     "output_type": "display_data"
    }
   ],
   "source": [
    "# draw the price history on the top\n",
    "top = plt.subplot2grid((4,4), (0, 0), rowspan=3, colspan=4)\n",
    "top.plot(close_px['userTicke'].index, close_px['userTicke'], \n",
    "         label='userTicke Close')\n",
    "plt.title('userTicke Close Price 2012 - 2014')\n",
    "plt.legend(loc=2)\n",
    "\n",
    "# and the volume along the bottom\n",
    "bottom = plt.subplot2grid((4,4), (3,0), rowspan=1, colspan=4)\n",
    "bottom.bar(userTicke_volume.index, userTicke_volume['userTicke'])\n",
    "plt.title('userTicke Trading Volume 2012 - 2014')\n",
    "plt.subplots_adjust(hspace=0.75)\n",
    "plt.gcf().set_size_inches(15,8)"
   ]
  },
  {
   "cell_type": "markdown",
   "metadata": {},
   "source": [
    "# Calculating simple daily percentage change"
   ]
  },
  {
   "cell_type": "code",
   "execution_count": 44,
   "metadata": {},
   "outputs": [
    {
     "ename": "NameError",
     "evalue": "name 'close_px' is not defined",
     "output_type": "error",
     "traceback": [
      "\u001b[1;31m---------------------------------------------------------------------------\u001b[0m",
      "\u001b[1;31mNameError\u001b[0m                                 Traceback (most recent call last)",
      "\u001b[1;32m<ipython-input-44-58331d2c83c7>\u001b[0m in \u001b[0;36m<module>\u001b[1;34m\u001b[0m\n\u001b[0;32m      1\u001b[0m \u001b[1;31m# calculate daily percentage change\u001b[0m\u001b[1;33m\u001b[0m\u001b[1;33m\u001b[0m\u001b[1;33m\u001b[0m\u001b[0m\n\u001b[1;32m----> 2\u001b[1;33m \u001b[0mdaily_pc\u001b[0m \u001b[1;33m=\u001b[0m \u001b[0mclose_px\u001b[0m \u001b[1;33m/\u001b[0m \u001b[0mclose_px\u001b[0m\u001b[1;33m.\u001b[0m\u001b[0mshift\u001b[0m\u001b[1;33m(\u001b[0m\u001b[1;36m1\u001b[0m\u001b[1;33m)\u001b[0m \u001b[1;33m-\u001b[0m \u001b[1;36m1\u001b[0m\u001b[1;33m\u001b[0m\u001b[1;33m\u001b[0m\u001b[0m\n\u001b[0m\u001b[0;32m      3\u001b[0m \u001b[0mdaily_pc\u001b[0m\u001b[1;33m[\u001b[0m\u001b[1;33m:\u001b[0m\u001b[1;36m5\u001b[0m\u001b[1;33m]\u001b[0m\u001b[1;33m\u001b[0m\u001b[1;33m\u001b[0m\u001b[0m\n",
      "\u001b[1;31mNameError\u001b[0m: name 'close_px' is not defined"
     ]
    }
   ],
   "source": [
    "# calculate daily percentage change\n",
    "daily_pc = close_px / close_px.shift(1) - 1\n",
    "daily_pc[:5]"
   ]
  },
  {
   "cell_type": "code",
   "execution_count": 45,
   "metadata": {},
   "outputs": [
    {
     "ename": "NameError",
     "evalue": "name 'close_px' is not defined",
     "output_type": "error",
     "traceback": [
      "\u001b[1;31m---------------------------------------------------------------------------\u001b[0m",
      "\u001b[1;31mNameError\u001b[0m                                 Traceback (most recent call last)",
      "\u001b[1;32m<ipython-input-45-4a1016f2e4c1>\u001b[0m in \u001b[0;36m<module>\u001b[1;34m\u001b[0m\n\u001b[0;32m      1\u001b[0m \u001b[1;31m# check the percentage on 2012-01-05\u001b[0m\u001b[1;33m\u001b[0m\u001b[1;33m\u001b[0m\u001b[1;33m\u001b[0m\u001b[0m\n\u001b[1;32m----> 2\u001b[1;33m \u001b[0mclose_px\u001b[0m\u001b[1;33m.\u001b[0m\u001b[0mloc\u001b[0m\u001b[1;33m[\u001b[0m\u001b[1;34m'2017-01-05'\u001b[0m\u001b[1;33m]\u001b[0m\u001b[1;33m[\u001b[0m\u001b[0muserTicke\u001b[0m\u001b[1;33m]\u001b[0m \u001b[1;33m/\u001b[0m\u001b[0;31m \u001b[0m\u001b[0;31m\\\u001b[0m\u001b[1;33m\u001b[0m\u001b[1;33m\u001b[0m\u001b[0m\n\u001b[0m\u001b[0;32m      3\u001b[0m     \u001b[0mclose_px\u001b[0m\u001b[1;33m.\u001b[0m\u001b[0mloc\u001b[0m\u001b[1;33m[\u001b[0m\u001b[1;34m'2017-01-04'\u001b[0m\u001b[1;33m]\u001b[0m\u001b[1;33m[\u001b[0m\u001b[0muserTicke\u001b[0m\u001b[1;33m]\u001b[0m \u001b[1;33m-\u001b[0m\u001b[1;36m1\u001b[0m\u001b[1;33m\u001b[0m\u001b[1;33m\u001b[0m\u001b[0m\n",
      "\u001b[1;31mNameError\u001b[0m: name 'close_px' is not defined"
     ]
    }
   ],
   "source": [
    "# check the percentage on 2012-01-05\n",
    "close_px.loc['2017-01-05'][userTicke] / \\\n",
    "    close_px.loc['2017-01-04'][userTicke] -1"
   ]
  },
  {
   "cell_type": "code",
   "execution_count": 46,
   "metadata": {
    "scrolled": true
   },
   "outputs": [
    {
     "ename": "NameError",
     "evalue": "name 'daily_pc' is not defined",
     "output_type": "error",
     "traceback": [
      "\u001b[1;31m---------------------------------------------------------------------------\u001b[0m",
      "\u001b[1;31mNameError\u001b[0m                                 Traceback (most recent call last)",
      "\u001b[1;32m<ipython-input-46-840d226a9146>\u001b[0m in \u001b[0;36m<module>\u001b[1;34m\u001b[0m\n\u001b[0;32m      1\u001b[0m \u001b[1;31m# plot daily percentage change for INO\u001b[0m\u001b[1;33m\u001b[0m\u001b[1;33m\u001b[0m\u001b[1;33m\u001b[0m\u001b[0m\n\u001b[1;32m----> 2\u001b[1;33m \u001b[0mdaily_pc\u001b[0m\u001b[1;33m[\u001b[0m\u001b[0muserTicke\u001b[0m\u001b[1;33m]\u001b[0m\u001b[1;33m.\u001b[0m\u001b[0mplot\u001b[0m\u001b[1;33m(\u001b[0m\u001b[1;33m)\u001b[0m\u001b[1;33m;\u001b[0m\u001b[1;33m\u001b[0m\u001b[1;33m\u001b[0m\u001b[0m\n\u001b[0m",
      "\u001b[1;31mNameError\u001b[0m: name 'daily_pc' is not defined"
     ]
    }
   ],
   "source": [
    "# plot daily percentage change for INO\n",
    "daily_pc[userTicke].plot();"
   ]
  },
  {
   "cell_type": "markdown",
   "metadata": {},
   "source": [
    "# Calculating simple daily cumulative returns"
   ]
  },
  {
   "cell_type": "code",
   "execution_count": null,
   "metadata": {},
   "outputs": [],
   "source": [
    "# calculate daily cumulative return\n",
    "daily_cr = (1 + daily_pc).cumprod()\n",
    "daily_cr[:5]"
   ]
  },
  {
   "cell_type": "code",
   "execution_count": null,
   "metadata": {
    "scrolled": false
   },
   "outputs": [],
   "source": [
    "# plot all the cumulative returns to get an idea \n",
    "# of the relative performance of all the stocks\n",
    "daily_cr.plot(figsize=(16,6))\n",
    "plt.legend(loc=2);"
   ]
  },
  {
   "cell_type": "markdown",
   "metadata": {},
   "source": [
    "# Resampling data from daily to monthly returns"
   ]
  },
  {
   "cell_type": "code",
   "execution_count": null,
   "metadata": {},
   "outputs": [],
   "source": [
    "# resample to end of month and forward fill values\n",
    "monthly = close_px.asfreq('M').ffill()\n",
    "monthly[:5]"
   ]
  },
  {
   "cell_type": "code",
   "execution_count": null,
   "metadata": {},
   "outputs": [],
   "source": [
    "# calculate the monthly percentage changes\n",
    "monthly_pc = monthly / monthly.shift(1) - 1\n",
    "monthly_pc[:5]"
   ]
  },
  {
   "cell_type": "code",
   "execution_count": null,
   "metadata": {},
   "outputs": [],
   "source": [
    "# calculate monthly cumulative return\n",
    "monthly_cr = (1 + monthly_pc).cumprod()\n",
    "monthly_cr[:5]"
   ]
  },
  {
   "cell_type": "code",
   "execution_count": null,
   "metadata": {
    "scrolled": true
   },
   "outputs": [],
   "source": [
    "# plot the monthly cumulative returns\n",
    "monthly_cr.plot(figsize=(16,6))\n",
    "plt.legend(loc=2);"
   ]
  },
  {
   "cell_type": "markdown",
   "metadata": {},
   "source": [
    "# Analyzing distribution of returns"
   ]
  },
  {
   "cell_type": "code",
   "execution_count": null,
   "metadata": {},
   "outputs": [],
   "source": [
    "# histogram of the daily percentage change for AAPL\n",
    "aapl = daily_pc[userTicke]\n",
    "aapl.hist(bins=50);"
   ]
  },
  {
   "cell_type": "code",
   "execution_count": null,
   "metadata": {
    "scrolled": true
   },
   "outputs": [],
   "source": [
    "# matrix of all stocks daily % changes histograms\n",
    "daily_pc.hist(bins=50, figsize=(16,6));"
   ]
  },
  {
   "cell_type": "markdown",
   "metadata": {},
   "source": [
    "# Performing moving average calculation"
   ]
  },
  {
   "cell_type": "code",
   "execution_count": null,
   "metadata": {},
   "outputs": [],
   "source": [
    "# extract just INO close\n",
    "INO_close = close_px[[userTicke]][userTicke]\n",
    "# calculate the 30 and 90 day rolling means\n",
    "ma_30 = INO_close.rolling(window=30).mean()\n",
    "ma_90 = INO_close.rolling(window=90).mean()\n",
    "# compose into a DataFrame that can be plotted\n",
    "result = pd.DataFrame({'Close': INO_close, \n",
    "                       '30_MA_Close': ma_30,\n",
    "                       '90_MA_Close': ma_90})\n",
    "# plot all the series against each other\n",
    "result.plot(title=\"INO Close Price\")\n",
    "plt.gcf().set_size_inches(15,8)\n",
    "result"
   ]
  },
  {
   "cell_type": "markdown",
   "metadata": {},
   "source": [
    "# Comparision of average daily returns across stocks"
   ]
  },
  {
   "cell_type": "code",
   "execution_count": null,
   "metadata": {},
   "outputs": [],
   "source": [
    "# plot the daily percentage change of MSFT vs AAPL\n",
    "plt.scatter(daily_pc[userTicke], daily_pc['SAGE'])\n",
    "plt.xlabel(userTicke)\n",
    "plt.ylabel('SAGE');"
   ]
  },
  {
   "cell_type": "code",
   "execution_count": null,
   "metadata": {},
   "outputs": [],
   "source": [
    "# demonstrate perfect correlation\n",
    "plt.scatter(daily_pc[userTicke], daily_pc[userTicke]);"
   ]
  },
  {
   "cell_type": "code",
   "execution_count": null,
   "metadata": {
    "scrolled": false
   },
   "outputs": [],
   "source": [
    "#from pandas.plotting import scatter_matrix\n",
    "from pandas.plotting._misc import scatter_matrix\n",
    "# plot the scatter of daily price changed for ALL stocks\n",
    "scatter_matrix(daily_pc, diagonal='kde', figsize=(14,12));"
   ]
  },
  {
   "cell_type": "markdown",
   "metadata": {},
   "source": [
    "# Correlation of stocks based upon daily percentage change of closing price"
   ]
  },
  {
   "cell_type": "code",
   "execution_count": null,
   "metadata": {},
   "outputs": [],
   "source": [
    "# calculate the correlation between all the stocks relative\n",
    "# to daily percentage change\n",
    "corrs = daily_pc.corr()\n",
    "corrs"
   ]
  },
  {
   "cell_type": "code",
   "execution_count": null,
   "metadata": {
    "scrolled": true
   },
   "outputs": [],
   "source": [
    "# plot a heatmap of the correlations\n",
    "plt.imshow(corrs, cmap='hot', interpolation='none')\n",
    "plt.colorbar()\n",
    "plt.xticks(range(len(corrs)), corrs.columns)\n",
    "plt.yticks(range(len(corrs)), corrs.columns)\n",
    "plt.gcf().set_size_inches(12,10)"
   ]
  },
  {
   "cell_type": "markdown",
   "metadata": {},
   "source": [
    "# Volatility"
   ]
  },
  {
   "cell_type": "code",
   "execution_count": null,
   "metadata": {
    "scrolled": true
   },
   "outputs": [],
   "source": [
    "# 75 period minimum\n",
    "min_periods = 75\n",
    "# calculate the volatility\n",
    "vol = daily_pc.rolling(window=min_periods).std() * \\\n",
    "        np.sqrt(min_periods)\n",
    "# plot  \n",
    "vol.plot(figsize=(16, 8));"
   ]
  },
  {
   "cell_type": "markdown",
   "metadata": {},
   "source": [
    "# Determining risk relative to expected returns"
   ]
  },
  {
   "cell_type": "code",
   "execution_count": null,
   "metadata": {
    "scrolled": true
   },
   "outputs": [],
   "source": [
    "# generate a scatter of the mean vs std of daily % change\n",
    "plt.scatter(daily_pc.mean(), daily_pc.std())\n",
    "plt.xlabel('Expected returns')\n",
    "plt.ylabel('Risk')\n",
    "\n",
    "# this adds fancy labels to each dot, with an arrow too\n",
    "for label, x, y in zip(daily_pc.columns, \n",
    "                       daily_pc.mean(), \n",
    "                       daily_pc.std()):\n",
    "    plt.annotate(\n",
    "        label, \n",
    "        xy = (x, y), xytext = (30, -30),\n",
    "        textcoords = 'offset points', ha = 'right', \n",
    "        va = 'bottom',\n",
    "        bbox = dict(boxstyle = 'round,pad=0.5', \n",
    "                    fc = 'yellow', \n",
    "                    alpha = 0.5),\n",
    "        arrowprops = dict(arrowstyle = '->', \n",
    "                          connectionstyle = 'arc3,rad=0'))\n",
    "\n",
    "# set ranges and scales for good presentation\n",
    "plt.xlim(-0.001, 0.003)\n",
    "plt.ylim(0.005, 0.0600)\n",
    "\n",
    "# set size\n",
    "plt.gcf().set_size_inches(10,8)"
   ]
  },
  {
   "cell_type": "code",
   "execution_count": null,
   "metadata": {},
   "outputs": [],
   "source": []
  },
  {
   "cell_type": "code",
   "execution_count": null,
   "metadata": {},
   "outputs": [],
   "source": []
  }
 ],
 "metadata": {
  "kernelspec": {
   "display_name": "Python 3",
   "language": "python",
   "name": "python3"
  },
  "language_info": {
   "codemirror_mode": {
    "name": "ipython",
    "version": 3
   },
   "file_extension": ".py",
   "mimetype": "text/x-python",
   "name": "python",
   "nbconvert_exporter": "python",
   "pygments_lexer": "ipython3",
   "version": "3.7.6"
  }
 },
 "nbformat": 4,
 "nbformat_minor": 1
}
